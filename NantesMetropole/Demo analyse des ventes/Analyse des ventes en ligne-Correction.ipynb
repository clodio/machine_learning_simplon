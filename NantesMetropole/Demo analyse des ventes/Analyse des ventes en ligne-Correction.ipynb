{
 "cells": [
  {
   "cell_type": "markdown",
   "id": "47a9717c",
   "metadata": {},
   "source": [
    "# Révision - Analyse de données sur les ventes d'une librairie"
   ]
  },
  {
   "cell_type": "markdown",
   "id": "3fc52434",
   "metadata": {},
   "source": [
    "# 0 - contexte et objectifs"
   ]
  },
  {
   "cell_type": "markdown",
   "id": "f57eae9b",
   "metadata": {},
   "source": [
    "Vous travaillez au service marketing de Lapage, une grande librairie généraliste en ligne.\n",
    "\n",
    "Lapage était originellement une librairie physique avec plusieurs points de vente. \n",
    "Mais devant le succès de certains de ses produits et l’engouement de ses clients, \n",
    "elle a décidé depuis 2 ans d’ouvrir un site de vente en ligne. Vous intervenez car l’entreprise souhaite faire le point : analyser ses points forts, ses points faibles, les comportements clients, etc. Par exemple, elle cherche à savoir si elle doit créer certaines offres, adapter certains prix, etc.\n",
    "\n",
    "On vous demande de faire une analyse en deux parties :\n",
    "\n",
    "Partie I - analyse des différents indicateurs généraux\n",
    "\n",
    "    Construire des indicateurs et graphiques autour du chiffre d'affaires. Rregarder l’évolution dans le temps\n",
    "    faire un zoom sur les références, pour voir les tops et les flops, la répartition par catégorie, etc.\n",
    "    etudier les profils des clients, et également la répartition du chiffre d'affaires entre eux\n",
    "\n",
    "Partie II - comportement des clients l’objectif est cette fois-ci de comprendre le comportement des clients en ligne.\n",
    "\n",
    "    étudier le lien entre le genre d’un client et les catégories des livres achetés\n",
    "    étudier ensuite le lien entre l’âge des clients et le montant total des achats, la fréquence d’achat, la taille du panier moyen et les catégories des livres achetés.\n",
    "\n"
   ]
  },
  {
   "cell_type": "markdown",
   "id": "f1aae4f7",
   "metadata": {},
   "source": [
    "# 1 - Exploration et  nettoyage des données "
   ]
  },
  {
   "cell_type": "code",
   "execution_count": 1,
   "id": "529fa65f",
   "metadata": {},
   "outputs": [],
   "source": [
    "# Import de la librairie Pandas\n",
    "import pandas as pd\n",
    "\n",
    "# Import de la librairie matplotlib\n",
    "import matplotlib.pyplot as plt"
   ]
  },
  {
   "cell_type": "markdown",
   "id": "1fed5c36",
   "metadata": {},
   "source": [
    "## 1.1 - Chargement des données"
   ]
  },
  {
   "cell_type": "markdown",
   "id": "74c1e7df",
   "metadata": {},
   "source": [
    "Si vous utilisez anaconda -> je vous conseille de mettre les fichiers csv dans le même répertoire que le notebook\n",
    "\n",
    "Si vous utilisez google colab ->  il faut exécuter le code ci-dessous. \n",
    "\n",
    "from google.colab import files\n",
    "data_to_load = files.upload()"
   ]
  },
  {
   "cell_type": "markdown",
   "id": "10e9511d",
   "metadata": {},
   "source": [
    "### 1.1.1 - customers"
   ]
  },
  {
   "cell_type": "code",
   "execution_count": 2,
   "id": "f95105c6",
   "metadata": {},
   "outputs": [],
   "source": [
    "# Ouverture du fichier\n",
    "customers = pd.read_csv('customers.csv')"
   ]
  },
  {
   "cell_type": "code",
   "execution_count": 3,
   "id": "9602241d",
   "metadata": {},
   "outputs": [
    {
     "name": "stdout",
     "output_type": "stream",
     "text": [
      "<class 'pandas.core.frame.DataFrame'>\n",
      "RangeIndex: 8623 entries, 0 to 8622\n",
      "Data columns (total 3 columns):\n",
      " #   Column     Non-Null Count  Dtype \n",
      "---  ------     --------------  ----- \n",
      " 0   client_id  8623 non-null   object\n",
      " 1   sex        8623 non-null   object\n",
      " 2   birth      8623 non-null   int64 \n",
      "dtypes: int64(1), object(2)\n",
      "memory usage: 202.2+ KB\n"
     ]
    }
   ],
   "source": [
    "# Affichage des informations \n",
    "customers.info()"
   ]
  },
  {
   "cell_type": "code",
   "execution_count": 4,
   "id": "94b6b072",
   "metadata": {},
   "outputs": [
    {
     "data": {
      "text/html": [
       "<div>\n",
       "<style scoped>\n",
       "    .dataframe tbody tr th:only-of-type {\n",
       "        vertical-align: middle;\n",
       "    }\n",
       "\n",
       "    .dataframe tbody tr th {\n",
       "        vertical-align: top;\n",
       "    }\n",
       "\n",
       "    .dataframe thead th {\n",
       "        text-align: right;\n",
       "    }\n",
       "</style>\n",
       "<table border=\"1\" class=\"dataframe\">\n",
       "  <thead>\n",
       "    <tr style=\"text-align: right;\">\n",
       "      <th></th>\n",
       "      <th>client_id</th>\n",
       "      <th>sex</th>\n",
       "      <th>birth</th>\n",
       "    </tr>\n",
       "  </thead>\n",
       "  <tbody>\n",
       "    <tr>\n",
       "      <th>0</th>\n",
       "      <td>c_4410</td>\n",
       "      <td>f</td>\n",
       "      <td>1967</td>\n",
       "    </tr>\n",
       "    <tr>\n",
       "      <th>1</th>\n",
       "      <td>c_7839</td>\n",
       "      <td>f</td>\n",
       "      <td>1975</td>\n",
       "    </tr>\n",
       "    <tr>\n",
       "      <th>2</th>\n",
       "      <td>c_1699</td>\n",
       "      <td>f</td>\n",
       "      <td>1984</td>\n",
       "    </tr>\n",
       "    <tr>\n",
       "      <th>3</th>\n",
       "      <td>c_5961</td>\n",
       "      <td>f</td>\n",
       "      <td>1962</td>\n",
       "    </tr>\n",
       "    <tr>\n",
       "      <th>4</th>\n",
       "      <td>c_5320</td>\n",
       "      <td>m</td>\n",
       "      <td>1943</td>\n",
       "    </tr>\n",
       "  </tbody>\n",
       "</table>\n",
       "</div>"
      ],
      "text/plain": [
       "  client_id sex  birth\n",
       "0    c_4410   f   1967\n",
       "1    c_7839   f   1975\n",
       "2    c_1699   f   1984\n",
       "3    c_5961   f   1962\n",
       "4    c_5320   m   1943"
      ]
     },
     "execution_count": 4,
     "metadata": {},
     "output_type": "execute_result"
    }
   ],
   "source": [
    "# Affichage des premières lignes\n",
    "\n",
    "customers.head()"
   ]
  },
  {
   "cell_type": "code",
   "execution_count": 5,
   "id": "79521aed",
   "metadata": {},
   "outputs": [
    {
     "data": {
      "text/html": [
       "<div>\n",
       "<style scoped>\n",
       "    .dataframe tbody tr th:only-of-type {\n",
       "        vertical-align: middle;\n",
       "    }\n",
       "\n",
       "    .dataframe tbody tr th {\n",
       "        vertical-align: top;\n",
       "    }\n",
       "\n",
       "    .dataframe thead th {\n",
       "        text-align: right;\n",
       "    }\n",
       "</style>\n",
       "<table border=\"1\" class=\"dataframe\">\n",
       "  <thead>\n",
       "    <tr style=\"text-align: right;\">\n",
       "      <th></th>\n",
       "      <th>client_id</th>\n",
       "      <th>sex</th>\n",
       "      <th>birth</th>\n",
       "    </tr>\n",
       "  </thead>\n",
       "  <tbody>\n",
       "    <tr>\n",
       "      <th>count</th>\n",
       "      <td>8623</td>\n",
       "      <td>8623</td>\n",
       "      <td>8623.000000</td>\n",
       "    </tr>\n",
       "    <tr>\n",
       "      <th>unique</th>\n",
       "      <td>8623</td>\n",
       "      <td>2</td>\n",
       "      <td>NaN</td>\n",
       "    </tr>\n",
       "    <tr>\n",
       "      <th>top</th>\n",
       "      <td>c_4410</td>\n",
       "      <td>f</td>\n",
       "      <td>NaN</td>\n",
       "    </tr>\n",
       "    <tr>\n",
       "      <th>freq</th>\n",
       "      <td>1</td>\n",
       "      <td>4491</td>\n",
       "      <td>NaN</td>\n",
       "    </tr>\n",
       "    <tr>\n",
       "      <th>mean</th>\n",
       "      <td>NaN</td>\n",
       "      <td>NaN</td>\n",
       "      <td>1978.280877</td>\n",
       "    </tr>\n",
       "    <tr>\n",
       "      <th>std</th>\n",
       "      <td>NaN</td>\n",
       "      <td>NaN</td>\n",
       "      <td>16.919535</td>\n",
       "    </tr>\n",
       "    <tr>\n",
       "      <th>min</th>\n",
       "      <td>NaN</td>\n",
       "      <td>NaN</td>\n",
       "      <td>1929.000000</td>\n",
       "    </tr>\n",
       "    <tr>\n",
       "      <th>25%</th>\n",
       "      <td>NaN</td>\n",
       "      <td>NaN</td>\n",
       "      <td>1966.000000</td>\n",
       "    </tr>\n",
       "    <tr>\n",
       "      <th>50%</th>\n",
       "      <td>NaN</td>\n",
       "      <td>NaN</td>\n",
       "      <td>1979.000000</td>\n",
       "    </tr>\n",
       "    <tr>\n",
       "      <th>75%</th>\n",
       "      <td>NaN</td>\n",
       "      <td>NaN</td>\n",
       "      <td>1992.000000</td>\n",
       "    </tr>\n",
       "    <tr>\n",
       "      <th>max</th>\n",
       "      <td>NaN</td>\n",
       "      <td>NaN</td>\n",
       "      <td>2004.000000</td>\n",
       "    </tr>\n",
       "  </tbody>\n",
       "</table>\n",
       "</div>"
      ],
      "text/plain": [
       "       client_id   sex        birth\n",
       "count       8623  8623  8623.000000\n",
       "unique      8623     2          NaN\n",
       "top       c_4410     f          NaN\n",
       "freq           1  4491          NaN\n",
       "mean         NaN   NaN  1978.280877\n",
       "std          NaN   NaN    16.919535\n",
       "min          NaN   NaN  1929.000000\n",
       "25%          NaN   NaN  1966.000000\n",
       "50%          NaN   NaN  1979.000000\n",
       "75%          NaN   NaN  1992.000000\n",
       "max          NaN   NaN  2004.000000"
      ]
     },
     "execution_count": 5,
     "metadata": {},
     "output_type": "execute_result"
    }
   ],
   "source": [
    "# Stats du dataframe\n",
    "customers.describe(include = 'all')"
   ]
  },
  {
   "cell_type": "markdown",
   "id": "a1f1b46f",
   "metadata": {},
   "source": [
    "Ce fichier comprend 3 colonnes :\n",
    "\n",
    "    Client_id : référence de chaque client\n",
    "    Sex : le genre du client\n",
    "    Birth : l'année de naissance du client\n",
    "\n"
   ]
  },
  {
   "cell_type": "code",
   "execution_count": 6,
   "id": "ed623c6b",
   "metadata": {},
   "outputs": [
    {
     "data": {
      "text/plain": [
       "client_id    0.0\n",
       "sex          0.0\n",
       "birth        0.0\n",
       "dtype: float64"
      ]
     },
     "execution_count": 6,
     "metadata": {},
     "output_type": "execute_result"
    }
   ],
   "source": [
    "#valeurs manquantes\n",
    "customers.isna().mean()"
   ]
  },
  {
   "cell_type": "code",
   "execution_count": 7,
   "id": "f98bba2a",
   "metadata": {},
   "outputs": [
    {
     "data": {
      "text/plain": [
       "0"
      ]
     },
     "execution_count": 7,
     "metadata": {},
     "output_type": "execute_result"
    }
   ],
   "source": [
    "#Doublon\n",
    "customers.duplicated().sum()"
   ]
  },
  {
   "cell_type": "code",
   "execution_count": 8,
   "id": "921d56a8",
   "metadata": {},
   "outputs": [
    {
     "name": "stdout",
     "output_type": "stream",
     "text": [
      "Il y a 8623 clients uniques\n"
     ]
    }
   ],
   "source": [
    "print(\"Il y a\", customers.describe(include = 'all').loc[\"unique\",\"client_id\"], \"clients uniques\")"
   ]
  },
  {
   "cell_type": "code",
   "execution_count": 9,
   "id": "c8bb43b4",
   "metadata": {},
   "outputs": [
    {
     "name": "stdout",
     "output_type": "stream",
     "text": [
      "L'age moyen est : 44 ans\n"
     ]
    }
   ],
   "source": [
    "print(\"L'age moyen est :\", 2022- round(customers.describe(include = 'all').loc[\"mean\",\"birth\"]), \"ans\")"
   ]
  },
  {
   "cell_type": "code",
   "execution_count": 10,
   "id": "19d9db85",
   "metadata": {},
   "outputs": [
    {
     "name": "stdout",
     "output_type": "stream",
     "text": [
      "La part des femmes : 0.52 %\n"
     ]
    }
   ],
   "source": [
    "print(\"La part des femmes :\", round(customers.describe(include = 'all').loc[\"freq\",\"sex\"] / \n",
    "      customers.describe(include = 'all').loc[\"count\",\"sex\"],2), \"%\")"
   ]
  },
  {
   "cell_type": "code",
   "execution_count": 11,
   "id": "d5e00cc3",
   "metadata": {},
   "outputs": [
    {
     "data": {
      "text/html": [
       "<div>\n",
       "<style scoped>\n",
       "    .dataframe tbody tr th:only-of-type {\n",
       "        vertical-align: middle;\n",
       "    }\n",
       "\n",
       "    .dataframe tbody tr th {\n",
       "        vertical-align: top;\n",
       "    }\n",
       "\n",
       "    .dataframe thead th {\n",
       "        text-align: right;\n",
       "    }\n",
       "</style>\n",
       "<table border=\"1\" class=\"dataframe\">\n",
       "  <thead>\n",
       "    <tr style=\"text-align: right;\">\n",
       "      <th></th>\n",
       "      <th>birth</th>\n",
       "    </tr>\n",
       "    <tr>\n",
       "      <th>sex</th>\n",
       "      <th></th>\n",
       "    </tr>\n",
       "  </thead>\n",
       "  <tbody>\n",
       "    <tr>\n",
       "      <th>f</th>\n",
       "      <td>44.005121</td>\n",
       "    </tr>\n",
       "    <tr>\n",
       "      <th>m</th>\n",
       "      <td>43.408277</td>\n",
       "    </tr>\n",
       "  </tbody>\n",
       "</table>\n",
       "</div>"
      ],
      "text/plain": [
       "         birth\n",
       "sex           \n",
       "f    44.005121\n",
       "m    43.408277"
      ]
     },
     "execution_count": 11,
     "metadata": {},
     "output_type": "execute_result"
    }
   ],
   "source": [
    "#calculons l'age moyen par sexe \n",
    "\n",
    "2022 - customers.groupby(\"sex\").mean()"
   ]
  },
  {
   "cell_type": "markdown",
   "id": "e0d879a8",
   "metadata": {},
   "source": [
    "Le fichier customers n'a pas de valeurs nulles ni de doublons.\n"
   ]
  },
  {
   "cell_type": "markdown",
   "id": "a3641ba9",
   "metadata": {},
   "source": [
    "### 1.1.2 - products"
   ]
  },
  {
   "cell_type": "code",
   "execution_count": 12,
   "id": "3a6498cf",
   "metadata": {},
   "outputs": [],
   "source": [
    "# Ouverture du fichier\n",
    "products = pd.read_csv('products.csv')\n"
   ]
  },
  {
   "cell_type": "code",
   "execution_count": 13,
   "id": "4004336d",
   "metadata": {},
   "outputs": [
    {
     "name": "stdout",
     "output_type": "stream",
     "text": [
      "<class 'pandas.core.frame.DataFrame'>\n",
      "RangeIndex: 3287 entries, 0 to 3286\n",
      "Data columns (total 3 columns):\n",
      " #   Column   Non-Null Count  Dtype  \n",
      "---  ------   --------------  -----  \n",
      " 0   id_prod  3287 non-null   object \n",
      " 1   price    3287 non-null   float64\n",
      " 2   categ    3287 non-null   int64  \n",
      "dtypes: float64(1), int64(1), object(1)\n",
      "memory usage: 77.2+ KB\n"
     ]
    }
   ],
   "source": [
    "# Affichage des informations \n",
    "\n",
    "products.info()"
   ]
  },
  {
   "cell_type": "code",
   "execution_count": 14,
   "id": "e3190028",
   "metadata": {},
   "outputs": [
    {
     "data": {
      "text/html": [
       "<div>\n",
       "<style scoped>\n",
       "    .dataframe tbody tr th:only-of-type {\n",
       "        vertical-align: middle;\n",
       "    }\n",
       "\n",
       "    .dataframe tbody tr th {\n",
       "        vertical-align: top;\n",
       "    }\n",
       "\n",
       "    .dataframe thead th {\n",
       "        text-align: right;\n",
       "    }\n",
       "</style>\n",
       "<table border=\"1\" class=\"dataframe\">\n",
       "  <thead>\n",
       "    <tr style=\"text-align: right;\">\n",
       "      <th></th>\n",
       "      <th>id_prod</th>\n",
       "      <th>price</th>\n",
       "      <th>categ</th>\n",
       "    </tr>\n",
       "  </thead>\n",
       "  <tbody>\n",
       "    <tr>\n",
       "      <th>0</th>\n",
       "      <td>0_1421</td>\n",
       "      <td>19.99</td>\n",
       "      <td>0</td>\n",
       "    </tr>\n",
       "    <tr>\n",
       "      <th>1</th>\n",
       "      <td>0_1368</td>\n",
       "      <td>5.13</td>\n",
       "      <td>0</td>\n",
       "    </tr>\n",
       "    <tr>\n",
       "      <th>2</th>\n",
       "      <td>0_731</td>\n",
       "      <td>17.99</td>\n",
       "      <td>0</td>\n",
       "    </tr>\n",
       "    <tr>\n",
       "      <th>3</th>\n",
       "      <td>1_587</td>\n",
       "      <td>4.99</td>\n",
       "      <td>1</td>\n",
       "    </tr>\n",
       "    <tr>\n",
       "      <th>4</th>\n",
       "      <td>0_1507</td>\n",
       "      <td>3.99</td>\n",
       "      <td>0</td>\n",
       "    </tr>\n",
       "  </tbody>\n",
       "</table>\n",
       "</div>"
      ],
      "text/plain": [
       "  id_prod  price  categ\n",
       "0  0_1421  19.99      0\n",
       "1  0_1368   5.13      0\n",
       "2   0_731  17.99      0\n",
       "3   1_587   4.99      1\n",
       "4  0_1507   3.99      0"
      ]
     },
     "execution_count": 14,
     "metadata": {},
     "output_type": "execute_result"
    }
   ],
   "source": [
    "# Affichage des premières lignes\n",
    "products.head()\n"
   ]
  },
  {
   "cell_type": "code",
   "execution_count": 15,
   "id": "39c0345b",
   "metadata": {},
   "outputs": [
    {
     "data": {
      "text/plain": [
       "id_prod    0.0\n",
       "price      0.0\n",
       "categ      0.0\n",
       "dtype: float64"
      ]
     },
     "execution_count": 15,
     "metadata": {},
     "output_type": "execute_result"
    }
   ],
   "source": [
    "#valeurs manquantes\n",
    "\n",
    "products.isna().mean()"
   ]
  },
  {
   "cell_type": "code",
   "execution_count": 16,
   "id": "ba61bf34",
   "metadata": {},
   "outputs": [
    {
     "data": {
      "text/plain": [
       "0"
      ]
     },
     "execution_count": 16,
     "metadata": {},
     "output_type": "execute_result"
    }
   ],
   "source": [
    "#Doublon\n",
    "\n",
    "products.duplicated().sum()"
   ]
  },
  {
   "cell_type": "code",
   "execution_count": 17,
   "id": "ac21d13e",
   "metadata": {},
   "outputs": [
    {
     "data": {
      "text/html": [
       "<div>\n",
       "<style scoped>\n",
       "    .dataframe tbody tr th:only-of-type {\n",
       "        vertical-align: middle;\n",
       "    }\n",
       "\n",
       "    .dataframe tbody tr th {\n",
       "        vertical-align: top;\n",
       "    }\n",
       "\n",
       "    .dataframe thead th {\n",
       "        text-align: right;\n",
       "    }\n",
       "</style>\n",
       "<table border=\"1\" class=\"dataframe\">\n",
       "  <thead>\n",
       "    <tr style=\"text-align: right;\">\n",
       "      <th></th>\n",
       "      <th>id_prod</th>\n",
       "      <th>price</th>\n",
       "      <th>categ</th>\n",
       "    </tr>\n",
       "  </thead>\n",
       "  <tbody>\n",
       "    <tr>\n",
       "      <th>count</th>\n",
       "      <td>3287</td>\n",
       "      <td>3287.000000</td>\n",
       "      <td>3287.000000</td>\n",
       "    </tr>\n",
       "    <tr>\n",
       "      <th>unique</th>\n",
       "      <td>3287</td>\n",
       "      <td>NaN</td>\n",
       "      <td>NaN</td>\n",
       "    </tr>\n",
       "    <tr>\n",
       "      <th>top</th>\n",
       "      <td>0_1421</td>\n",
       "      <td>NaN</td>\n",
       "      <td>NaN</td>\n",
       "    </tr>\n",
       "    <tr>\n",
       "      <th>freq</th>\n",
       "      <td>1</td>\n",
       "      <td>NaN</td>\n",
       "      <td>NaN</td>\n",
       "    </tr>\n",
       "    <tr>\n",
       "      <th>mean</th>\n",
       "      <td>NaN</td>\n",
       "      <td>21.856641</td>\n",
       "      <td>0.370246</td>\n",
       "    </tr>\n",
       "    <tr>\n",
       "      <th>std</th>\n",
       "      <td>NaN</td>\n",
       "      <td>29.847908</td>\n",
       "      <td>0.615387</td>\n",
       "    </tr>\n",
       "    <tr>\n",
       "      <th>min</th>\n",
       "      <td>NaN</td>\n",
       "      <td>-1.000000</td>\n",
       "      <td>0.000000</td>\n",
       "    </tr>\n",
       "    <tr>\n",
       "      <th>25%</th>\n",
       "      <td>NaN</td>\n",
       "      <td>6.990000</td>\n",
       "      <td>0.000000</td>\n",
       "    </tr>\n",
       "    <tr>\n",
       "      <th>50%</th>\n",
       "      <td>NaN</td>\n",
       "      <td>13.060000</td>\n",
       "      <td>0.000000</td>\n",
       "    </tr>\n",
       "    <tr>\n",
       "      <th>75%</th>\n",
       "      <td>NaN</td>\n",
       "      <td>22.990000</td>\n",
       "      <td>1.000000</td>\n",
       "    </tr>\n",
       "    <tr>\n",
       "      <th>max</th>\n",
       "      <td>NaN</td>\n",
       "      <td>300.000000</td>\n",
       "      <td>2.000000</td>\n",
       "    </tr>\n",
       "  </tbody>\n",
       "</table>\n",
       "</div>"
      ],
      "text/plain": [
       "       id_prod        price        categ\n",
       "count     3287  3287.000000  3287.000000\n",
       "unique    3287          NaN          NaN\n",
       "top     0_1421          NaN          NaN\n",
       "freq         1          NaN          NaN\n",
       "mean       NaN    21.856641     0.370246\n",
       "std        NaN    29.847908     0.615387\n",
       "min        NaN    -1.000000     0.000000\n",
       "25%        NaN     6.990000     0.000000\n",
       "50%        NaN    13.060000     0.000000\n",
       "75%        NaN    22.990000     1.000000\n",
       "max        NaN   300.000000     2.000000"
      ]
     },
     "execution_count": 17,
     "metadata": {},
     "output_type": "execute_result"
    }
   ],
   "source": [
    "# Stats du dataframe\n",
    "products.describe(include=\"all\")\n"
   ]
  },
  {
   "cell_type": "markdown",
   "id": "f3201023",
   "metadata": {},
   "source": [
    "Votre conclusion ?\n",
    "\n"
   ]
  },
  {
   "cell_type": "code",
   "execution_count": 18,
   "id": "656023db",
   "metadata": {},
   "outputs": [
    {
     "data": {
      "text/html": [
       "<div>\n",
       "<style scoped>\n",
       "    .dataframe tbody tr th:only-of-type {\n",
       "        vertical-align: middle;\n",
       "    }\n",
       "\n",
       "    .dataframe tbody tr th {\n",
       "        vertical-align: top;\n",
       "    }\n",
       "\n",
       "    .dataframe thead th {\n",
       "        text-align: right;\n",
       "    }\n",
       "</style>\n",
       "<table border=\"1\" class=\"dataframe\">\n",
       "  <thead>\n",
       "    <tr style=\"text-align: right;\">\n",
       "      <th></th>\n",
       "      <th>price</th>\n",
       "    </tr>\n",
       "    <tr>\n",
       "      <th>categ</th>\n",
       "      <th></th>\n",
       "    </tr>\n",
       "  </thead>\n",
       "  <tbody>\n",
       "    <tr>\n",
       "      <th>0</th>\n",
       "      <td>11.727280</td>\n",
       "    </tr>\n",
       "    <tr>\n",
       "      <th>1</th>\n",
       "      <td>25.531421</td>\n",
       "    </tr>\n",
       "    <tr>\n",
       "      <th>2</th>\n",
       "      <td>108.354686</td>\n",
       "    </tr>\n",
       "  </tbody>\n",
       "</table>\n",
       "</div>"
      ],
      "text/plain": [
       "            price\n",
       "categ            \n",
       "0       11.727280\n",
       "1       25.531421\n",
       "2      108.354686"
      ]
     },
     "execution_count": 18,
     "metadata": {},
     "output_type": "execute_result"
    }
   ],
   "source": [
    "# calculer le prix moyen des produits par catégorie\n",
    "\n",
    "products.groupby(\"categ\").mean()"
   ]
  },
  {
   "cell_type": "markdown",
   "id": "cb74462c",
   "metadata": {},
   "source": [
    "### 1.1.3 - transactions\n"
   ]
  },
  {
   "cell_type": "code",
   "execution_count": 19,
   "id": "819f82ba",
   "metadata": {},
   "outputs": [],
   "source": [
    "# Ouverture du fichier\n",
    "transactions = pd.read_csv('transactions.csv')"
   ]
  },
  {
   "cell_type": "code",
   "execution_count": 20,
   "id": "212deeac",
   "metadata": {},
   "outputs": [
    {
     "name": "stdout",
     "output_type": "stream",
     "text": [
      "<class 'pandas.core.frame.DataFrame'>\n",
      "RangeIndex: 679532 entries, 0 to 679531\n",
      "Data columns (total 4 columns):\n",
      " #   Column      Non-Null Count   Dtype \n",
      "---  ------      --------------   ----- \n",
      " 0   id_prod     679532 non-null  object\n",
      " 1   date        679532 non-null  object\n",
      " 2   session_id  679532 non-null  object\n",
      " 3   client_id   679532 non-null  object\n",
      "dtypes: object(4)\n",
      "memory usage: 20.7+ MB\n"
     ]
    }
   ],
   "source": [
    "# Affichage des informations \n",
    "transactions.info()"
   ]
  },
  {
   "cell_type": "code",
   "execution_count": 21,
   "id": "5fdf3a08",
   "metadata": {},
   "outputs": [
    {
     "data": {
      "text/html": [
       "<div>\n",
       "<style scoped>\n",
       "    .dataframe tbody tr th:only-of-type {\n",
       "        vertical-align: middle;\n",
       "    }\n",
       "\n",
       "    .dataframe tbody tr th {\n",
       "        vertical-align: top;\n",
       "    }\n",
       "\n",
       "    .dataframe thead th {\n",
       "        text-align: right;\n",
       "    }\n",
       "</style>\n",
       "<table border=\"1\" class=\"dataframe\">\n",
       "  <thead>\n",
       "    <tr style=\"text-align: right;\">\n",
       "      <th></th>\n",
       "      <th>id_prod</th>\n",
       "      <th>date</th>\n",
       "      <th>session_id</th>\n",
       "      <th>client_id</th>\n",
       "    </tr>\n",
       "  </thead>\n",
       "  <tbody>\n",
       "    <tr>\n",
       "      <th>count</th>\n",
       "      <td>679532</td>\n",
       "      <td>679532</td>\n",
       "      <td>679532</td>\n",
       "      <td>679532</td>\n",
       "    </tr>\n",
       "    <tr>\n",
       "      <th>unique</th>\n",
       "      <td>3267</td>\n",
       "      <td>679371</td>\n",
       "      <td>342316</td>\n",
       "      <td>8602</td>\n",
       "    </tr>\n",
       "    <tr>\n",
       "      <th>top</th>\n",
       "      <td>1_369</td>\n",
       "      <td>test_2021-03-01 02:30:02.237413</td>\n",
       "      <td>s_0</td>\n",
       "      <td>c_1609</td>\n",
       "    </tr>\n",
       "    <tr>\n",
       "      <th>freq</th>\n",
       "      <td>2252</td>\n",
       "      <td>13</td>\n",
       "      <td>200</td>\n",
       "      <td>25488</td>\n",
       "    </tr>\n",
       "  </tbody>\n",
       "</table>\n",
       "</div>"
      ],
      "text/plain": [
       "       id_prod                             date session_id client_id\n",
       "count   679532                           679532     679532    679532\n",
       "unique    3267                           679371     342316      8602\n",
       "top      1_369  test_2021-03-01 02:30:02.237413        s_0    c_1609\n",
       "freq      2252                               13        200     25488"
      ]
     },
     "execution_count": 21,
     "metadata": {},
     "output_type": "execute_result"
    }
   ],
   "source": [
    "# Stats du dataframe\n",
    "transactions.describe(include=\"all\")"
   ]
  },
  {
   "cell_type": "code",
   "execution_count": 22,
   "id": "2d808fdf",
   "metadata": {},
   "outputs": [
    {
     "data": {
      "text/plain": [
       "id_prod       0.0\n",
       "date          0.0\n",
       "session_id    0.0\n",
       "client_id     0.0\n",
       "dtype: float64"
      ]
     },
     "execution_count": 22,
     "metadata": {},
     "output_type": "execute_result"
    }
   ],
   "source": [
    "#valeurs manquantes\n",
    "transactions.isna().mean()"
   ]
  },
  {
   "cell_type": "code",
   "execution_count": 23,
   "id": "93d6c2be",
   "metadata": {},
   "outputs": [
    {
     "data": {
      "text/plain": [
       "126"
      ]
     },
     "execution_count": 23,
     "metadata": {},
     "output_type": "execute_result"
    }
   ],
   "source": [
    "#Doublon\n",
    "transactions.duplicated().sum()\n"
   ]
  },
  {
   "cell_type": "code",
   "execution_count": 24,
   "id": "e500033b",
   "metadata": {},
   "outputs": [
    {
     "data": {
      "text/html": [
       "<div>\n",
       "<style scoped>\n",
       "    .dataframe tbody tr th:only-of-type {\n",
       "        vertical-align: middle;\n",
       "    }\n",
       "\n",
       "    .dataframe tbody tr th {\n",
       "        vertical-align: top;\n",
       "    }\n",
       "\n",
       "    .dataframe thead th {\n",
       "        text-align: right;\n",
       "    }\n",
       "</style>\n",
       "<table border=\"1\" class=\"dataframe\">\n",
       "  <thead>\n",
       "    <tr style=\"text-align: right;\">\n",
       "      <th></th>\n",
       "      <th>id_prod</th>\n",
       "      <th>date</th>\n",
       "      <th>session_id</th>\n",
       "      <th>client_id</th>\n",
       "    </tr>\n",
       "  </thead>\n",
       "  <tbody>\n",
       "    <tr>\n",
       "      <th>27778</th>\n",
       "      <td>T_0</td>\n",
       "      <td>test_2021-03-01 02:30:02.237437</td>\n",
       "      <td>s_0</td>\n",
       "      <td>ct_1</td>\n",
       "    </tr>\n",
       "    <tr>\n",
       "      <th>52424</th>\n",
       "      <td>T_0</td>\n",
       "      <td>test_2021-03-01 02:30:02.237419</td>\n",
       "      <td>s_0</td>\n",
       "      <td>ct_0</td>\n",
       "    </tr>\n",
       "    <tr>\n",
       "      <th>96687</th>\n",
       "      <td>T_0</td>\n",
       "      <td>test_2021-03-01 02:30:02.237412</td>\n",
       "      <td>s_0</td>\n",
       "      <td>ct_1</td>\n",
       "    </tr>\n",
       "    <tr>\n",
       "      <th>130188</th>\n",
       "      <td>T_0</td>\n",
       "      <td>test_2021-03-01 02:30:02.237419</td>\n",
       "      <td>s_0</td>\n",
       "      <td>ct_0</td>\n",
       "    </tr>\n",
       "    <tr>\n",
       "      <th>139339</th>\n",
       "      <td>T_0</td>\n",
       "      <td>test_2021-03-01 02:30:02.237443</td>\n",
       "      <td>s_0</td>\n",
       "      <td>ct_1</td>\n",
       "    </tr>\n",
       "    <tr>\n",
       "      <th>...</th>\n",
       "      <td>...</td>\n",
       "      <td>...</td>\n",
       "      <td>...</td>\n",
       "      <td>...</td>\n",
       "    </tr>\n",
       "    <tr>\n",
       "      <th>653098</th>\n",
       "      <td>T_0</td>\n",
       "      <td>test_2021-03-01 02:30:02.237432</td>\n",
       "      <td>s_0</td>\n",
       "      <td>ct_0</td>\n",
       "    </tr>\n",
       "    <tr>\n",
       "      <th>657830</th>\n",
       "      <td>T_0</td>\n",
       "      <td>test_2021-03-01 02:30:02.237417</td>\n",
       "      <td>s_0</td>\n",
       "      <td>ct_0</td>\n",
       "    </tr>\n",
       "    <tr>\n",
       "      <th>662081</th>\n",
       "      <td>T_0</td>\n",
       "      <td>test_2021-03-01 02:30:02.237427</td>\n",
       "      <td>s_0</td>\n",
       "      <td>ct_1</td>\n",
       "    </tr>\n",
       "    <tr>\n",
       "      <th>671647</th>\n",
       "      <td>T_0</td>\n",
       "      <td>test_2021-03-01 02:30:02.237424</td>\n",
       "      <td>s_0</td>\n",
       "      <td>ct_1</td>\n",
       "    </tr>\n",
       "    <tr>\n",
       "      <th>679180</th>\n",
       "      <td>T_0</td>\n",
       "      <td>test_2021-03-01 02:30:02.237425</td>\n",
       "      <td>s_0</td>\n",
       "      <td>ct_1</td>\n",
       "    </tr>\n",
       "  </tbody>\n",
       "</table>\n",
       "<p>126 rows × 4 columns</p>\n",
       "</div>"
      ],
      "text/plain": [
       "       id_prod                             date session_id client_id\n",
       "27778      T_0  test_2021-03-01 02:30:02.237437        s_0      ct_1\n",
       "52424      T_0  test_2021-03-01 02:30:02.237419        s_0      ct_0\n",
       "96687      T_0  test_2021-03-01 02:30:02.237412        s_0      ct_1\n",
       "130188     T_0  test_2021-03-01 02:30:02.237419        s_0      ct_0\n",
       "139339     T_0  test_2021-03-01 02:30:02.237443        s_0      ct_1\n",
       "...        ...                              ...        ...       ...\n",
       "653098     T_0  test_2021-03-01 02:30:02.237432        s_0      ct_0\n",
       "657830     T_0  test_2021-03-01 02:30:02.237417        s_0      ct_0\n",
       "662081     T_0  test_2021-03-01 02:30:02.237427        s_0      ct_1\n",
       "671647     T_0  test_2021-03-01 02:30:02.237424        s_0      ct_1\n",
       "679180     T_0  test_2021-03-01 02:30:02.237425        s_0      ct_1\n",
       "\n",
       "[126 rows x 4 columns]"
      ]
     },
     "execution_count": 24,
     "metadata": {},
     "output_type": "execute_result"
    }
   ],
   "source": [
    "transactions [transactions.duplicated()]"
   ]
  },
  {
   "cell_type": "markdown",
   "id": "7d9ee0e6",
   "metadata": {},
   "source": [
    "Votre conclusion ?\n",
    "\n",
    "Qu'est-ce qu'on remarque ? \n",
    "\n",
    "Il s'agit de données de tests réalisés probablement lors de la mise en service \n",
    "\n"
   ]
  },
  {
   "cell_type": "code",
   "execution_count": 25,
   "id": "46090328",
   "metadata": {},
   "outputs": [
    {
     "data": {
      "text/plain": [
       "200"
      ]
     },
     "execution_count": 25,
     "metadata": {},
     "output_type": "execute_result"
    }
   ],
   "source": [
    "# Calcul du nombre de sessions test.\n",
    "transactions.date.str.startswith('test').sum()"
   ]
  },
  {
   "cell_type": "code",
   "execution_count": 26,
   "id": "1d09c557",
   "metadata": {},
   "outputs": [],
   "source": [
    "# retirer les lignes identifiées\n",
    "\n",
    "\n",
    "transactions = transactions[transactions.date.str.startswith('test') == False]"
   ]
  },
  {
   "cell_type": "code",
   "execution_count": 27,
   "id": "11d0793c",
   "metadata": {},
   "outputs": [
    {
     "data": {
      "text/html": [
       "<div>\n",
       "<style scoped>\n",
       "    .dataframe tbody tr th:only-of-type {\n",
       "        vertical-align: middle;\n",
       "    }\n",
       "\n",
       "    .dataframe tbody tr th {\n",
       "        vertical-align: top;\n",
       "    }\n",
       "\n",
       "    .dataframe thead th {\n",
       "        text-align: right;\n",
       "    }\n",
       "</style>\n",
       "<table border=\"1\" class=\"dataframe\">\n",
       "  <thead>\n",
       "    <tr style=\"text-align: right;\">\n",
       "      <th></th>\n",
       "      <th>id_prod</th>\n",
       "      <th>date</th>\n",
       "      <th>session_id</th>\n",
       "      <th>client_id</th>\n",
       "    </tr>\n",
       "  </thead>\n",
       "  <tbody>\n",
       "  </tbody>\n",
       "</table>\n",
       "</div>"
      ],
      "text/plain": [
       "Empty DataFrame\n",
       "Columns: [id_prod, date, session_id, client_id]\n",
       "Index: []"
      ]
     },
     "execution_count": 27,
     "metadata": {},
     "output_type": "execute_result"
    }
   ],
   "source": [
    "transactions[transactions.id_prod == \"T_0\" ]"
   ]
  },
  {
   "cell_type": "code",
   "execution_count": 28,
   "id": "32e18762",
   "metadata": {},
   "outputs": [
    {
     "data": {
      "text/html": [
       "<div>\n",
       "<style scoped>\n",
       "    .dataframe tbody tr th:only-of-type {\n",
       "        vertical-align: middle;\n",
       "    }\n",
       "\n",
       "    .dataframe tbody tr th {\n",
       "        vertical-align: top;\n",
       "    }\n",
       "\n",
       "    .dataframe thead th {\n",
       "        text-align: right;\n",
       "    }\n",
       "</style>\n",
       "<table border=\"1\" class=\"dataframe\">\n",
       "  <thead>\n",
       "    <tr style=\"text-align: right;\">\n",
       "      <th></th>\n",
       "      <th>id_prod</th>\n",
       "      <th>date</th>\n",
       "      <th>session_id</th>\n",
       "      <th>client_id</th>\n",
       "    </tr>\n",
       "  </thead>\n",
       "  <tbody>\n",
       "    <tr>\n",
       "      <th>0</th>\n",
       "      <td>0_1518</td>\n",
       "      <td>2022-05-20 13:21:29.043970</td>\n",
       "      <td>s_211425</td>\n",
       "      <td>c_103</td>\n",
       "    </tr>\n",
       "    <tr>\n",
       "      <th>1</th>\n",
       "      <td>1_251</td>\n",
       "      <td>2022-02-02 07:55:19.149409</td>\n",
       "      <td>s_158752</td>\n",
       "      <td>c_8534</td>\n",
       "    </tr>\n",
       "    <tr>\n",
       "      <th>2</th>\n",
       "      <td>0_1277</td>\n",
       "      <td>2022-06-18 15:44:33.155329</td>\n",
       "      <td>s_225667</td>\n",
       "      <td>c_6714</td>\n",
       "    </tr>\n",
       "    <tr>\n",
       "      <th>3</th>\n",
       "      <td>2_209</td>\n",
       "      <td>2021-06-24 04:19:29.835891</td>\n",
       "      <td>s_52962</td>\n",
       "      <td>c_6941</td>\n",
       "    </tr>\n",
       "    <tr>\n",
       "      <th>4</th>\n",
       "      <td>0_1509</td>\n",
       "      <td>2023-01-11 08:22:08.194479</td>\n",
       "      <td>s_325227</td>\n",
       "      <td>c_4232</td>\n",
       "    </tr>\n",
       "    <tr>\n",
       "      <th>...</th>\n",
       "      <td>...</td>\n",
       "      <td>...</td>\n",
       "      <td>...</td>\n",
       "      <td>...</td>\n",
       "    </tr>\n",
       "    <tr>\n",
       "      <th>679527</th>\n",
       "      <td>0_1551</td>\n",
       "      <td>2022-01-15 13:05:06.246925</td>\n",
       "      <td>s_150195</td>\n",
       "      <td>c_8489</td>\n",
       "    </tr>\n",
       "    <tr>\n",
       "      <th>679528</th>\n",
       "      <td>1_639</td>\n",
       "      <td>2022-03-19 16:03:23.429229</td>\n",
       "      <td>s_181434</td>\n",
       "      <td>c_4370</td>\n",
       "    </tr>\n",
       "    <tr>\n",
       "      <th>679529</th>\n",
       "      <td>0_1425</td>\n",
       "      <td>2022-12-20 04:33:37.584749</td>\n",
       "      <td>s_314704</td>\n",
       "      <td>c_304</td>\n",
       "    </tr>\n",
       "    <tr>\n",
       "      <th>679530</th>\n",
       "      <td>0_1994</td>\n",
       "      <td>2021-07-16 20:36:35.350579</td>\n",
       "      <td>s_63204</td>\n",
       "      <td>c_2227</td>\n",
       "    </tr>\n",
       "    <tr>\n",
       "      <th>679531</th>\n",
       "      <td>1_523</td>\n",
       "      <td>2022-09-28 01:12:01.973763</td>\n",
       "      <td>s_274568</td>\n",
       "      <td>c_3873</td>\n",
       "    </tr>\n",
       "  </tbody>\n",
       "</table>\n",
       "<p>679332 rows × 4 columns</p>\n",
       "</div>"
      ],
      "text/plain": [
       "       id_prod                        date session_id client_id\n",
       "0       0_1518  2022-05-20 13:21:29.043970   s_211425     c_103\n",
       "1        1_251  2022-02-02 07:55:19.149409   s_158752    c_8534\n",
       "2       0_1277  2022-06-18 15:44:33.155329   s_225667    c_6714\n",
       "3        2_209  2021-06-24 04:19:29.835891    s_52962    c_6941\n",
       "4       0_1509  2023-01-11 08:22:08.194479   s_325227    c_4232\n",
       "...        ...                         ...        ...       ...\n",
       "679527  0_1551  2022-01-15 13:05:06.246925   s_150195    c_8489\n",
       "679528   1_639  2022-03-19 16:03:23.429229   s_181434    c_4370\n",
       "679529  0_1425  2022-12-20 04:33:37.584749   s_314704     c_304\n",
       "679530  0_1994  2021-07-16 20:36:35.350579    s_63204    c_2227\n",
       "679531   1_523  2022-09-28 01:12:01.973763   s_274568    c_3873\n",
       "\n",
       "[679332 rows x 4 columns]"
      ]
     },
     "execution_count": 28,
     "metadata": {},
     "output_type": "execute_result"
    }
   ],
   "source": [
    "transactions"
   ]
  },
  {
   "cell_type": "code",
   "execution_count": 29,
   "id": "1fc91c14",
   "metadata": {},
   "outputs": [
    {
     "data": {
      "text/plain": [
       "client_id\n",
       "c_1       33\n",
       "c_10      34\n",
       "c_100      5\n",
       "c_1000    93\n",
       "c_1001    47\n",
       "          ..\n",
       "c_995      9\n",
       "c_996     79\n",
       "c_997     24\n",
       "c_998     23\n",
       "c_999     42\n",
       "Name: session_id, Length: 8600, dtype: int64"
      ]
     },
     "execution_count": 29,
     "metadata": {},
     "output_type": "execute_result"
    }
   ],
   "source": [
    "# Calculer le nombre d'achats par client avec groupby et calculer ensuite le nombre d'achats moyen\n",
    "transactions.groupby(\"client_id\").session_id.nunique()\n"
   ]
  },
  {
   "cell_type": "code",
   "execution_count": 30,
   "id": "da9a4fbd",
   "metadata": {},
   "outputs": [
    {
     "name": "stdout",
     "output_type": "stream",
     "text": [
      "le nombre d'achat moyen par client : 39.80406976744186\n"
     ]
    }
   ],
   "source": [
    "print(\"le nombre d'achat moyen par client :\", transactions.groupby(\"client_id\").session_id.nunique().mean())"
   ]
  },
  {
   "cell_type": "code",
   "execution_count": 31,
   "id": "eec87b6d",
   "metadata": {},
   "outputs": [
    {
     "data": {
      "text/plain": [
       "{'whiskers': [<matplotlib.lines.Line2D at 0x1a1cd91fd00>,\n",
       "  <matplotlib.lines.Line2D at 0x1a1cd91ffd0>],\n",
       " 'caps': [<matplotlib.lines.Line2D at 0x1a1cd93b3a0>,\n",
       "  <matplotlib.lines.Line2D at 0x1a1cd8b8af0>],\n",
       " 'boxes': [<matplotlib.lines.Line2D at 0x1a1cd91fa30>],\n",
       " 'medians': [<matplotlib.lines.Line2D at 0x1a1cd93b6a0>],\n",
       " 'fliers': [<matplotlib.lines.Line2D at 0x1a1cd93b970>],\n",
       " 'means': []}"
      ]
     },
     "execution_count": 31,
     "metadata": {},
     "output_type": "execute_result"
    },
    {
     "data": {
      "image/png": "[encoded data removed]",
      "text/plain": [
       "<Figure size 432x288 with 1 Axes>"
      ]
     },
     "metadata": {
      "needs_background": "light"
     },
     "output_type": "display_data"
    }
   ],
   "source": [
    "# tracer un boxplot pour voir la distribution, voux pouvez utiliser plt.boxplot()\n",
    "\n",
    "plt.boxplot(transactions.groupby(\"client_id\").session_id.nunique())"
   ]
  },
  {
   "cell_type": "markdown",
   "id": "bb0ab652",
   "metadata": {},
   "source": [
    "Qu'est-ce qu'on remarque ? \n"
   ]
  },
  {
   "cell_type": "markdown",
   "id": "df0911d4",
   "metadata": {},
   "source": [
    "La présence d'outlier"
   ]
  },
  {
   "cell_type": "markdown",
   "id": "55fe7c29",
   "metadata": {},
   "source": [
    "## 1.2 - Jointure des dataframes"
   ]
  },
  {
   "cell_type": "markdown",
   "id": "087e1d8a",
   "metadata": {},
   "source": [
    "1.2.1 - products & transactions"
   ]
  },
  {
   "cell_type": "code",
   "execution_count": 32,
   "id": "617f8136",
   "metadata": {},
   "outputs": [],
   "source": [
    "# Jointure entre transactions et products en prenant comme clé la colonne 'id_prod'\n",
    "# jointure externe \n",
    "# afin de conserver toutes les lignes de mon fichier transactions.\n",
    "\n",
    "df_final = pd.merge(transactions,products, on = 'id_prod', how= 'outer', indicator = True)"
   ]
  },
  {
   "cell_type": "code",
   "execution_count": 33,
   "id": "6e0e4912",
   "metadata": {},
   "outputs": [
    {
     "data": {
      "text/html": [
       "<div>\n",
       "<style scoped>\n",
       "    .dataframe tbody tr th:only-of-type {\n",
       "        vertical-align: middle;\n",
       "    }\n",
       "\n",
       "    .dataframe tbody tr th {\n",
       "        vertical-align: top;\n",
       "    }\n",
       "\n",
       "    .dataframe thead th {\n",
       "        text-align: right;\n",
       "    }\n",
       "</style>\n",
       "<table border=\"1\" class=\"dataframe\">\n",
       "  <thead>\n",
       "    <tr style=\"text-align: right;\">\n",
       "      <th></th>\n",
       "      <th>id_prod</th>\n",
       "      <th>date</th>\n",
       "      <th>session_id</th>\n",
       "      <th>client_id</th>\n",
       "      <th>price</th>\n",
       "      <th>categ</th>\n",
       "      <th>_merge</th>\n",
       "    </tr>\n",
       "  </thead>\n",
       "  <tbody>\n",
       "    <tr>\n",
       "      <th>679332</th>\n",
       "      <td>0_1016</td>\n",
       "      <td>NaN</td>\n",
       "      <td>NaN</td>\n",
       "      <td>NaN</td>\n",
       "      <td>35.06</td>\n",
       "      <td>0.0</td>\n",
       "      <td>right_only</td>\n",
       "    </tr>\n",
       "    <tr>\n",
       "      <th>679333</th>\n",
       "      <td>0_1780</td>\n",
       "      <td>NaN</td>\n",
       "      <td>NaN</td>\n",
       "      <td>NaN</td>\n",
       "      <td>1.67</td>\n",
       "      <td>0.0</td>\n",
       "      <td>right_only</td>\n",
       "    </tr>\n",
       "    <tr>\n",
       "      <th>679334</th>\n",
       "      <td>T_0</td>\n",
       "      <td>NaN</td>\n",
       "      <td>NaN</td>\n",
       "      <td>NaN</td>\n",
       "      <td>-1.00</td>\n",
       "      <td>0.0</td>\n",
       "      <td>right_only</td>\n",
       "    </tr>\n",
       "    <tr>\n",
       "      <th>679335</th>\n",
       "      <td>0_1062</td>\n",
       "      <td>NaN</td>\n",
       "      <td>NaN</td>\n",
       "      <td>NaN</td>\n",
       "      <td>20.08</td>\n",
       "      <td>0.0</td>\n",
       "      <td>right_only</td>\n",
       "    </tr>\n",
       "    <tr>\n",
       "      <th>679336</th>\n",
       "      <td>0_1119</td>\n",
       "      <td>NaN</td>\n",
       "      <td>NaN</td>\n",
       "      <td>NaN</td>\n",
       "      <td>2.99</td>\n",
       "      <td>0.0</td>\n",
       "      <td>right_only</td>\n",
       "    </tr>\n",
       "    <tr>\n",
       "      <th>679337</th>\n",
       "      <td>0_1014</td>\n",
       "      <td>NaN</td>\n",
       "      <td>NaN</td>\n",
       "      <td>NaN</td>\n",
       "      <td>1.15</td>\n",
       "      <td>0.0</td>\n",
       "      <td>right_only</td>\n",
       "    </tr>\n",
       "    <tr>\n",
       "      <th>679338</th>\n",
       "      <td>1_0</td>\n",
       "      <td>NaN</td>\n",
       "      <td>NaN</td>\n",
       "      <td>NaN</td>\n",
       "      <td>31.82</td>\n",
       "      <td>1.0</td>\n",
       "      <td>right_only</td>\n",
       "    </tr>\n",
       "    <tr>\n",
       "      <th>679339</th>\n",
       "      <td>0_1318</td>\n",
       "      <td>NaN</td>\n",
       "      <td>NaN</td>\n",
       "      <td>NaN</td>\n",
       "      <td>20.92</td>\n",
       "      <td>0.0</td>\n",
       "      <td>right_only</td>\n",
       "    </tr>\n",
       "    <tr>\n",
       "      <th>679340</th>\n",
       "      <td>0_1800</td>\n",
       "      <td>NaN</td>\n",
       "      <td>NaN</td>\n",
       "      <td>NaN</td>\n",
       "      <td>22.05</td>\n",
       "      <td>0.0</td>\n",
       "      <td>right_only</td>\n",
       "    </tr>\n",
       "    <tr>\n",
       "      <th>679341</th>\n",
       "      <td>0_1645</td>\n",
       "      <td>NaN</td>\n",
       "      <td>NaN</td>\n",
       "      <td>NaN</td>\n",
       "      <td>2.99</td>\n",
       "      <td>0.0</td>\n",
       "      <td>right_only</td>\n",
       "    </tr>\n",
       "    <tr>\n",
       "      <th>679342</th>\n",
       "      <td>0_322</td>\n",
       "      <td>NaN</td>\n",
       "      <td>NaN</td>\n",
       "      <td>NaN</td>\n",
       "      <td>2.99</td>\n",
       "      <td>0.0</td>\n",
       "      <td>right_only</td>\n",
       "    </tr>\n",
       "    <tr>\n",
       "      <th>679343</th>\n",
       "      <td>0_1620</td>\n",
       "      <td>NaN</td>\n",
       "      <td>NaN</td>\n",
       "      <td>NaN</td>\n",
       "      <td>0.80</td>\n",
       "      <td>0.0</td>\n",
       "      <td>right_only</td>\n",
       "    </tr>\n",
       "    <tr>\n",
       "      <th>679344</th>\n",
       "      <td>0_1025</td>\n",
       "      <td>NaN</td>\n",
       "      <td>NaN</td>\n",
       "      <td>NaN</td>\n",
       "      <td>24.99</td>\n",
       "      <td>0.0</td>\n",
       "      <td>right_only</td>\n",
       "    </tr>\n",
       "    <tr>\n",
       "      <th>679345</th>\n",
       "      <td>2_87</td>\n",
       "      <td>NaN</td>\n",
       "      <td>NaN</td>\n",
       "      <td>NaN</td>\n",
       "      <td>220.99</td>\n",
       "      <td>2.0</td>\n",
       "      <td>right_only</td>\n",
       "    </tr>\n",
       "    <tr>\n",
       "      <th>679346</th>\n",
       "      <td>1_394</td>\n",
       "      <td>NaN</td>\n",
       "      <td>NaN</td>\n",
       "      <td>NaN</td>\n",
       "      <td>39.73</td>\n",
       "      <td>1.0</td>\n",
       "      <td>right_only</td>\n",
       "    </tr>\n",
       "    <tr>\n",
       "      <th>679347</th>\n",
       "      <td>2_72</td>\n",
       "      <td>NaN</td>\n",
       "      <td>NaN</td>\n",
       "      <td>NaN</td>\n",
       "      <td>141.32</td>\n",
       "      <td>2.0</td>\n",
       "      <td>right_only</td>\n",
       "    </tr>\n",
       "    <tr>\n",
       "      <th>679348</th>\n",
       "      <td>0_310</td>\n",
       "      <td>NaN</td>\n",
       "      <td>NaN</td>\n",
       "      <td>NaN</td>\n",
       "      <td>1.94</td>\n",
       "      <td>0.0</td>\n",
       "      <td>right_only</td>\n",
       "    </tr>\n",
       "    <tr>\n",
       "      <th>679349</th>\n",
       "      <td>0_1624</td>\n",
       "      <td>NaN</td>\n",
       "      <td>NaN</td>\n",
       "      <td>NaN</td>\n",
       "      <td>24.50</td>\n",
       "      <td>0.0</td>\n",
       "      <td>right_only</td>\n",
       "    </tr>\n",
       "    <tr>\n",
       "      <th>679350</th>\n",
       "      <td>2_86</td>\n",
       "      <td>NaN</td>\n",
       "      <td>NaN</td>\n",
       "      <td>NaN</td>\n",
       "      <td>132.36</td>\n",
       "      <td>2.0</td>\n",
       "      <td>right_only</td>\n",
       "    </tr>\n",
       "    <tr>\n",
       "      <th>679351</th>\n",
       "      <td>0_299</td>\n",
       "      <td>NaN</td>\n",
       "      <td>NaN</td>\n",
       "      <td>NaN</td>\n",
       "      <td>22.99</td>\n",
       "      <td>0.0</td>\n",
       "      <td>right_only</td>\n",
       "    </tr>\n",
       "    <tr>\n",
       "      <th>679352</th>\n",
       "      <td>0_510</td>\n",
       "      <td>NaN</td>\n",
       "      <td>NaN</td>\n",
       "      <td>NaN</td>\n",
       "      <td>23.66</td>\n",
       "      <td>0.0</td>\n",
       "      <td>right_only</td>\n",
       "    </tr>\n",
       "    <tr>\n",
       "      <th>679353</th>\n",
       "      <td>0_2308</td>\n",
       "      <td>NaN</td>\n",
       "      <td>NaN</td>\n",
       "      <td>NaN</td>\n",
       "      <td>20.28</td>\n",
       "      <td>0.0</td>\n",
       "      <td>right_only</td>\n",
       "    </tr>\n",
       "  </tbody>\n",
       "</table>\n",
       "</div>"
      ],
      "text/plain": [
       "       id_prod date session_id client_id   price  categ      _merge\n",
       "679332  0_1016  NaN        NaN       NaN   35.06    0.0  right_only\n",
       "679333  0_1780  NaN        NaN       NaN    1.67    0.0  right_only\n",
       "679334     T_0  NaN        NaN       NaN   -1.00    0.0  right_only\n",
       "679335  0_1062  NaN        NaN       NaN   20.08    0.0  right_only\n",
       "679336  0_1119  NaN        NaN       NaN    2.99    0.0  right_only\n",
       "679337  0_1014  NaN        NaN       NaN    1.15    0.0  right_only\n",
       "679338     1_0  NaN        NaN       NaN   31.82    1.0  right_only\n",
       "679339  0_1318  NaN        NaN       NaN   20.92    0.0  right_only\n",
       "679340  0_1800  NaN        NaN       NaN   22.05    0.0  right_only\n",
       "679341  0_1645  NaN        NaN       NaN    2.99    0.0  right_only\n",
       "679342   0_322  NaN        NaN       NaN    2.99    0.0  right_only\n",
       "679343  0_1620  NaN        NaN       NaN    0.80    0.0  right_only\n",
       "679344  0_1025  NaN        NaN       NaN   24.99    0.0  right_only\n",
       "679345    2_87  NaN        NaN       NaN  220.99    2.0  right_only\n",
       "679346   1_394  NaN        NaN       NaN   39.73    1.0  right_only\n",
       "679347    2_72  NaN        NaN       NaN  141.32    2.0  right_only\n",
       "679348   0_310  NaN        NaN       NaN    1.94    0.0  right_only\n",
       "679349  0_1624  NaN        NaN       NaN   24.50    0.0  right_only\n",
       "679350    2_86  NaN        NaN       NaN  132.36    2.0  right_only\n",
       "679351   0_299  NaN        NaN       NaN   22.99    0.0  right_only\n",
       "679352   0_510  NaN        NaN       NaN   23.66    0.0  right_only\n",
       "679353  0_2308  NaN        NaN       NaN   20.28    0.0  right_only"
      ]
     },
     "execution_count": 33,
     "metadata": {},
     "output_type": "execute_result"
    }
   ],
   "source": [
    "#regardons les cas où le produit n'est pas vendu\n",
    "\n",
    "df_final[df_final._merge==\"right_only\"]"
   ]
  },
  {
   "cell_type": "code",
   "execution_count": 34,
   "id": "100ff018",
   "metadata": {},
   "outputs": [
    {
     "name": "stdout",
     "output_type": "stream",
     "text": [
      "les produits qui ne sont pas vendus ['0_1016' '0_1780' 'T_0' '0_1062' '0_1119' '0_1014' '1_0' '0_1318'\n",
      " '0_1800' '0_1645' '0_322' '0_1620' '0_1025' '2_87' '1_394' '2_72' '0_310'\n",
      " '0_1624' '2_86' '0_299' '0_510' '0_2308']\n"
     ]
    }
   ],
   "source": [
    "print(\"les produits qui ne sont pas vendus\",df_final[df_final._merge==\"right_only\"].id_prod.unique())"
   ]
  },
  {
   "cell_type": "code",
   "execution_count": 35,
   "id": "a12852b2",
   "metadata": {},
   "outputs": [],
   "source": [
    "#on supprime les produits invendus\n",
    "\n",
    "index = df_final[df_final._merge==\"right_only\"].index\n",
    "\n",
    "df_final.drop(index, inplace = True)"
   ]
  },
  {
   "cell_type": "code",
   "execution_count": 36,
   "id": "08aec254",
   "metadata": {},
   "outputs": [
    {
     "data": {
      "text/html": [
       "<div>\n",
       "<style scoped>\n",
       "    .dataframe tbody tr th:only-of-type {\n",
       "        vertical-align: middle;\n",
       "    }\n",
       "\n",
       "    .dataframe tbody tr th {\n",
       "        vertical-align: top;\n",
       "    }\n",
       "\n",
       "    .dataframe thead th {\n",
       "        text-align: right;\n",
       "    }\n",
       "</style>\n",
       "<table border=\"1\" class=\"dataframe\">\n",
       "  <thead>\n",
       "    <tr style=\"text-align: right;\">\n",
       "      <th></th>\n",
       "      <th>id_prod</th>\n",
       "      <th>date</th>\n",
       "      <th>session_id</th>\n",
       "      <th>client_id</th>\n",
       "      <th>price</th>\n",
       "      <th>categ</th>\n",
       "      <th>_merge</th>\n",
       "    </tr>\n",
       "  </thead>\n",
       "  <tbody>\n",
       "    <tr>\n",
       "      <th>542560</th>\n",
       "      <td>0_2245</td>\n",
       "      <td>2022-09-23 07:22:38.636773</td>\n",
       "      <td>s_272266</td>\n",
       "      <td>c_4746</td>\n",
       "      <td>NaN</td>\n",
       "      <td>NaN</td>\n",
       "      <td>left_only</td>\n",
       "    </tr>\n",
       "    <tr>\n",
       "      <th>542561</th>\n",
       "      <td>0_2245</td>\n",
       "      <td>2022-07-23 09:24:14.133889</td>\n",
       "      <td>s_242482</td>\n",
       "      <td>c_6713</td>\n",
       "      <td>NaN</td>\n",
       "      <td>NaN</td>\n",
       "      <td>left_only</td>\n",
       "    </tr>\n",
       "    <tr>\n",
       "      <th>542562</th>\n",
       "      <td>0_2245</td>\n",
       "      <td>2022-12-03 03:26:35.696673</td>\n",
       "      <td>s_306338</td>\n",
       "      <td>c_5108</td>\n",
       "      <td>NaN</td>\n",
       "      <td>NaN</td>\n",
       "      <td>left_only</td>\n",
       "    </tr>\n",
       "    <tr>\n",
       "      <th>542563</th>\n",
       "      <td>0_2245</td>\n",
       "      <td>2021-08-16 11:33:25.481411</td>\n",
       "      <td>s_76493</td>\n",
       "      <td>c_1391</td>\n",
       "      <td>NaN</td>\n",
       "      <td>NaN</td>\n",
       "      <td>left_only</td>\n",
       "    </tr>\n",
       "    <tr>\n",
       "      <th>542564</th>\n",
       "      <td>0_2245</td>\n",
       "      <td>2022-07-16 05:53:01.627491</td>\n",
       "      <td>s_239078</td>\n",
       "      <td>c_7954</td>\n",
       "      <td>NaN</td>\n",
       "      <td>NaN</td>\n",
       "      <td>left_only</td>\n",
       "    </tr>\n",
       "    <tr>\n",
       "      <th>...</th>\n",
       "      <td>...</td>\n",
       "      <td>...</td>\n",
       "      <td>...</td>\n",
       "      <td>...</td>\n",
       "      <td>...</td>\n",
       "      <td>...</td>\n",
       "      <td>...</td>\n",
       "    </tr>\n",
       "    <tr>\n",
       "      <th>542776</th>\n",
       "      <td>0_2245</td>\n",
       "      <td>2021-08-25 09:06:03.504061</td>\n",
       "      <td>s_80395</td>\n",
       "      <td>c_131</td>\n",
       "      <td>NaN</td>\n",
       "      <td>NaN</td>\n",
       "      <td>left_only</td>\n",
       "    </tr>\n",
       "    <tr>\n",
       "      <th>542777</th>\n",
       "      <td>0_2245</td>\n",
       "      <td>2022-03-06 19:59:19.462288</td>\n",
       "      <td>s_175311</td>\n",
       "      <td>c_4167</td>\n",
       "      <td>NaN</td>\n",
       "      <td>NaN</td>\n",
       "      <td>left_only</td>\n",
       "    </tr>\n",
       "    <tr>\n",
       "      <th>542778</th>\n",
       "      <td>0_2245</td>\n",
       "      <td>2022-05-16 11:35:20.319501</td>\n",
       "      <td>s_209381</td>\n",
       "      <td>c_4453</td>\n",
       "      <td>NaN</td>\n",
       "      <td>NaN</td>\n",
       "      <td>left_only</td>\n",
       "    </tr>\n",
       "    <tr>\n",
       "      <th>542779</th>\n",
       "      <td>0_2245</td>\n",
       "      <td>2022-02-11 09:05:43.952857</td>\n",
       "      <td>s_163405</td>\n",
       "      <td>c_1098</td>\n",
       "      <td>NaN</td>\n",
       "      <td>NaN</td>\n",
       "      <td>left_only</td>\n",
       "    </tr>\n",
       "    <tr>\n",
       "      <th>542780</th>\n",
       "      <td>0_2245</td>\n",
       "      <td>2021-12-14 22:34:54.589921</td>\n",
       "      <td>s_134446</td>\n",
       "      <td>c_4854</td>\n",
       "      <td>NaN</td>\n",
       "      <td>NaN</td>\n",
       "      <td>left_only</td>\n",
       "    </tr>\n",
       "  </tbody>\n",
       "</table>\n",
       "<p>221 rows × 7 columns</p>\n",
       "</div>"
      ],
      "text/plain": [
       "       id_prod                        date session_id client_id  price  categ  \\\n",
       "542560  0_2245  2022-09-23 07:22:38.636773   s_272266    c_4746    NaN    NaN   \n",
       "542561  0_2245  2022-07-23 09:24:14.133889   s_242482    c_6713    NaN    NaN   \n",
       "542562  0_2245  2022-12-03 03:26:35.696673   s_306338    c_5108    NaN    NaN   \n",
       "542563  0_2245  2021-08-16 11:33:25.481411    s_76493    c_1391    NaN    NaN   \n",
       "542564  0_2245  2022-07-16 05:53:01.627491   s_239078    c_7954    NaN    NaN   \n",
       "...        ...                         ...        ...       ...    ...    ...   \n",
       "542776  0_2245  2021-08-25 09:06:03.504061    s_80395     c_131    NaN    NaN   \n",
       "542777  0_2245  2022-03-06 19:59:19.462288   s_175311    c_4167    NaN    NaN   \n",
       "542778  0_2245  2022-05-16 11:35:20.319501   s_209381    c_4453    NaN    NaN   \n",
       "542779  0_2245  2022-02-11 09:05:43.952857   s_163405    c_1098    NaN    NaN   \n",
       "542780  0_2245  2021-12-14 22:34:54.589921   s_134446    c_4854    NaN    NaN   \n",
       "\n",
       "           _merge  \n",
       "542560  left_only  \n",
       "542561  left_only  \n",
       "542562  left_only  \n",
       "542563  left_only  \n",
       "542564  left_only  \n",
       "...           ...  \n",
       "542776  left_only  \n",
       "542777  left_only  \n",
       "542778  left_only  \n",
       "542779  left_only  \n",
       "542780  left_only  \n",
       "\n",
       "[221 rows x 7 columns]"
      ]
     },
     "execution_count": 36,
     "metadata": {},
     "output_type": "execute_result"
    }
   ],
   "source": [
    "#regardons les cas où le produit dans transaction n'est pas trouvé dans products\n",
    "df_final[df_final._merge==\"left_only\"]"
   ]
  },
  {
   "cell_type": "code",
   "execution_count": 37,
   "id": "613fa45a",
   "metadata": {},
   "outputs": [
    {
     "data": {
      "text/html": [
       "<div>\n",
       "<style scoped>\n",
       "    .dataframe tbody tr th:only-of-type {\n",
       "        vertical-align: middle;\n",
       "    }\n",
       "\n",
       "    .dataframe tbody tr th {\n",
       "        vertical-align: top;\n",
       "    }\n",
       "\n",
       "    .dataframe thead th {\n",
       "        text-align: right;\n",
       "    }\n",
       "</style>\n",
       "<table border=\"1\" class=\"dataframe\">\n",
       "  <thead>\n",
       "    <tr style=\"text-align: right;\">\n",
       "      <th></th>\n",
       "      <th>id_prod</th>\n",
       "      <th>date</th>\n",
       "      <th>session_id</th>\n",
       "      <th>client_id</th>\n",
       "      <th>price</th>\n",
       "      <th>categ</th>\n",
       "      <th>_merge</th>\n",
       "    </tr>\n",
       "  </thead>\n",
       "  <tbody>\n",
       "    <tr>\n",
       "      <th>count</th>\n",
       "      <td>221</td>\n",
       "      <td>221</td>\n",
       "      <td>221</td>\n",
       "      <td>221</td>\n",
       "      <td>0.0</td>\n",
       "      <td>0.0</td>\n",
       "      <td>221</td>\n",
       "    </tr>\n",
       "    <tr>\n",
       "      <th>unique</th>\n",
       "      <td>1</td>\n",
       "      <td>221</td>\n",
       "      <td>221</td>\n",
       "      <td>100</td>\n",
       "      <td>NaN</td>\n",
       "      <td>NaN</td>\n",
       "      <td>1</td>\n",
       "    </tr>\n",
       "    <tr>\n",
       "      <th>top</th>\n",
       "      <td>0_2245</td>\n",
       "      <td>2022-09-23 07:22:38.636773</td>\n",
       "      <td>s_272266</td>\n",
       "      <td>c_1533</td>\n",
       "      <td>NaN</td>\n",
       "      <td>NaN</td>\n",
       "      <td>left_only</td>\n",
       "    </tr>\n",
       "    <tr>\n",
       "      <th>freq</th>\n",
       "      <td>221</td>\n",
       "      <td>1</td>\n",
       "      <td>1</td>\n",
       "      <td>6</td>\n",
       "      <td>NaN</td>\n",
       "      <td>NaN</td>\n",
       "      <td>221</td>\n",
       "    </tr>\n",
       "    <tr>\n",
       "      <th>mean</th>\n",
       "      <td>NaN</td>\n",
       "      <td>NaN</td>\n",
       "      <td>NaN</td>\n",
       "      <td>NaN</td>\n",
       "      <td>NaN</td>\n",
       "      <td>NaN</td>\n",
       "      <td>NaN</td>\n",
       "    </tr>\n",
       "    <tr>\n",
       "      <th>std</th>\n",
       "      <td>NaN</td>\n",
       "      <td>NaN</td>\n",
       "      <td>NaN</td>\n",
       "      <td>NaN</td>\n",
       "      <td>NaN</td>\n",
       "      <td>NaN</td>\n",
       "      <td>NaN</td>\n",
       "    </tr>\n",
       "    <tr>\n",
       "      <th>min</th>\n",
       "      <td>NaN</td>\n",
       "      <td>NaN</td>\n",
       "      <td>NaN</td>\n",
       "      <td>NaN</td>\n",
       "      <td>NaN</td>\n",
       "      <td>NaN</td>\n",
       "      <td>NaN</td>\n",
       "    </tr>\n",
       "    <tr>\n",
       "      <th>25%</th>\n",
       "      <td>NaN</td>\n",
       "      <td>NaN</td>\n",
       "      <td>NaN</td>\n",
       "      <td>NaN</td>\n",
       "      <td>NaN</td>\n",
       "      <td>NaN</td>\n",
       "      <td>NaN</td>\n",
       "    </tr>\n",
       "    <tr>\n",
       "      <th>50%</th>\n",
       "      <td>NaN</td>\n",
       "      <td>NaN</td>\n",
       "      <td>NaN</td>\n",
       "      <td>NaN</td>\n",
       "      <td>NaN</td>\n",
       "      <td>NaN</td>\n",
       "      <td>NaN</td>\n",
       "    </tr>\n",
       "    <tr>\n",
       "      <th>75%</th>\n",
       "      <td>NaN</td>\n",
       "      <td>NaN</td>\n",
       "      <td>NaN</td>\n",
       "      <td>NaN</td>\n",
       "      <td>NaN</td>\n",
       "      <td>NaN</td>\n",
       "      <td>NaN</td>\n",
       "    </tr>\n",
       "    <tr>\n",
       "      <th>max</th>\n",
       "      <td>NaN</td>\n",
       "      <td>NaN</td>\n",
       "      <td>NaN</td>\n",
       "      <td>NaN</td>\n",
       "      <td>NaN</td>\n",
       "      <td>NaN</td>\n",
       "      <td>NaN</td>\n",
       "    </tr>\n",
       "  </tbody>\n",
       "</table>\n",
       "</div>"
      ],
      "text/plain": [
       "       id_prod                        date session_id client_id  price  categ  \\\n",
       "count      221                         221        221       221    0.0    0.0   \n",
       "unique       1                         221        221       100    NaN    NaN   \n",
       "top     0_2245  2022-09-23 07:22:38.636773   s_272266    c_1533    NaN    NaN   \n",
       "freq       221                           1          1         6    NaN    NaN   \n",
       "mean       NaN                         NaN        NaN       NaN    NaN    NaN   \n",
       "std        NaN                         NaN        NaN       NaN    NaN    NaN   \n",
       "min        NaN                         NaN        NaN       NaN    NaN    NaN   \n",
       "25%        NaN                         NaN        NaN       NaN    NaN    NaN   \n",
       "50%        NaN                         NaN        NaN       NaN    NaN    NaN   \n",
       "75%        NaN                         NaN        NaN       NaN    NaN    NaN   \n",
       "max        NaN                         NaN        NaN       NaN    NaN    NaN   \n",
       "\n",
       "           _merge  \n",
       "count         221  \n",
       "unique          1  \n",
       "top     left_only  \n",
       "freq          221  \n",
       "mean          NaN  \n",
       "std           NaN  \n",
       "min           NaN  \n",
       "25%           NaN  \n",
       "50%           NaN  \n",
       "75%           NaN  \n",
       "max           NaN  "
      ]
     },
     "execution_count": 37,
     "metadata": {},
     "output_type": "execute_result"
    }
   ],
   "source": [
    "df_final[df_final._merge==\"left_only\"].describe(include = \"all\")"
   ]
  },
  {
   "cell_type": "markdown",
   "id": "3d88211b",
   "metadata": {},
   "source": [
    "Un produit a été vendu 221 fois, mais on ne connait pas son prix.\n",
    "Plusieurs possibilités : \n",
    "\n",
    "    - on supprime les lignes -> on sous-estimera le CA\n",
    "    \n",
    "    - on fait une imputation "
   ]
  },
  {
   "cell_type": "code",
   "execution_count": 38,
   "id": "5337ae3a",
   "metadata": {},
   "outputs": [],
   "source": [
    "# faisons une imputation \n",
    "\n",
    "index = df_final[df_final._merge==\"left_only\"].index #on récupère l'index des lignes qu'il faut modifier \n",
    "\n",
    "df_final.loc[index,\"price\"] = 11.7\n",
    "\n",
    "df_final.loc[index,\"categ\"] = 0\n"
   ]
  },
  {
   "cell_type": "code",
   "execution_count": 39,
   "id": "82ec8c9c",
   "metadata": {},
   "outputs": [
    {
     "data": {
      "text/html": [
       "<div>\n",
       "<style scoped>\n",
       "    .dataframe tbody tr th:only-of-type {\n",
       "        vertical-align: middle;\n",
       "    }\n",
       "\n",
       "    .dataframe tbody tr th {\n",
       "        vertical-align: top;\n",
       "    }\n",
       "\n",
       "    .dataframe thead th {\n",
       "        text-align: right;\n",
       "    }\n",
       "</style>\n",
       "<table border=\"1\" class=\"dataframe\">\n",
       "  <thead>\n",
       "    <tr style=\"text-align: right;\">\n",
       "      <th></th>\n",
       "      <th>id_prod</th>\n",
       "      <th>date</th>\n",
       "      <th>session_id</th>\n",
       "      <th>client_id</th>\n",
       "      <th>price</th>\n",
       "      <th>categ</th>\n",
       "      <th>_merge</th>\n",
       "    </tr>\n",
       "  </thead>\n",
       "  <tbody>\n",
       "    <tr>\n",
       "      <th>542560</th>\n",
       "      <td>0_2245</td>\n",
       "      <td>2022-09-23 07:22:38.636773</td>\n",
       "      <td>s_272266</td>\n",
       "      <td>c_4746</td>\n",
       "      <td>11.7</td>\n",
       "      <td>0.0</td>\n",
       "      <td>left_only</td>\n",
       "    </tr>\n",
       "    <tr>\n",
       "      <th>542561</th>\n",
       "      <td>0_2245</td>\n",
       "      <td>2022-07-23 09:24:14.133889</td>\n",
       "      <td>s_242482</td>\n",
       "      <td>c_6713</td>\n",
       "      <td>11.7</td>\n",
       "      <td>0.0</td>\n",
       "      <td>left_only</td>\n",
       "    </tr>\n",
       "    <tr>\n",
       "      <th>542562</th>\n",
       "      <td>0_2245</td>\n",
       "      <td>2022-12-03 03:26:35.696673</td>\n",
       "      <td>s_306338</td>\n",
       "      <td>c_5108</td>\n",
       "      <td>11.7</td>\n",
       "      <td>0.0</td>\n",
       "      <td>left_only</td>\n",
       "    </tr>\n",
       "    <tr>\n",
       "      <th>542563</th>\n",
       "      <td>0_2245</td>\n",
       "      <td>2021-08-16 11:33:25.481411</td>\n",
       "      <td>s_76493</td>\n",
       "      <td>c_1391</td>\n",
       "      <td>11.7</td>\n",
       "      <td>0.0</td>\n",
       "      <td>left_only</td>\n",
       "    </tr>\n",
       "    <tr>\n",
       "      <th>542564</th>\n",
       "      <td>0_2245</td>\n",
       "      <td>2022-07-16 05:53:01.627491</td>\n",
       "      <td>s_239078</td>\n",
       "      <td>c_7954</td>\n",
       "      <td>11.7</td>\n",
       "      <td>0.0</td>\n",
       "      <td>left_only</td>\n",
       "    </tr>\n",
       "    <tr>\n",
       "      <th>...</th>\n",
       "      <td>...</td>\n",
       "      <td>...</td>\n",
       "      <td>...</td>\n",
       "      <td>...</td>\n",
       "      <td>...</td>\n",
       "      <td>...</td>\n",
       "      <td>...</td>\n",
       "    </tr>\n",
       "    <tr>\n",
       "      <th>542776</th>\n",
       "      <td>0_2245</td>\n",
       "      <td>2021-08-25 09:06:03.504061</td>\n",
       "      <td>s_80395</td>\n",
       "      <td>c_131</td>\n",
       "      <td>11.7</td>\n",
       "      <td>0.0</td>\n",
       "      <td>left_only</td>\n",
       "    </tr>\n",
       "    <tr>\n",
       "      <th>542777</th>\n",
       "      <td>0_2245</td>\n",
       "      <td>2022-03-06 19:59:19.462288</td>\n",
       "      <td>s_175311</td>\n",
       "      <td>c_4167</td>\n",
       "      <td>11.7</td>\n",
       "      <td>0.0</td>\n",
       "      <td>left_only</td>\n",
       "    </tr>\n",
       "    <tr>\n",
       "      <th>542778</th>\n",
       "      <td>0_2245</td>\n",
       "      <td>2022-05-16 11:35:20.319501</td>\n",
       "      <td>s_209381</td>\n",
       "      <td>c_4453</td>\n",
       "      <td>11.7</td>\n",
       "      <td>0.0</td>\n",
       "      <td>left_only</td>\n",
       "    </tr>\n",
       "    <tr>\n",
       "      <th>542779</th>\n",
       "      <td>0_2245</td>\n",
       "      <td>2022-02-11 09:05:43.952857</td>\n",
       "      <td>s_163405</td>\n",
       "      <td>c_1098</td>\n",
       "      <td>11.7</td>\n",
       "      <td>0.0</td>\n",
       "      <td>left_only</td>\n",
       "    </tr>\n",
       "    <tr>\n",
       "      <th>542780</th>\n",
       "      <td>0_2245</td>\n",
       "      <td>2021-12-14 22:34:54.589921</td>\n",
       "      <td>s_134446</td>\n",
       "      <td>c_4854</td>\n",
       "      <td>11.7</td>\n",
       "      <td>0.0</td>\n",
       "      <td>left_only</td>\n",
       "    </tr>\n",
       "  </tbody>\n",
       "</table>\n",
       "<p>221 rows × 7 columns</p>\n",
       "</div>"
      ],
      "text/plain": [
       "       id_prod                        date session_id client_id  price  categ  \\\n",
       "542560  0_2245  2022-09-23 07:22:38.636773   s_272266    c_4746   11.7    0.0   \n",
       "542561  0_2245  2022-07-23 09:24:14.133889   s_242482    c_6713   11.7    0.0   \n",
       "542562  0_2245  2022-12-03 03:26:35.696673   s_306338    c_5108   11.7    0.0   \n",
       "542563  0_2245  2021-08-16 11:33:25.481411    s_76493    c_1391   11.7    0.0   \n",
       "542564  0_2245  2022-07-16 05:53:01.627491   s_239078    c_7954   11.7    0.0   \n",
       "...        ...                         ...        ...       ...    ...    ...   \n",
       "542776  0_2245  2021-08-25 09:06:03.504061    s_80395     c_131   11.7    0.0   \n",
       "542777  0_2245  2022-03-06 19:59:19.462288   s_175311    c_4167   11.7    0.0   \n",
       "542778  0_2245  2022-05-16 11:35:20.319501   s_209381    c_4453   11.7    0.0   \n",
       "542779  0_2245  2022-02-11 09:05:43.952857   s_163405    c_1098   11.7    0.0   \n",
       "542780  0_2245  2021-12-14 22:34:54.589921   s_134446    c_4854   11.7    0.0   \n",
       "\n",
       "           _merge  \n",
       "542560  left_only  \n",
       "542561  left_only  \n",
       "542562  left_only  \n",
       "542563  left_only  \n",
       "542564  left_only  \n",
       "...           ...  \n",
       "542776  left_only  \n",
       "542777  left_only  \n",
       "542778  left_only  \n",
       "542779  left_only  \n",
       "542780  left_only  \n",
       "\n",
       "[221 rows x 7 columns]"
      ]
     },
     "execution_count": 39,
     "metadata": {},
     "output_type": "execute_result"
    }
   ],
   "source": [
    "df_final[df_final._merge==\"left_only\"]"
   ]
  },
  {
   "cell_type": "code",
   "execution_count": null,
   "id": "f46b491f",
   "metadata": {},
   "outputs": [],
   "source": []
  },
  {
   "cell_type": "markdown",
   "id": "d1017d19",
   "metadata": {},
   "source": [
    "### 1.2.1 - ajout de customers"
   ]
  },
  {
   "cell_type": "code",
   "execution_count": 40,
   "id": "f3a25335",
   "metadata": {},
   "outputs": [],
   "source": [
    "# faire la jointure \n",
    "\n",
    "df_final = pd.merge(df_final,customers, on = 'client_id', how= 'outer', indicator = \"_merge_2\")"
   ]
  },
  {
   "cell_type": "code",
   "execution_count": 41,
   "id": "111e0885",
   "metadata": {},
   "outputs": [
    {
     "data": {
      "text/html": [
       "<div>\n",
       "<style scoped>\n",
       "    .dataframe tbody tr th:only-of-type {\n",
       "        vertical-align: middle;\n",
       "    }\n",
       "\n",
       "    .dataframe tbody tr th {\n",
       "        vertical-align: top;\n",
       "    }\n",
       "\n",
       "    .dataframe thead th {\n",
       "        text-align: right;\n",
       "    }\n",
       "</style>\n",
       "<table border=\"1\" class=\"dataframe\">\n",
       "  <thead>\n",
       "    <tr style=\"text-align: right;\">\n",
       "      <th></th>\n",
       "      <th>id_prod</th>\n",
       "      <th>date</th>\n",
       "      <th>session_id</th>\n",
       "      <th>client_id</th>\n",
       "      <th>price</th>\n",
       "      <th>categ</th>\n",
       "      <th>_merge</th>\n",
       "      <th>sex</th>\n",
       "      <th>birth</th>\n",
       "      <th>_merge_2</th>\n",
       "    </tr>\n",
       "  </thead>\n",
       "  <tbody>\n",
       "  </tbody>\n",
       "</table>\n",
       "</div>"
      ],
      "text/plain": [
       "Empty DataFrame\n",
       "Columns: [id_prod, date, session_id, client_id, price, categ, _merge, sex, birth, _merge_2]\n",
       "Index: []"
      ]
     },
     "execution_count": 41,
     "metadata": {},
     "output_type": "execute_result"
    }
   ],
   "source": [
    "# Vérifier si des ventes concernent des clients absents de customers \n",
    "\n",
    "df_final[df_final._merge_2==\"left_only\"]"
   ]
  },
  {
   "cell_type": "code",
   "execution_count": 42,
   "id": "6300f191",
   "metadata": {},
   "outputs": [
    {
     "data": {
      "text/html": [
       "<div>\n",
       "<style scoped>\n",
       "    .dataframe tbody tr th:only-of-type {\n",
       "        vertical-align: middle;\n",
       "    }\n",
       "\n",
       "    .dataframe tbody tr th {\n",
       "        vertical-align: top;\n",
       "    }\n",
       "\n",
       "    .dataframe thead th {\n",
       "        text-align: right;\n",
       "    }\n",
       "</style>\n",
       "<table border=\"1\" class=\"dataframe\">\n",
       "  <thead>\n",
       "    <tr style=\"text-align: right;\">\n",
       "      <th></th>\n",
       "      <th>id_prod</th>\n",
       "      <th>date</th>\n",
       "      <th>session_id</th>\n",
       "      <th>client_id</th>\n",
       "      <th>price</th>\n",
       "      <th>categ</th>\n",
       "      <th>_merge</th>\n",
       "      <th>sex</th>\n",
       "      <th>birth</th>\n",
       "      <th>_merge_2</th>\n",
       "    </tr>\n",
       "  </thead>\n",
       "  <tbody>\n",
       "    <tr>\n",
       "      <th>679332</th>\n",
       "      <td>NaN</td>\n",
       "      <td>NaN</td>\n",
       "      <td>NaN</td>\n",
       "      <td>c_8253</td>\n",
       "      <td>NaN</td>\n",
       "      <td>NaN</td>\n",
       "      <td>NaN</td>\n",
       "      <td>f</td>\n",
       "      <td>2001</td>\n",
       "      <td>right_only</td>\n",
       "    </tr>\n",
       "    <tr>\n",
       "      <th>679333</th>\n",
       "      <td>NaN</td>\n",
       "      <td>NaN</td>\n",
       "      <td>NaN</td>\n",
       "      <td>c_3789</td>\n",
       "      <td>NaN</td>\n",
       "      <td>NaN</td>\n",
       "      <td>NaN</td>\n",
       "      <td>f</td>\n",
       "      <td>1997</td>\n",
       "      <td>right_only</td>\n",
       "    </tr>\n",
       "    <tr>\n",
       "      <th>679334</th>\n",
       "      <td>NaN</td>\n",
       "      <td>NaN</td>\n",
       "      <td>NaN</td>\n",
       "      <td>c_4406</td>\n",
       "      <td>NaN</td>\n",
       "      <td>NaN</td>\n",
       "      <td>NaN</td>\n",
       "      <td>f</td>\n",
       "      <td>1998</td>\n",
       "      <td>right_only</td>\n",
       "    </tr>\n",
       "    <tr>\n",
       "      <th>679335</th>\n",
       "      <td>NaN</td>\n",
       "      <td>NaN</td>\n",
       "      <td>NaN</td>\n",
       "      <td>ct_0</td>\n",
       "      <td>NaN</td>\n",
       "      <td>NaN</td>\n",
       "      <td>NaN</td>\n",
       "      <td>f</td>\n",
       "      <td>2001</td>\n",
       "      <td>right_only</td>\n",
       "    </tr>\n",
       "    <tr>\n",
       "      <th>679336</th>\n",
       "      <td>NaN</td>\n",
       "      <td>NaN</td>\n",
       "      <td>NaN</td>\n",
       "      <td>c_2706</td>\n",
       "      <td>NaN</td>\n",
       "      <td>NaN</td>\n",
       "      <td>NaN</td>\n",
       "      <td>f</td>\n",
       "      <td>1967</td>\n",
       "      <td>right_only</td>\n",
       "    </tr>\n",
       "    <tr>\n",
       "      <th>679337</th>\n",
       "      <td>NaN</td>\n",
       "      <td>NaN</td>\n",
       "      <td>NaN</td>\n",
       "      <td>c_3443</td>\n",
       "      <td>NaN</td>\n",
       "      <td>NaN</td>\n",
       "      <td>NaN</td>\n",
       "      <td>m</td>\n",
       "      <td>1959</td>\n",
       "      <td>right_only</td>\n",
       "    </tr>\n",
       "    <tr>\n",
       "      <th>679338</th>\n",
       "      <td>NaN</td>\n",
       "      <td>NaN</td>\n",
       "      <td>NaN</td>\n",
       "      <td>c_4447</td>\n",
       "      <td>NaN</td>\n",
       "      <td>NaN</td>\n",
       "      <td>NaN</td>\n",
       "      <td>m</td>\n",
       "      <td>1956</td>\n",
       "      <td>right_only</td>\n",
       "    </tr>\n",
       "    <tr>\n",
       "      <th>679339</th>\n",
       "      <td>NaN</td>\n",
       "      <td>NaN</td>\n",
       "      <td>NaN</td>\n",
       "      <td>c_3017</td>\n",
       "      <td>NaN</td>\n",
       "      <td>NaN</td>\n",
       "      <td>NaN</td>\n",
       "      <td>f</td>\n",
       "      <td>1992</td>\n",
       "      <td>right_only</td>\n",
       "    </tr>\n",
       "    <tr>\n",
       "      <th>679340</th>\n",
       "      <td>NaN</td>\n",
       "      <td>NaN</td>\n",
       "      <td>NaN</td>\n",
       "      <td>c_4086</td>\n",
       "      <td>NaN</td>\n",
       "      <td>NaN</td>\n",
       "      <td>NaN</td>\n",
       "      <td>f</td>\n",
       "      <td>1992</td>\n",
       "      <td>right_only</td>\n",
       "    </tr>\n",
       "    <tr>\n",
       "      <th>679341</th>\n",
       "      <td>NaN</td>\n",
       "      <td>NaN</td>\n",
       "      <td>NaN</td>\n",
       "      <td>c_6930</td>\n",
       "      <td>NaN</td>\n",
       "      <td>NaN</td>\n",
       "      <td>NaN</td>\n",
       "      <td>m</td>\n",
       "      <td>2004</td>\n",
       "      <td>right_only</td>\n",
       "    </tr>\n",
       "    <tr>\n",
       "      <th>679342</th>\n",
       "      <td>NaN</td>\n",
       "      <td>NaN</td>\n",
       "      <td>NaN</td>\n",
       "      <td>c_4358</td>\n",
       "      <td>NaN</td>\n",
       "      <td>NaN</td>\n",
       "      <td>NaN</td>\n",
       "      <td>m</td>\n",
       "      <td>1999</td>\n",
       "      <td>right_only</td>\n",
       "    </tr>\n",
       "    <tr>\n",
       "      <th>679343</th>\n",
       "      <td>NaN</td>\n",
       "      <td>NaN</td>\n",
       "      <td>NaN</td>\n",
       "      <td>c_8381</td>\n",
       "      <td>NaN</td>\n",
       "      <td>NaN</td>\n",
       "      <td>NaN</td>\n",
       "      <td>f</td>\n",
       "      <td>1965</td>\n",
       "      <td>right_only</td>\n",
       "    </tr>\n",
       "    <tr>\n",
       "      <th>679344</th>\n",
       "      <td>NaN</td>\n",
       "      <td>NaN</td>\n",
       "      <td>NaN</td>\n",
       "      <td>c_1223</td>\n",
       "      <td>NaN</td>\n",
       "      <td>NaN</td>\n",
       "      <td>NaN</td>\n",
       "      <td>m</td>\n",
       "      <td>1963</td>\n",
       "      <td>right_only</td>\n",
       "    </tr>\n",
       "    <tr>\n",
       "      <th>679345</th>\n",
       "      <td>NaN</td>\n",
       "      <td>NaN</td>\n",
       "      <td>NaN</td>\n",
       "      <td>c_6862</td>\n",
       "      <td>NaN</td>\n",
       "      <td>NaN</td>\n",
       "      <td>NaN</td>\n",
       "      <td>f</td>\n",
       "      <td>2002</td>\n",
       "      <td>right_only</td>\n",
       "    </tr>\n",
       "    <tr>\n",
       "      <th>679346</th>\n",
       "      <td>NaN</td>\n",
       "      <td>NaN</td>\n",
       "      <td>NaN</td>\n",
       "      <td>c_5245</td>\n",
       "      <td>NaN</td>\n",
       "      <td>NaN</td>\n",
       "      <td>NaN</td>\n",
       "      <td>f</td>\n",
       "      <td>2004</td>\n",
       "      <td>right_only</td>\n",
       "    </tr>\n",
       "    <tr>\n",
       "      <th>679347</th>\n",
       "      <td>NaN</td>\n",
       "      <td>NaN</td>\n",
       "      <td>NaN</td>\n",
       "      <td>c_5223</td>\n",
       "      <td>NaN</td>\n",
       "      <td>NaN</td>\n",
       "      <td>NaN</td>\n",
       "      <td>m</td>\n",
       "      <td>2003</td>\n",
       "      <td>right_only</td>\n",
       "    </tr>\n",
       "    <tr>\n",
       "      <th>679348</th>\n",
       "      <td>NaN</td>\n",
       "      <td>NaN</td>\n",
       "      <td>NaN</td>\n",
       "      <td>c_6735</td>\n",
       "      <td>NaN</td>\n",
       "      <td>NaN</td>\n",
       "      <td>NaN</td>\n",
       "      <td>m</td>\n",
       "      <td>2004</td>\n",
       "      <td>right_only</td>\n",
       "    </tr>\n",
       "    <tr>\n",
       "      <th>679349</th>\n",
       "      <td>NaN</td>\n",
       "      <td>NaN</td>\n",
       "      <td>NaN</td>\n",
       "      <td>c_862</td>\n",
       "      <td>NaN</td>\n",
       "      <td>NaN</td>\n",
       "      <td>NaN</td>\n",
       "      <td>f</td>\n",
       "      <td>1956</td>\n",
       "      <td>right_only</td>\n",
       "    </tr>\n",
       "    <tr>\n",
       "      <th>679350</th>\n",
       "      <td>NaN</td>\n",
       "      <td>NaN</td>\n",
       "      <td>NaN</td>\n",
       "      <td>c_7584</td>\n",
       "      <td>NaN</td>\n",
       "      <td>NaN</td>\n",
       "      <td>NaN</td>\n",
       "      <td>f</td>\n",
       "      <td>1960</td>\n",
       "      <td>right_only</td>\n",
       "    </tr>\n",
       "    <tr>\n",
       "      <th>679351</th>\n",
       "      <td>NaN</td>\n",
       "      <td>NaN</td>\n",
       "      <td>NaN</td>\n",
       "      <td>c_90</td>\n",
       "      <td>NaN</td>\n",
       "      <td>NaN</td>\n",
       "      <td>NaN</td>\n",
       "      <td>m</td>\n",
       "      <td>2001</td>\n",
       "      <td>right_only</td>\n",
       "    </tr>\n",
       "    <tr>\n",
       "      <th>679352</th>\n",
       "      <td>NaN</td>\n",
       "      <td>NaN</td>\n",
       "      <td>NaN</td>\n",
       "      <td>c_587</td>\n",
       "      <td>NaN</td>\n",
       "      <td>NaN</td>\n",
       "      <td>NaN</td>\n",
       "      <td>m</td>\n",
       "      <td>1993</td>\n",
       "      <td>right_only</td>\n",
       "    </tr>\n",
       "    <tr>\n",
       "      <th>679353</th>\n",
       "      <td>NaN</td>\n",
       "      <td>NaN</td>\n",
       "      <td>NaN</td>\n",
       "      <td>ct_1</td>\n",
       "      <td>NaN</td>\n",
       "      <td>NaN</td>\n",
       "      <td>NaN</td>\n",
       "      <td>m</td>\n",
       "      <td>2001</td>\n",
       "      <td>right_only</td>\n",
       "    </tr>\n",
       "    <tr>\n",
       "      <th>679354</th>\n",
       "      <td>NaN</td>\n",
       "      <td>NaN</td>\n",
       "      <td>NaN</td>\n",
       "      <td>c_3526</td>\n",
       "      <td>NaN</td>\n",
       "      <td>NaN</td>\n",
       "      <td>NaN</td>\n",
       "      <td>m</td>\n",
       "      <td>1956</td>\n",
       "      <td>right_only</td>\n",
       "    </tr>\n",
       "  </tbody>\n",
       "</table>\n",
       "</div>"
      ],
      "text/plain": [
       "       id_prod date session_id client_id  price  categ _merge sex  birth  \\\n",
       "679332     NaN  NaN        NaN    c_8253    NaN    NaN    NaN   f   2001   \n",
       "679333     NaN  NaN        NaN    c_3789    NaN    NaN    NaN   f   1997   \n",
       "679334     NaN  NaN        NaN    c_4406    NaN    NaN    NaN   f   1998   \n",
       "679335     NaN  NaN        NaN      ct_0    NaN    NaN    NaN   f   2001   \n",
       "679336     NaN  NaN        NaN    c_2706    NaN    NaN    NaN   f   1967   \n",
       "679337     NaN  NaN        NaN    c_3443    NaN    NaN    NaN   m   1959   \n",
       "679338     NaN  NaN        NaN    c_4447    NaN    NaN    NaN   m   1956   \n",
       "679339     NaN  NaN        NaN    c_3017    NaN    NaN    NaN   f   1992   \n",
       "679340     NaN  NaN        NaN    c_4086    NaN    NaN    NaN   f   1992   \n",
       "679341     NaN  NaN        NaN    c_6930    NaN    NaN    NaN   m   2004   \n",
       "679342     NaN  NaN        NaN    c_4358    NaN    NaN    NaN   m   1999   \n",
       "679343     NaN  NaN        NaN    c_8381    NaN    NaN    NaN   f   1965   \n",
       "679344     NaN  NaN        NaN    c_1223    NaN    NaN    NaN   m   1963   \n",
       "679345     NaN  NaN        NaN    c_6862    NaN    NaN    NaN   f   2002   \n",
       "679346     NaN  NaN        NaN    c_5245    NaN    NaN    NaN   f   2004   \n",
       "679347     NaN  NaN        NaN    c_5223    NaN    NaN    NaN   m   2003   \n",
       "679348     NaN  NaN        NaN    c_6735    NaN    NaN    NaN   m   2004   \n",
       "679349     NaN  NaN        NaN     c_862    NaN    NaN    NaN   f   1956   \n",
       "679350     NaN  NaN        NaN    c_7584    NaN    NaN    NaN   f   1960   \n",
       "679351     NaN  NaN        NaN      c_90    NaN    NaN    NaN   m   2001   \n",
       "679352     NaN  NaN        NaN     c_587    NaN    NaN    NaN   m   1993   \n",
       "679353     NaN  NaN        NaN      ct_1    NaN    NaN    NaN   m   2001   \n",
       "679354     NaN  NaN        NaN    c_3526    NaN    NaN    NaN   m   1956   \n",
       "\n",
       "          _merge_2  \n",
       "679332  right_only  \n",
       "679333  right_only  \n",
       "679334  right_only  \n",
       "679335  right_only  \n",
       "679336  right_only  \n",
       "679337  right_only  \n",
       "679338  right_only  \n",
       "679339  right_only  \n",
       "679340  right_only  \n",
       "679341  right_only  \n",
       "679342  right_only  \n",
       "679343  right_only  \n",
       "679344  right_only  \n",
       "679345  right_only  \n",
       "679346  right_only  \n",
       "679347  right_only  \n",
       "679348  right_only  \n",
       "679349  right_only  \n",
       "679350  right_only  \n",
       "679351  right_only  \n",
       "679352  right_only  \n",
       "679353  right_only  \n",
       "679354  right_only  "
      ]
     },
     "execution_count": 42,
     "metadata": {},
     "output_type": "execute_result"
    }
   ],
   "source": [
    "# Vérifier si des clients n'ont fait aucun achat\n",
    "\n",
    "df_final[df_final._merge_2==\"right_only\"]"
   ]
  },
  {
   "cell_type": "code",
   "execution_count": 43,
   "id": "a47cdd20",
   "metadata": {},
   "outputs": [
    {
     "data": {
      "text/plain": [
       "array(['c_8253', 'c_3789', 'c_4406', 'ct_0', 'c_2706', 'c_3443', 'c_4447',\n",
       "       'c_3017', 'c_4086', 'c_6930', 'c_4358', 'c_8381', 'c_1223',\n",
       "       'c_6862', 'c_5245', 'c_5223', 'c_6735', 'c_862', 'c_7584', 'c_90',\n",
       "       'c_587', 'ct_1', 'c_3526'], dtype=object)"
      ]
     },
     "execution_count": 43,
     "metadata": {},
     "output_type": "execute_result"
    }
   ],
   "source": [
    "#liste des clients sans achat\n",
    "df_final[df_final._merge_2==\"right_only\"].client_id.unique()"
   ]
  },
  {
   "cell_type": "code",
   "execution_count": 44,
   "id": "a6681acc",
   "metadata": {},
   "outputs": [],
   "source": [
    "#on enlève les lignes avec ces clients \n",
    "\n",
    "df_final = df_final[df_final._merge_2==\"both\"]"
   ]
  },
  {
   "cell_type": "markdown",
   "id": "a9f8739b",
   "metadata": {},
   "source": [
    "# 2 Analyse globale du CA"
   ]
  },
  {
   "cell_type": "code",
   "execution_count": 45,
   "id": "0a08a145",
   "metadata": {},
   "outputs": [
    {
     "data": {
      "text/html": [
       "<div>\n",
       "<style scoped>\n",
       "    .dataframe tbody tr th:only-of-type {\n",
       "        vertical-align: middle;\n",
       "    }\n",
       "\n",
       "    .dataframe tbody tr th {\n",
       "        vertical-align: top;\n",
       "    }\n",
       "\n",
       "    .dataframe thead th {\n",
       "        text-align: right;\n",
       "    }\n",
       "</style>\n",
       "<table border=\"1\" class=\"dataframe\">\n",
       "  <thead>\n",
       "    <tr style=\"text-align: right;\">\n",
       "      <th></th>\n",
       "      <th>id_prod</th>\n",
       "      <th>date</th>\n",
       "      <th>session_id</th>\n",
       "      <th>client_id</th>\n",
       "      <th>price</th>\n",
       "      <th>categ</th>\n",
       "      <th>_merge</th>\n",
       "      <th>sex</th>\n",
       "      <th>birth</th>\n",
       "      <th>_merge_2</th>\n",
       "    </tr>\n",
       "  </thead>\n",
       "  <tbody>\n",
       "    <tr>\n",
       "      <th>0</th>\n",
       "      <td>0_1518</td>\n",
       "      <td>2022-05-20 13:21:29.043970</td>\n",
       "      <td>s_211425</td>\n",
       "      <td>c_103</td>\n",
       "      <td>4.18</td>\n",
       "      <td>0.0</td>\n",
       "      <td>both</td>\n",
       "      <td>f</td>\n",
       "      <td>1986</td>\n",
       "      <td>both</td>\n",
       "    </tr>\n",
       "    <tr>\n",
       "      <th>1</th>\n",
       "      <td>0_1518</td>\n",
       "      <td>2021-07-20 13:21:29.043970</td>\n",
       "      <td>s_64849</td>\n",
       "      <td>c_103</td>\n",
       "      <td>4.18</td>\n",
       "      <td>0.0</td>\n",
       "      <td>both</td>\n",
       "      <td>f</td>\n",
       "      <td>1986</td>\n",
       "      <td>both</td>\n",
       "    </tr>\n",
       "    <tr>\n",
       "      <th>2</th>\n",
       "      <td>0_1518</td>\n",
       "      <td>2022-08-20 13:21:29.043970</td>\n",
       "      <td>s_255965</td>\n",
       "      <td>c_103</td>\n",
       "      <td>4.18</td>\n",
       "      <td>0.0</td>\n",
       "      <td>both</td>\n",
       "      <td>f</td>\n",
       "      <td>1986</td>\n",
       "      <td>both</td>\n",
       "    </tr>\n",
       "    <tr>\n",
       "      <th>3</th>\n",
       "      <td>0_1418</td>\n",
       "      <td>2022-06-18 01:49:37.823274</td>\n",
       "      <td>s_225411</td>\n",
       "      <td>c_103</td>\n",
       "      <td>8.57</td>\n",
       "      <td>0.0</td>\n",
       "      <td>both</td>\n",
       "      <td>f</td>\n",
       "      <td>1986</td>\n",
       "      <td>both</td>\n",
       "    </tr>\n",
       "    <tr>\n",
       "      <th>4</th>\n",
       "      <td>0_1418</td>\n",
       "      <td>2021-08-18 01:49:37.823274</td>\n",
       "      <td>s_77214</td>\n",
       "      <td>c_103</td>\n",
       "      <td>8.57</td>\n",
       "      <td>0.0</td>\n",
       "      <td>both</td>\n",
       "      <td>f</td>\n",
       "      <td>1986</td>\n",
       "      <td>both</td>\n",
       "    </tr>\n",
       "  </tbody>\n",
       "</table>\n",
       "</div>"
      ],
      "text/plain": [
       "  id_prod                        date session_id client_id  price  categ  \\\n",
       "0  0_1518  2022-05-20 13:21:29.043970   s_211425     c_103   4.18    0.0   \n",
       "1  0_1518  2021-07-20 13:21:29.043970    s_64849     c_103   4.18    0.0   \n",
       "2  0_1518  2022-08-20 13:21:29.043970   s_255965     c_103   4.18    0.0   \n",
       "3  0_1418  2022-06-18 01:49:37.823274   s_225411     c_103   8.57    0.0   \n",
       "4  0_1418  2021-08-18 01:49:37.823274    s_77214     c_103   8.57    0.0   \n",
       "\n",
       "  _merge sex  birth _merge_2  \n",
       "0   both   f   1986     both  \n",
       "1   both   f   1986     both  \n",
       "2   both   f   1986     both  \n",
       "3   both   f   1986     both  \n",
       "4   both   f   1986     both  "
      ]
     },
     "execution_count": 45,
     "metadata": {},
     "output_type": "execute_result"
    }
   ],
   "source": [
    "df_final.head()"
   ]
  },
  {
   "cell_type": "code",
   "execution_count": 46,
   "id": "c74eecf7",
   "metadata": {},
   "outputs": [
    {
     "data": {
      "text/plain": [
       "11856314.38"
      ]
     },
     "execution_count": 46,
     "metadata": {},
     "output_type": "execute_result"
    }
   ],
   "source": [
    "# calculer le CA total\n",
    "df_final.price.sum()\n"
   ]
  },
  {
   "cell_type": "code",
   "execution_count": 47,
   "id": "c5a85e9a",
   "metadata": {},
   "outputs": [
    {
     "name": "stdout",
     "output_type": "stream",
     "text": [
      "le CA total :  11.9 millions\n"
     ]
    }
   ],
   "source": [
    "print (\"le CA total : \", round(df_final.price.sum()/1000000,1), \"millions\")"
   ]
  },
  {
   "cell_type": "markdown",
   "id": "377d6092",
   "metadata": {},
   "source": [
    "## 2.1 Traitement de la date"
   ]
  },
  {
   "cell_type": "markdown",
   "id": "2c66967d",
   "metadata": {},
   "source": [
    "On aimerait pouvoir faire des analyses du CA par an, par mois, par jour de la semaine, par catégorie de produit.\n",
    "On s'occupera des analyses des usages de clients dans le chapitre 3 "
   ]
  },
  {
   "cell_type": "markdown",
   "id": "ebbbf459",
   "metadata": {},
   "source": [
    "On a besoin de traiter la date pour pouvoir faire ces analyses. \n",
    "On va créer des nouvelles colonnes à parti de ce champ"
   ]
  },
  {
   "cell_type": "code",
   "execution_count": 48,
   "id": "44ce930b",
   "metadata": {},
   "outputs": [],
   "source": [
    "# Modification du type de ma colonne date\n",
    "df_final['date'] = pd.to_datetime(df_final['date'])"
   ]
  },
  {
   "cell_type": "code",
   "execution_count": 49,
   "id": "3897855c",
   "metadata": {},
   "outputs": [],
   "source": [
    "df_final['année'] = df_final['date'].dt.year"
   ]
  },
  {
   "cell_type": "code",
   "execution_count": 50,
   "id": "4c4bace1",
   "metadata": {},
   "outputs": [
    {
     "data": {
      "text/html": [
       "<div>\n",
       "<style scoped>\n",
       "    .dataframe tbody tr th:only-of-type {\n",
       "        vertical-align: middle;\n",
       "    }\n",
       "\n",
       "    .dataframe tbody tr th {\n",
       "        vertical-align: top;\n",
       "    }\n",
       "\n",
       "    .dataframe thead th {\n",
       "        text-align: right;\n",
       "    }\n",
       "</style>\n",
       "<table border=\"1\" class=\"dataframe\">\n",
       "  <thead>\n",
       "    <tr style=\"text-align: right;\">\n",
       "      <th></th>\n",
       "      <th>id_prod</th>\n",
       "      <th>date</th>\n",
       "      <th>session_id</th>\n",
       "      <th>client_id</th>\n",
       "      <th>price</th>\n",
       "      <th>categ</th>\n",
       "      <th>_merge</th>\n",
       "      <th>sex</th>\n",
       "      <th>birth</th>\n",
       "      <th>_merge_2</th>\n",
       "      <th>année</th>\n",
       "    </tr>\n",
       "  </thead>\n",
       "  <tbody>\n",
       "    <tr>\n",
       "      <th>0</th>\n",
       "      <td>0_1518</td>\n",
       "      <td>2022-05-20 13:21:29.043970</td>\n",
       "      <td>s_211425</td>\n",
       "      <td>c_103</td>\n",
       "      <td>4.18</td>\n",
       "      <td>0.0</td>\n",
       "      <td>both</td>\n",
       "      <td>f</td>\n",
       "      <td>1986</td>\n",
       "      <td>both</td>\n",
       "      <td>2022</td>\n",
       "    </tr>\n",
       "    <tr>\n",
       "      <th>1</th>\n",
       "      <td>0_1518</td>\n",
       "      <td>2021-07-20 13:21:29.043970</td>\n",
       "      <td>s_64849</td>\n",
       "      <td>c_103</td>\n",
       "      <td>4.18</td>\n",
       "      <td>0.0</td>\n",
       "      <td>both</td>\n",
       "      <td>f</td>\n",
       "      <td>1986</td>\n",
       "      <td>both</td>\n",
       "      <td>2021</td>\n",
       "    </tr>\n",
       "    <tr>\n",
       "      <th>2</th>\n",
       "      <td>0_1518</td>\n",
       "      <td>2022-08-20 13:21:29.043970</td>\n",
       "      <td>s_255965</td>\n",
       "      <td>c_103</td>\n",
       "      <td>4.18</td>\n",
       "      <td>0.0</td>\n",
       "      <td>both</td>\n",
       "      <td>f</td>\n",
       "      <td>1986</td>\n",
       "      <td>both</td>\n",
       "      <td>2022</td>\n",
       "    </tr>\n",
       "    <tr>\n",
       "      <th>3</th>\n",
       "      <td>0_1418</td>\n",
       "      <td>2022-06-18 01:49:37.823274</td>\n",
       "      <td>s_225411</td>\n",
       "      <td>c_103</td>\n",
       "      <td>8.57</td>\n",
       "      <td>0.0</td>\n",
       "      <td>both</td>\n",
       "      <td>f</td>\n",
       "      <td>1986</td>\n",
       "      <td>both</td>\n",
       "      <td>2022</td>\n",
       "    </tr>\n",
       "    <tr>\n",
       "      <th>4</th>\n",
       "      <td>0_1418</td>\n",
       "      <td>2021-08-18 01:49:37.823274</td>\n",
       "      <td>s_77214</td>\n",
       "      <td>c_103</td>\n",
       "      <td>8.57</td>\n",
       "      <td>0.0</td>\n",
       "      <td>both</td>\n",
       "      <td>f</td>\n",
       "      <td>1986</td>\n",
       "      <td>both</td>\n",
       "      <td>2021</td>\n",
       "    </tr>\n",
       "  </tbody>\n",
       "</table>\n",
       "</div>"
      ],
      "text/plain": [
       "  id_prod                       date session_id client_id  price  categ  \\\n",
       "0  0_1518 2022-05-20 13:21:29.043970   s_211425     c_103   4.18    0.0   \n",
       "1  0_1518 2021-07-20 13:21:29.043970    s_64849     c_103   4.18    0.0   \n",
       "2  0_1518 2022-08-20 13:21:29.043970   s_255965     c_103   4.18    0.0   \n",
       "3  0_1418 2022-06-18 01:49:37.823274   s_225411     c_103   8.57    0.0   \n",
       "4  0_1418 2021-08-18 01:49:37.823274    s_77214     c_103   8.57    0.0   \n",
       "\n",
       "  _merge sex  birth _merge_2  année  \n",
       "0   both   f   1986     both   2022  \n",
       "1   both   f   1986     both   2021  \n",
       "2   both   f   1986     both   2022  \n",
       "3   both   f   1986     both   2022  \n",
       "4   both   f   1986     both   2021  "
      ]
     },
     "execution_count": 50,
     "metadata": {},
     "output_type": "execute_result"
    }
   ],
   "source": [
    "df_final.head()"
   ]
  },
  {
   "cell_type": "markdown",
   "id": "f621b919",
   "metadata": {},
   "source": [
    "En vous inspirant de ce qu'on vient de faire, créer :\n",
    "\n",
    "    un champ mois\n",
    "\n",
    "    un champ jour du mois\n",
    "\n",
    "    un champ jour de la semaine\n"
   ]
  },
  {
   "cell_type": "code",
   "execution_count": 51,
   "id": "84e4689a",
   "metadata": {},
   "outputs": [],
   "source": [
    "# A vous de jouer\n",
    "df_final['année'] = df_final['date'].dt.year\n",
    "df_final['mois'] = df_final['date'].dt.month\n",
    "df_final['jour'] = df_final['date'].dt.day\n",
    "df_final['jour_sem'] = df_final['date'].dt.day_of_week"
   ]
  },
  {
   "cell_type": "code",
   "execution_count": 52,
   "id": "c3b0f16c",
   "metadata": {},
   "outputs": [
    {
     "data": {
      "text/html": [
       "<div>\n",
       "<style scoped>\n",
       "    .dataframe tbody tr th:only-of-type {\n",
       "        vertical-align: middle;\n",
       "    }\n",
       "\n",
       "    .dataframe tbody tr th {\n",
       "        vertical-align: top;\n",
       "    }\n",
       "\n",
       "    .dataframe thead th {\n",
       "        text-align: right;\n",
       "    }\n",
       "</style>\n",
       "<table border=\"1\" class=\"dataframe\">\n",
       "  <thead>\n",
       "    <tr style=\"text-align: right;\">\n",
       "      <th></th>\n",
       "      <th>id_prod</th>\n",
       "      <th>date</th>\n",
       "      <th>session_id</th>\n",
       "      <th>client_id</th>\n",
       "      <th>price</th>\n",
       "      <th>categ</th>\n",
       "      <th>_merge</th>\n",
       "      <th>sex</th>\n",
       "      <th>birth</th>\n",
       "      <th>_merge_2</th>\n",
       "      <th>année</th>\n",
       "      <th>mois</th>\n",
       "      <th>jour</th>\n",
       "      <th>jour_sem</th>\n",
       "    </tr>\n",
       "  </thead>\n",
       "  <tbody>\n",
       "    <tr>\n",
       "      <th>0</th>\n",
       "      <td>0_1518</td>\n",
       "      <td>2022-05-20 13:21:29.043970</td>\n",
       "      <td>s_211425</td>\n",
       "      <td>c_103</td>\n",
       "      <td>4.18</td>\n",
       "      <td>0.0</td>\n",
       "      <td>both</td>\n",
       "      <td>f</td>\n",
       "      <td>1986</td>\n",
       "      <td>both</td>\n",
       "      <td>2022</td>\n",
       "      <td>5</td>\n",
       "      <td>20</td>\n",
       "      <td>4</td>\n",
       "    </tr>\n",
       "    <tr>\n",
       "      <th>1</th>\n",
       "      <td>0_1518</td>\n",
       "      <td>2021-07-20 13:21:29.043970</td>\n",
       "      <td>s_64849</td>\n",
       "      <td>c_103</td>\n",
       "      <td>4.18</td>\n",
       "      <td>0.0</td>\n",
       "      <td>both</td>\n",
       "      <td>f</td>\n",
       "      <td>1986</td>\n",
       "      <td>both</td>\n",
       "      <td>2021</td>\n",
       "      <td>7</td>\n",
       "      <td>20</td>\n",
       "      <td>1</td>\n",
       "    </tr>\n",
       "    <tr>\n",
       "      <th>2</th>\n",
       "      <td>0_1518</td>\n",
       "      <td>2022-08-20 13:21:29.043970</td>\n",
       "      <td>s_255965</td>\n",
       "      <td>c_103</td>\n",
       "      <td>4.18</td>\n",
       "      <td>0.0</td>\n",
       "      <td>both</td>\n",
       "      <td>f</td>\n",
       "      <td>1986</td>\n",
       "      <td>both</td>\n",
       "      <td>2022</td>\n",
       "      <td>8</td>\n",
       "      <td>20</td>\n",
       "      <td>5</td>\n",
       "    </tr>\n",
       "    <tr>\n",
       "      <th>3</th>\n",
       "      <td>0_1418</td>\n",
       "      <td>2022-06-18 01:49:37.823274</td>\n",
       "      <td>s_225411</td>\n",
       "      <td>c_103</td>\n",
       "      <td>8.57</td>\n",
       "      <td>0.0</td>\n",
       "      <td>both</td>\n",
       "      <td>f</td>\n",
       "      <td>1986</td>\n",
       "      <td>both</td>\n",
       "      <td>2022</td>\n",
       "      <td>6</td>\n",
       "      <td>18</td>\n",
       "      <td>5</td>\n",
       "    </tr>\n",
       "    <tr>\n",
       "      <th>4</th>\n",
       "      <td>0_1418</td>\n",
       "      <td>2021-08-18 01:49:37.823274</td>\n",
       "      <td>s_77214</td>\n",
       "      <td>c_103</td>\n",
       "      <td>8.57</td>\n",
       "      <td>0.0</td>\n",
       "      <td>both</td>\n",
       "      <td>f</td>\n",
       "      <td>1986</td>\n",
       "      <td>both</td>\n",
       "      <td>2021</td>\n",
       "      <td>8</td>\n",
       "      <td>18</td>\n",
       "      <td>2</td>\n",
       "    </tr>\n",
       "  </tbody>\n",
       "</table>\n",
       "</div>"
      ],
      "text/plain": [
       "  id_prod                       date session_id client_id  price  categ  \\\n",
       "0  0_1518 2022-05-20 13:21:29.043970   s_211425     c_103   4.18    0.0   \n",
       "1  0_1518 2021-07-20 13:21:29.043970    s_64849     c_103   4.18    0.0   \n",
       "2  0_1518 2022-08-20 13:21:29.043970   s_255965     c_103   4.18    0.0   \n",
       "3  0_1418 2022-06-18 01:49:37.823274   s_225411     c_103   8.57    0.0   \n",
       "4  0_1418 2021-08-18 01:49:37.823274    s_77214     c_103   8.57    0.0   \n",
       "\n",
       "  _merge sex  birth _merge_2  année  mois  jour  jour_sem  \n",
       "0   both   f   1986     both   2022     5    20         4  \n",
       "1   both   f   1986     both   2021     7    20         1  \n",
       "2   both   f   1986     both   2022     8    20         5  \n",
       "3   both   f   1986     both   2022     6    18         5  \n",
       "4   both   f   1986     both   2021     8    18         2  "
      ]
     },
     "execution_count": 52,
     "metadata": {},
     "output_type": "execute_result"
    }
   ],
   "source": [
    "df_final.head()"
   ]
  },
  {
   "cell_type": "markdown",
   "id": "a9c3dec7",
   "metadata": {},
   "source": [
    "## 2.2 Analyse calendaire"
   ]
  },
  {
   "cell_type": "code",
   "execution_count": 53,
   "id": "9df568c5",
   "metadata": {},
   "outputs": [
    {
     "data": {
      "text/plain": [
       "année\n",
       "2021    4771844.46\n",
       "2022    6110085.81\n",
       "2023     974384.11\n",
       "Name: price, dtype: float64"
      ]
     },
     "execution_count": 53,
     "metadata": {},
     "output_type": "execute_result"
    }
   ],
   "source": [
    "#Calcule du CA par année\n",
    "df_final.groupby(\"année\").price.sum()"
   ]
  },
  {
   "cell_type": "code",
   "execution_count": 54,
   "id": "b121d6f9",
   "metadata": {},
   "outputs": [
    {
     "data": {
      "text/plain": [
       "<AxesSubplot:title={'center':'CA par année'}, xlabel='année', ylabel='CA'>"
      ]
     },
     "execution_count": 54,
     "metadata": {},
     "output_type": "execute_result"
    },
    {
     "data": {
      "image/png": "[encoded data removed]",
      "text/plain": [
       "<Figure size 432x288 with 1 Axes>"
      ]
     },
     "metadata": {
      "needs_background": "light"
     },
     "output_type": "display_data"
    }
   ],
   "source": [
    "df_final.groupby(\"année\").price.sum().plot(kind = \"bar\", title=\"CA par année\",ylabel=\"CA\")"
   ]
  },
  {
   "cell_type": "markdown",
   "id": "406c530c",
   "metadata": {},
   "source": [
    "En vous inspirant de ce qu'on vient de faire :\n",
    "\n",
    "- Etudier le CA par mois. Qu'observons nous ? \n",
    "\n",
    "- Est-ce qu'il y a un effet fin de mois ? ou début de mois ?\n",
    "\n",
    "- Est-ce qu'il y a un effet WE? \n",
    "\n",
    "\n",
    "\n"
   ]
  },
  {
   "cell_type": "code",
   "execution_count": 55,
   "id": "532e8a0e",
   "metadata": {},
   "outputs": [
    {
     "data": {
      "text/plain": [
       "<AxesSubplot:title={'center':'Evolution du CA'}, xlabel='année,mois', ylabel='€'>"
      ]
     },
     "execution_count": 55,
     "metadata": {},
     "output_type": "execute_result"
    },
    {
     "data": {
      "image/png": "[encoded data removed]",
      "text/plain": [
       "<Figure size 1080x720 with 1 Axes>"
      ]
     },
     "metadata": {
      "needs_background": "light"
     },
     "output_type": "display_data"
    }
   ],
   "source": [
    "# A vous de jouer\n",
    "df_final.groupby([\"année\", \"mois\"]).price.sum().plot(title=\"Evolution du CA\",ylabel=\"€\",figsize =(15,10), grid=True)\n",
    "\n",
    "\n"
   ]
  },
  {
   "cell_type": "code",
   "execution_count": 56,
   "id": "eaac1bd0",
   "metadata": {},
   "outputs": [
    {
     "data": {
      "text/plain": [
       "année  mois\n",
       "2021   3       482545.91\n",
       "       4       476273.10\n",
       "       5       493037.07\n",
       "       6       484170.46\n",
       "       7       482882.20\n",
       "       8       482390.09\n",
       "       9       507381.08\n",
       "       10      320880.64\n",
       "       11      516284.73\n",
       "       12      525999.18\n",
       "2022   1       525397.49\n",
       "       2       535700.20\n",
       "       3       515585.23\n",
       "       4       493162.74\n",
       "       5       517319.80\n",
       "       6       496098.02\n",
       "       7       510923.52\n",
       "       8       506560.87\n",
       "       9       494219.83\n",
       "       10      508034.77\n",
       "       11      496793.64\n",
       "       12      510289.70\n",
       "2023   1       517622.45\n",
       "       2       456761.66\n",
       "Name: price, dtype: float64"
      ]
     },
     "execution_count": 56,
     "metadata": {},
     "output_type": "execute_result"
    }
   ],
   "source": [
    "df_final.groupby([\"année\", \"mois\"]).price.sum()"
   ]
  },
  {
   "cell_type": "markdown",
   "id": "0a010b6f",
   "metadata": {},
   "source": [
    "Il y a eu une chute de CA importante en octobre 2021"
   ]
  },
  {
   "cell_type": "code",
   "execution_count": 57,
   "id": "6f052f4a",
   "metadata": {},
   "outputs": [
    {
     "data": {
      "text/plain": [
       "<AxesSubplot:title={'center':\"nombre d'achats moyen par jour du mois\"}, xlabel='jour'>"
      ]
     },
     "execution_count": 57,
     "metadata": {},
     "output_type": "execute_result"
    },
    {
     "data": {
      "image/png": "[encoded data removed]",
      "text/plain": [
       "<Figure size 432x288 with 1 Axes>"
      ]
     },
     "metadata": {
      "needs_background": "light"
     },
     "output_type": "display_data"
    }
   ],
   "source": [
    "df_final.groupby(\"jour\").price.mean().plot(title =\"nombre d'achats moyen par jour du mois\")"
   ]
  },
  {
   "cell_type": "code",
   "execution_count": 58,
   "id": "0f992ee3",
   "metadata": {},
   "outputs": [
    {
     "data": {
      "text/plain": [
       "<AxesSubplot:xlabel='jour'>"
      ]
     },
     "execution_count": 58,
     "metadata": {},
     "output_type": "execute_result"
    },
    {
     "data": {
      "image/png": "[encoded data removed]",
      "text/plain": [
       "<Figure size 432x288 with 1 Axes>"
      ]
     },
     "metadata": {
      "needs_background": "light"
     },
     "output_type": "display_data"
    }
   ],
   "source": [
    "df_final.groupby(\"jour\").price.count().plot()"
   ]
  },
  {
   "cell_type": "markdown",
   "id": "d331e2dc",
   "metadata": {},
   "source": [
    "Il ne semble pas y avoir d'effet fin de mois ou début de mois"
   ]
  },
  {
   "cell_type": "code",
   "execution_count": 59,
   "id": "4851ef8d",
   "metadata": {},
   "outputs": [
    {
     "data": {
      "text/plain": [
       "<AxesSubplot:title={'center':\"nombre d'achats moyen par jour de semaine\"}, xlabel='jour_sem'>"
      ]
     },
     "execution_count": 59,
     "metadata": {},
     "output_type": "execute_result"
    },
    {
     "data": {
      "image/png": "[encoded data removed]",
      "text/plain": [
       "<Figure size 432x288 with 1 Axes>"
      ]
     },
     "metadata": {
      "needs_background": "light"
     },
     "output_type": "display_data"
    }
   ],
   "source": [
    "df_final.groupby(\"jour_sem\").price.sum().plot(title =\"nombre d'achats moyen par jour de semaine\")"
   ]
  },
  {
   "cell_type": "code",
   "execution_count": 60,
   "id": "54f285a1",
   "metadata": {},
   "outputs": [
    {
     "data": {
      "text/plain": [
       "<AxesSubplot:title={'center':\"nombre d'achats moyen par jour de semaine\"}, xlabel='jour_sem'>"
      ]
     },
     "execution_count": 60,
     "metadata": {},
     "output_type": "execute_result"
    },
    {
     "data": {
      "image/png": "[encoded data removed]",
      "text/plain": [
       "<Figure size 432x288 with 1 Axes>"
      ]
     },
     "metadata": {
      "needs_background": "light"
     },
     "output_type": "display_data"
    }
   ],
   "source": [
    "df_final.groupby(\"jour_sem\").price.sum().plot(kind = \"bar\",title =\"nombre d'achats moyen par jour de semaine\")"
   ]
  },
  {
   "cell_type": "markdown",
   "id": "94d0d8a5",
   "metadata": {},
   "source": [
    "Le CA généré en début de semaine est légérement supérieur."
   ]
  },
  {
   "cell_type": "markdown",
   "id": "03f7b050",
   "metadata": {},
   "source": [
    "## 2.3 Analyse par catégorie\n",
    "\n"
   ]
  },
  {
   "cell_type": "code",
   "execution_count": 61,
   "id": "c40e9102",
   "metadata": {},
   "outputs": [],
   "source": [
    "# reprendre le travail ci-dessous et le détailler par categorie\n",
    "\n",
    "\n",
    "\n",
    "tcd_mois = pd.pivot_table(df_final, index = ['année','mois'], columns = 'categ', values = 'price',aggfunc={'price':'sum'})"
   ]
  },
  {
   "cell_type": "code",
   "execution_count": 62,
   "id": "1699adc0",
   "metadata": {},
   "outputs": [
    {
     "data": {
      "text/html": [
       "<div>\n",
       "<style scoped>\n",
       "    .dataframe tbody tr th:only-of-type {\n",
       "        vertical-align: middle;\n",
       "    }\n",
       "\n",
       "    .dataframe tbody tr th {\n",
       "        vertical-align: top;\n",
       "    }\n",
       "\n",
       "    .dataframe thead th {\n",
       "        text-align: right;\n",
       "    }\n",
       "</style>\n",
       "<table border=\"1\" class=\"dataframe\">\n",
       "  <thead>\n",
       "    <tr style=\"text-align: right;\">\n",
       "      <th></th>\n",
       "      <th>categ</th>\n",
       "      <th>0.0</th>\n",
       "      <th>1.0</th>\n",
       "      <th>2.0</th>\n",
       "    </tr>\n",
       "    <tr>\n",
       "      <th>année</th>\n",
       "      <th>mois</th>\n",
       "      <th></th>\n",
       "      <th></th>\n",
       "      <th></th>\n",
       "    </tr>\n",
       "  </thead>\n",
       "  <tbody>\n",
       "    <tr>\n",
       "      <th rowspan=\"10\" valign=\"top\">2021</th>\n",
       "      <th>3</th>\n",
       "      <td>193734.47</td>\n",
       "      <td>186974.17</td>\n",
       "      <td>101837.27</td>\n",
       "    </tr>\n",
       "    <tr>\n",
       "      <th>4</th>\n",
       "      <td>205386.26</td>\n",
       "      <td>156138.35</td>\n",
       "      <td>114748.49</td>\n",
       "    </tr>\n",
       "    <tr>\n",
       "      <th>5</th>\n",
       "      <td>196280.32</td>\n",
       "      <td>165893.40</td>\n",
       "      <td>130863.35</td>\n",
       "    </tr>\n",
       "    <tr>\n",
       "      <th>6</th>\n",
       "      <td>168025.05</td>\n",
       "      <td>189162.04</td>\n",
       "      <td>126983.37</td>\n",
       "    </tr>\n",
       "    <tr>\n",
       "      <th>7</th>\n",
       "      <td>144797.59</td>\n",
       "      <td>188523.27</td>\n",
       "      <td>149561.34</td>\n",
       "    </tr>\n",
       "    <tr>\n",
       "      <th>8</th>\n",
       "      <td>167842.92</td>\n",
       "      <td>162991.38</td>\n",
       "      <td>151555.79</td>\n",
       "    </tr>\n",
       "    <tr>\n",
       "      <th>9</th>\n",
       "      <td>246494.31</td>\n",
       "      <td>190613.78</td>\n",
       "      <td>70272.99</td>\n",
       "    </tr>\n",
       "    <tr>\n",
       "      <th>10</th>\n",
       "      <td>199332.73</td>\n",
       "      <td>33762.32</td>\n",
       "      <td>87785.59</td>\n",
       "    </tr>\n",
       "    <tr>\n",
       "      <th>11</th>\n",
       "      <td>156026.56</td>\n",
       "      <td>252910.39</td>\n",
       "      <td>107347.78</td>\n",
       "    </tr>\n",
       "    <tr>\n",
       "      <th>12</th>\n",
       "      <td>206118.14</td>\n",
       "      <td>251026.75</td>\n",
       "      <td>68854.29</td>\n",
       "    </tr>\n",
       "    <tr>\n",
       "      <th rowspan=\"12\" valign=\"top\">2022</th>\n",
       "      <th>1</th>\n",
       "      <td>164269.01</td>\n",
       "      <td>256267.92</td>\n",
       "      <td>104860.56</td>\n",
       "    </tr>\n",
       "    <tr>\n",
       "      <th>2</th>\n",
       "      <td>183326.03</td>\n",
       "      <td>213120.64</td>\n",
       "      <td>139253.53</td>\n",
       "    </tr>\n",
       "    <tr>\n",
       "      <th>3</th>\n",
       "      <td>191593.64</td>\n",
       "      <td>206485.26</td>\n",
       "      <td>117506.33</td>\n",
       "    </tr>\n",
       "    <tr>\n",
       "      <th>4</th>\n",
       "      <td>175161.06</td>\n",
       "      <td>195263.97</td>\n",
       "      <td>122737.71</td>\n",
       "    </tr>\n",
       "    <tr>\n",
       "      <th>5</th>\n",
       "      <td>195059.54</td>\n",
       "      <td>205532.63</td>\n",
       "      <td>116727.63</td>\n",
       "    </tr>\n",
       "    <tr>\n",
       "      <th>6</th>\n",
       "      <td>184016.76</td>\n",
       "      <td>201912.06</td>\n",
       "      <td>110169.20</td>\n",
       "    </tr>\n",
       "    <tr>\n",
       "      <th>7</th>\n",
       "      <td>187237.40</td>\n",
       "      <td>193969.72</td>\n",
       "      <td>129716.40</td>\n",
       "    </tr>\n",
       "    <tr>\n",
       "      <th>8</th>\n",
       "      <td>177466.36</td>\n",
       "      <td>211360.09</td>\n",
       "      <td>117734.42</td>\n",
       "    </tr>\n",
       "    <tr>\n",
       "      <th>9</th>\n",
       "      <td>183434.54</td>\n",
       "      <td>195379.54</td>\n",
       "      <td>115405.75</td>\n",
       "    </tr>\n",
       "    <tr>\n",
       "      <th>10</th>\n",
       "      <td>187546.17</td>\n",
       "      <td>199609.66</td>\n",
       "      <td>120878.94</td>\n",
       "    </tr>\n",
       "    <tr>\n",
       "      <th>11</th>\n",
       "      <td>184723.05</td>\n",
       "      <td>200427.99</td>\n",
       "      <td>111642.60</td>\n",
       "    </tr>\n",
       "    <tr>\n",
       "      <th>12</th>\n",
       "      <td>180540.90</td>\n",
       "      <td>205945.71</td>\n",
       "      <td>123803.09</td>\n",
       "    </tr>\n",
       "    <tr>\n",
       "      <th rowspan=\"2\" valign=\"top\">2023</th>\n",
       "      <th>1</th>\n",
       "      <td>181364.96</td>\n",
       "      <td>210104.41</td>\n",
       "      <td>126153.08</td>\n",
       "    </tr>\n",
       "    <tr>\n",
       "      <th>2</th>\n",
       "      <td>162538.90</td>\n",
       "      <td>180347.24</td>\n",
       "      <td>113875.52</td>\n",
       "    </tr>\n",
       "  </tbody>\n",
       "</table>\n",
       "</div>"
      ],
      "text/plain": [
       "categ             0.0        1.0        2.0\n",
       "année mois                                 \n",
       "2021  3     193734.47  186974.17  101837.27\n",
       "      4     205386.26  156138.35  114748.49\n",
       "      5     196280.32  165893.40  130863.35\n",
       "      6     168025.05  189162.04  126983.37\n",
       "      7     144797.59  188523.27  149561.34\n",
       "      8     167842.92  162991.38  151555.79\n",
       "      9     246494.31  190613.78   70272.99\n",
       "      10    199332.73   33762.32   87785.59\n",
       "      11    156026.56  252910.39  107347.78\n",
       "      12    206118.14  251026.75   68854.29\n",
       "2022  1     164269.01  256267.92  104860.56\n",
       "      2     183326.03  213120.64  139253.53\n",
       "      3     191593.64  206485.26  117506.33\n",
       "      4     175161.06  195263.97  122737.71\n",
       "      5     195059.54  205532.63  116727.63\n",
       "      6     184016.76  201912.06  110169.20\n",
       "      7     187237.40  193969.72  129716.40\n",
       "      8     177466.36  211360.09  117734.42\n",
       "      9     183434.54  195379.54  115405.75\n",
       "      10    187546.17  199609.66  120878.94\n",
       "      11    184723.05  200427.99  111642.60\n",
       "      12    180540.90  205945.71  123803.09\n",
       "2023  1     181364.96  210104.41  126153.08\n",
       "      2     162538.90  180347.24  113875.52"
      ]
     },
     "execution_count": 62,
     "metadata": {},
     "output_type": "execute_result"
    }
   ],
   "source": [
    "tcd_mois"
   ]
  },
  {
   "cell_type": "code",
   "execution_count": 63,
   "id": "db25c45b",
   "metadata": {},
   "outputs": [
    {
     "data": {
      "text/plain": [
       "<AxesSubplot:title={'center':'Evolution du CA par mois et par catégorie'}, xlabel='année,mois'>"
      ]
     },
     "execution_count": 63,
     "metadata": {},
     "output_type": "execute_result"
    },
    {
     "data": {
      "image/png": "[encoded data removed]",
      "text/plain": [
       "<Figure size 864x576 with 1 Axes>"
      ]
     },
     "metadata": {
      "needs_background": "light"
     },
     "output_type": "display_data"
    }
   ],
   "source": [
    "tcd_mois.plot(kind='bar',stacked = True,figsize=(12,8),width = 0.7, title ='Evolution du CA par mois et par catégorie')"
   ]
  },
  {
   "cell_type": "code",
   "execution_count": 64,
   "id": "eb52bccd",
   "metadata": {},
   "outputs": [],
   "source": [
    "tcd_jour =pd.pivot_table(df_final, index = ['jour'], columns = 'categ', values = 'price',aggfunc={'price':'mean'})"
   ]
  },
  {
   "cell_type": "code",
   "execution_count": 65,
   "id": "480aa494",
   "metadata": {},
   "outputs": [
    {
     "data": {
      "text/html": [
       "<div>\n",
       "<style scoped>\n",
       "    .dataframe tbody tr th:only-of-type {\n",
       "        vertical-align: middle;\n",
       "    }\n",
       "\n",
       "    .dataframe tbody tr th {\n",
       "        vertical-align: top;\n",
       "    }\n",
       "\n",
       "    .dataframe thead th {\n",
       "        text-align: right;\n",
       "    }\n",
       "</style>\n",
       "<table border=\"1\" class=\"dataframe\">\n",
       "  <thead>\n",
       "    <tr style=\"text-align: right;\">\n",
       "      <th>categ</th>\n",
       "      <th>0.0</th>\n",
       "      <th>1.0</th>\n",
       "      <th>2.0</th>\n",
       "    </tr>\n",
       "    <tr>\n",
       "      <th>jour</th>\n",
       "      <th></th>\n",
       "      <th></th>\n",
       "      <th></th>\n",
       "    </tr>\n",
       "  </thead>\n",
       "  <tbody>\n",
       "    <tr>\n",
       "      <th>1</th>\n",
       "      <td>10.679480</td>\n",
       "      <td>20.643511</td>\n",
       "      <td>75.232226</td>\n",
       "    </tr>\n",
       "    <tr>\n",
       "      <th>2</th>\n",
       "      <td>10.499528</td>\n",
       "      <td>20.677506</td>\n",
       "      <td>76.120829</td>\n",
       "    </tr>\n",
       "    <tr>\n",
       "      <th>3</th>\n",
       "      <td>10.493009</td>\n",
       "      <td>20.413034</td>\n",
       "      <td>78.745745</td>\n",
       "    </tr>\n",
       "    <tr>\n",
       "      <th>4</th>\n",
       "      <td>10.574564</td>\n",
       "      <td>20.349701</td>\n",
       "      <td>75.547022</td>\n",
       "    </tr>\n",
       "    <tr>\n",
       "      <th>5</th>\n",
       "      <td>10.617124</td>\n",
       "      <td>20.412316</td>\n",
       "      <td>75.353201</td>\n",
       "    </tr>\n",
       "    <tr>\n",
       "      <th>6</th>\n",
       "      <td>10.493971</td>\n",
       "      <td>20.407424</td>\n",
       "      <td>75.429562</td>\n",
       "    </tr>\n",
       "    <tr>\n",
       "      <th>7</th>\n",
       "      <td>10.677472</td>\n",
       "      <td>20.520463</td>\n",
       "      <td>78.765705</td>\n",
       "    </tr>\n",
       "    <tr>\n",
       "      <th>8</th>\n",
       "      <td>10.661957</td>\n",
       "      <td>20.670449</td>\n",
       "      <td>78.472537</td>\n",
       "    </tr>\n",
       "    <tr>\n",
       "      <th>9</th>\n",
       "      <td>10.702865</td>\n",
       "      <td>20.451171</td>\n",
       "      <td>76.780843</td>\n",
       "    </tr>\n",
       "    <tr>\n",
       "      <th>10</th>\n",
       "      <td>10.726534</td>\n",
       "      <td>20.521706</td>\n",
       "      <td>77.774974</td>\n",
       "    </tr>\n",
       "    <tr>\n",
       "      <th>11</th>\n",
       "      <td>10.634720</td>\n",
       "      <td>20.239288</td>\n",
       "      <td>77.137186</td>\n",
       "    </tr>\n",
       "    <tr>\n",
       "      <th>12</th>\n",
       "      <td>10.648249</td>\n",
       "      <td>20.533798</td>\n",
       "      <td>76.527007</td>\n",
       "    </tr>\n",
       "    <tr>\n",
       "      <th>13</th>\n",
       "      <td>10.681417</td>\n",
       "      <td>20.585312</td>\n",
       "      <td>75.293008</td>\n",
       "    </tr>\n",
       "    <tr>\n",
       "      <th>14</th>\n",
       "      <td>10.617201</td>\n",
       "      <td>20.490021</td>\n",
       "      <td>75.410195</td>\n",
       "    </tr>\n",
       "    <tr>\n",
       "      <th>15</th>\n",
       "      <td>10.669467</td>\n",
       "      <td>20.694557</td>\n",
       "      <td>75.809917</td>\n",
       "    </tr>\n",
       "    <tr>\n",
       "      <th>16</th>\n",
       "      <td>10.556297</td>\n",
       "      <td>20.459627</td>\n",
       "      <td>73.290083</td>\n",
       "    </tr>\n",
       "    <tr>\n",
       "      <th>17</th>\n",
       "      <td>10.682011</td>\n",
       "      <td>20.465704</td>\n",
       "      <td>78.865477</td>\n",
       "    </tr>\n",
       "    <tr>\n",
       "      <th>18</th>\n",
       "      <td>10.731452</td>\n",
       "      <td>20.311154</td>\n",
       "      <td>72.694156</td>\n",
       "    </tr>\n",
       "    <tr>\n",
       "      <th>19</th>\n",
       "      <td>10.647984</td>\n",
       "      <td>20.529181</td>\n",
       "      <td>74.741142</td>\n",
       "    </tr>\n",
       "    <tr>\n",
       "      <th>20</th>\n",
       "      <td>10.644073</td>\n",
       "      <td>20.600046</td>\n",
       "      <td>74.819238</td>\n",
       "    </tr>\n",
       "    <tr>\n",
       "      <th>21</th>\n",
       "      <td>10.756120</td>\n",
       "      <td>20.451356</td>\n",
       "      <td>73.539102</td>\n",
       "    </tr>\n",
       "    <tr>\n",
       "      <th>22</th>\n",
       "      <td>10.761193</td>\n",
       "      <td>20.304686</td>\n",
       "      <td>74.350753</td>\n",
       "    </tr>\n",
       "    <tr>\n",
       "      <th>23</th>\n",
       "      <td>10.552362</td>\n",
       "      <td>20.198666</td>\n",
       "      <td>74.892978</td>\n",
       "    </tr>\n",
       "    <tr>\n",
       "      <th>24</th>\n",
       "      <td>10.648031</td>\n",
       "      <td>20.485203</td>\n",
       "      <td>81.244050</td>\n",
       "    </tr>\n",
       "    <tr>\n",
       "      <th>25</th>\n",
       "      <td>10.605293</td>\n",
       "      <td>20.639686</td>\n",
       "      <td>76.837673</td>\n",
       "    </tr>\n",
       "    <tr>\n",
       "      <th>26</th>\n",
       "      <td>10.705209</td>\n",
       "      <td>20.569644</td>\n",
       "      <td>75.222717</td>\n",
       "    </tr>\n",
       "    <tr>\n",
       "      <th>27</th>\n",
       "      <td>10.686561</td>\n",
       "      <td>20.404938</td>\n",
       "      <td>75.046937</td>\n",
       "    </tr>\n",
       "    <tr>\n",
       "      <th>28</th>\n",
       "      <td>10.555006</td>\n",
       "      <td>20.606701</td>\n",
       "      <td>80.491822</td>\n",
       "    </tr>\n",
       "    <tr>\n",
       "      <th>29</th>\n",
       "      <td>10.512065</td>\n",
       "      <td>20.344210</td>\n",
       "      <td>75.950616</td>\n",
       "    </tr>\n",
       "    <tr>\n",
       "      <th>30</th>\n",
       "      <td>10.725511</td>\n",
       "      <td>20.313566</td>\n",
       "      <td>74.621727</td>\n",
       "    </tr>\n",
       "    <tr>\n",
       "      <th>31</th>\n",
       "      <td>10.645679</td>\n",
       "      <td>20.903704</td>\n",
       "      <td>78.754040</td>\n",
       "    </tr>\n",
       "  </tbody>\n",
       "</table>\n",
       "</div>"
      ],
      "text/plain": [
       "categ        0.0        1.0        2.0\n",
       "jour                                  \n",
       "1      10.679480  20.643511  75.232226\n",
       "2      10.499528  20.677506  76.120829\n",
       "3      10.493009  20.413034  78.745745\n",
       "4      10.574564  20.349701  75.547022\n",
       "5      10.617124  20.412316  75.353201\n",
       "6      10.493971  20.407424  75.429562\n",
       "7      10.677472  20.520463  78.765705\n",
       "8      10.661957  20.670449  78.472537\n",
       "9      10.702865  20.451171  76.780843\n",
       "10     10.726534  20.521706  77.774974\n",
       "11     10.634720  20.239288  77.137186\n",
       "12     10.648249  20.533798  76.527007\n",
       "13     10.681417  20.585312  75.293008\n",
       "14     10.617201  20.490021  75.410195\n",
       "15     10.669467  20.694557  75.809917\n",
       "16     10.556297  20.459627  73.290083\n",
       "17     10.682011  20.465704  78.865477\n",
       "18     10.731452  20.311154  72.694156\n",
       "19     10.647984  20.529181  74.741142\n",
       "20     10.644073  20.600046  74.819238\n",
       "21     10.756120  20.451356  73.539102\n",
       "22     10.761193  20.304686  74.350753\n",
       "23     10.552362  20.198666  74.892978\n",
       "24     10.648031  20.485203  81.244050\n",
       "25     10.605293  20.639686  76.837673\n",
       "26     10.705209  20.569644  75.222717\n",
       "27     10.686561  20.404938  75.046937\n",
       "28     10.555006  20.606701  80.491822\n",
       "29     10.512065  20.344210  75.950616\n",
       "30     10.725511  20.313566  74.621727\n",
       "31     10.645679  20.903704  78.754040"
      ]
     },
     "execution_count": 65,
     "metadata": {},
     "output_type": "execute_result"
    }
   ],
   "source": [
    "tcd_jour"
   ]
  },
  {
   "cell_type": "code",
   "execution_count": 66,
   "id": "7a0d5fec",
   "metadata": {},
   "outputs": [
    {
     "data": {
      "text/plain": [
       "<AxesSubplot:title={'center':'Evolution du CA par jour du mois et par catégorie'}, xlabel='jour'>"
      ]
     },
     "execution_count": 66,
     "metadata": {},
     "output_type": "execute_result"
    },
    {
     "data": {
      "image/png": "[encoded data removed]",
      "text/plain": [
       "<Figure size 864x576 with 1 Axes>"
      ]
     },
     "metadata": {
      "needs_background": "light"
     },
     "output_type": "display_data"
    }
   ],
   "source": [
    "tcd_jour.plot(kind='bar',stacked = True,figsize=(12,8),width = 0.7, title ='Evolution du CA par jour du mois et par catégorie')"
   ]
  },
  {
   "cell_type": "code",
   "execution_count": 67,
   "id": "f2116b6a",
   "metadata": {},
   "outputs": [],
   "source": [
    "tcd_jour_sem =pd.pivot_table(df_final, index = ['jour_sem'], columns = 'categ', values = 'price',aggfunc={'price':'mean'})"
   ]
  },
  {
   "cell_type": "code",
   "execution_count": 68,
   "id": "1ea9f77c",
   "metadata": {},
   "outputs": [
    {
     "data": {
      "text/plain": [
       "<AxesSubplot:title={'center':'Evolution du CA par jour de la semaine et par catégorie'}, xlabel='jour_sem'>"
      ]
     },
     "execution_count": 68,
     "metadata": {},
     "output_type": "execute_result"
    },
    {
     "data": {
      "image/png": "[encoded data removed]",
      "text/plain": [
       "<Figure size 864x576 with 1 Axes>"
      ]
     },
     "metadata": {
      "needs_background": "light"
     },
     "output_type": "display_data"
    }
   ],
   "source": [
    "tcd_jour_sem.plot(kind='bar',stacked = True,figsize=(12,8),width = 0.7, title ='Evolution du CA par jour de la semaine et par catégorie')"
   ]
  },
  {
   "cell_type": "markdown",
   "id": "a4a35688",
   "metadata": {},
   "source": [
    "# 3 Analyse des usages des clients"
   ]
  },
  {
   "cell_type": "markdown",
   "id": "90dc5b34",
   "metadata": {},
   "source": [
    "## 3.1 Traitement de l'âge "
   ]
  },
  {
   "cell_type": "code",
   "execution_count": 69,
   "id": "496a0943",
   "metadata": {},
   "outputs": [],
   "source": [
    "#créons  une colonne âge\n",
    "df_final['Age'] = 2022 - df_final['birth']"
   ]
  },
  {
   "cell_type": "code",
   "execution_count": 70,
   "id": "48344805",
   "metadata": {},
   "outputs": [
    {
     "data": {
      "text/plain": [
       "Text(0, 0.5, 'Nombre de clients')"
      ]
     },
     "execution_count": 70,
     "metadata": {},
     "output_type": "execute_result"
    },
    {
     "data": {
      "image/png": "[encoded data removed]",
      "text/plain": [
       "<Figure size 432x288 with 1 Axes>"
      ]
     },
     "metadata": {
      "needs_background": "light"
     },
     "output_type": "display_data"
    }
   ],
   "source": [
    "df_final.groupby(\"client_id\").mean().Age.hist(bins=40)\n",
    "\n",
    "plt.title(\"Répartition des clients par âge\")\n",
    "\n",
    "plt.xlabel(\"Age\")\n",
    "\n",
    "plt.ylabel(\"Nombre de clients\")"
   ]
  },
  {
   "cell_type": "markdown",
   "id": "d1e82280",
   "metadata": {},
   "source": [
    "On observe un pic très important de client pour l'âge de 18 ans "
   ]
  },
  {
   "cell_type": "markdown",
   "id": "9f0dcae6",
   "metadata": {},
   "source": [
    "Pour analyser les usages liés à l'âge, il est souvent plus pertinent de faire des tranches d'âge\n",
    "\n"
   ]
  },
  {
   "cell_type": "code",
   "execution_count": 71,
   "id": "e8160693",
   "metadata": {},
   "outputs": [],
   "source": [
    "# On va créer 14 intervalles d'âges :\n",
    "\n",
    "labels = ['19-24','25-29','30-35','36-40','41-45','46-51','52-56','57-61','62-67','68-72','73-77','78-83','84-88','89-94']\n",
    "\n",
    "\n",
    "df_final['Age_tranche']= pd.cut(df_final['Age'], 14,labels=labels)"
   ]
  },
  {
   "cell_type": "code",
   "execution_count": 72,
   "id": "247536d5",
   "metadata": {},
   "outputs": [
    {
     "data": {
      "text/html": [
       "<div>\n",
       "<style scoped>\n",
       "    .dataframe tbody tr th:only-of-type {\n",
       "        vertical-align: middle;\n",
       "    }\n",
       "\n",
       "    .dataframe tbody tr th {\n",
       "        vertical-align: top;\n",
       "    }\n",
       "\n",
       "    .dataframe thead th {\n",
       "        text-align: right;\n",
       "    }\n",
       "</style>\n",
       "<table border=\"1\" class=\"dataframe\">\n",
       "  <thead>\n",
       "    <tr style=\"text-align: right;\">\n",
       "      <th></th>\n",
       "      <th>id_prod</th>\n",
       "      <th>date</th>\n",
       "      <th>session_id</th>\n",
       "      <th>client_id</th>\n",
       "      <th>price</th>\n",
       "      <th>categ</th>\n",
       "      <th>_merge</th>\n",
       "      <th>sex</th>\n",
       "      <th>birth</th>\n",
       "      <th>_merge_2</th>\n",
       "      <th>année</th>\n",
       "      <th>mois</th>\n",
       "      <th>jour</th>\n",
       "      <th>jour_sem</th>\n",
       "      <th>Age</th>\n",
       "      <th>Age_tranche</th>\n",
       "    </tr>\n",
       "  </thead>\n",
       "  <tbody>\n",
       "    <tr>\n",
       "      <th>0</th>\n",
       "      <td>0_1518</td>\n",
       "      <td>2022-05-20 13:21:29.043970</td>\n",
       "      <td>s_211425</td>\n",
       "      <td>c_103</td>\n",
       "      <td>4.18</td>\n",
       "      <td>0.0</td>\n",
       "      <td>both</td>\n",
       "      <td>f</td>\n",
       "      <td>1986</td>\n",
       "      <td>both</td>\n",
       "      <td>2022</td>\n",
       "      <td>5</td>\n",
       "      <td>20</td>\n",
       "      <td>4</td>\n",
       "      <td>36</td>\n",
       "      <td>36-40</td>\n",
       "    </tr>\n",
       "    <tr>\n",
       "      <th>1</th>\n",
       "      <td>0_1518</td>\n",
       "      <td>2021-07-20 13:21:29.043970</td>\n",
       "      <td>s_64849</td>\n",
       "      <td>c_103</td>\n",
       "      <td>4.18</td>\n",
       "      <td>0.0</td>\n",
       "      <td>both</td>\n",
       "      <td>f</td>\n",
       "      <td>1986</td>\n",
       "      <td>both</td>\n",
       "      <td>2021</td>\n",
       "      <td>7</td>\n",
       "      <td>20</td>\n",
       "      <td>1</td>\n",
       "      <td>36</td>\n",
       "      <td>36-40</td>\n",
       "    </tr>\n",
       "    <tr>\n",
       "      <th>2</th>\n",
       "      <td>0_1518</td>\n",
       "      <td>2022-08-20 13:21:29.043970</td>\n",
       "      <td>s_255965</td>\n",
       "      <td>c_103</td>\n",
       "      <td>4.18</td>\n",
       "      <td>0.0</td>\n",
       "      <td>both</td>\n",
       "      <td>f</td>\n",
       "      <td>1986</td>\n",
       "      <td>both</td>\n",
       "      <td>2022</td>\n",
       "      <td>8</td>\n",
       "      <td>20</td>\n",
       "      <td>5</td>\n",
       "      <td>36</td>\n",
       "      <td>36-40</td>\n",
       "    </tr>\n",
       "    <tr>\n",
       "      <th>3</th>\n",
       "      <td>0_1418</td>\n",
       "      <td>2022-06-18 01:49:37.823274</td>\n",
       "      <td>s_225411</td>\n",
       "      <td>c_103</td>\n",
       "      <td>8.57</td>\n",
       "      <td>0.0</td>\n",
       "      <td>both</td>\n",
       "      <td>f</td>\n",
       "      <td>1986</td>\n",
       "      <td>both</td>\n",
       "      <td>2022</td>\n",
       "      <td>6</td>\n",
       "      <td>18</td>\n",
       "      <td>5</td>\n",
       "      <td>36</td>\n",
       "      <td>36-40</td>\n",
       "    </tr>\n",
       "    <tr>\n",
       "      <th>4</th>\n",
       "      <td>0_1418</td>\n",
       "      <td>2021-08-18 01:49:37.823274</td>\n",
       "      <td>s_77214</td>\n",
       "      <td>c_103</td>\n",
       "      <td>8.57</td>\n",
       "      <td>0.0</td>\n",
       "      <td>both</td>\n",
       "      <td>f</td>\n",
       "      <td>1986</td>\n",
       "      <td>both</td>\n",
       "      <td>2021</td>\n",
       "      <td>8</td>\n",
       "      <td>18</td>\n",
       "      <td>2</td>\n",
       "      <td>36</td>\n",
       "      <td>36-40</td>\n",
       "    </tr>\n",
       "    <tr>\n",
       "      <th>...</th>\n",
       "      <td>...</td>\n",
       "      <td>...</td>\n",
       "      <td>...</td>\n",
       "      <td>...</td>\n",
       "      <td>...</td>\n",
       "      <td>...</td>\n",
       "      <td>...</td>\n",
       "      <td>...</td>\n",
       "      <td>...</td>\n",
       "      <td>...</td>\n",
       "      <td>...</td>\n",
       "      <td>...</td>\n",
       "      <td>...</td>\n",
       "      <td>...</td>\n",
       "      <td>...</td>\n",
       "      <td>...</td>\n",
       "    </tr>\n",
       "    <tr>\n",
       "      <th>679327</th>\n",
       "      <td>2_147</td>\n",
       "      <td>2021-07-23 07:01:38.963669</td>\n",
       "      <td>s_65994</td>\n",
       "      <td>c_4391</td>\n",
       "      <td>181.99</td>\n",
       "      <td>2.0</td>\n",
       "      <td>both</td>\n",
       "      <td>f</td>\n",
       "      <td>2001</td>\n",
       "      <td>both</td>\n",
       "      <td>2021</td>\n",
       "      <td>7</td>\n",
       "      <td>23</td>\n",
       "      <td>4</td>\n",
       "      <td>21</td>\n",
       "      <td>19-24</td>\n",
       "    </tr>\n",
       "    <tr>\n",
       "      <th>679328</th>\n",
       "      <td>0_142</td>\n",
       "      <td>2022-03-25 18:07:25.880052</td>\n",
       "      <td>s_184472</td>\n",
       "      <td>c_1232</td>\n",
       "      <td>19.85</td>\n",
       "      <td>0.0</td>\n",
       "      <td>both</td>\n",
       "      <td>f</td>\n",
       "      <td>1960</td>\n",
       "      <td>both</td>\n",
       "      <td>2022</td>\n",
       "      <td>3</td>\n",
       "      <td>25</td>\n",
       "      <td>4</td>\n",
       "      <td>62</td>\n",
       "      <td>62-67</td>\n",
       "    </tr>\n",
       "    <tr>\n",
       "      <th>679329</th>\n",
       "      <td>0_142</td>\n",
       "      <td>2021-09-25 18:07:25.880052</td>\n",
       "      <td>s_95415</td>\n",
       "      <td>c_1232</td>\n",
       "      <td>19.85</td>\n",
       "      <td>0.0</td>\n",
       "      <td>both</td>\n",
       "      <td>f</td>\n",
       "      <td>1960</td>\n",
       "      <td>both</td>\n",
       "      <td>2021</td>\n",
       "      <td>9</td>\n",
       "      <td>25</td>\n",
       "      <td>5</td>\n",
       "      <td>62</td>\n",
       "      <td>62-67</td>\n",
       "    </tr>\n",
       "    <tr>\n",
       "      <th>679330</th>\n",
       "      <td>2_205</td>\n",
       "      <td>2021-03-11 00:11:32.016264</td>\n",
       "      <td>s_4605</td>\n",
       "      <td>c_7534</td>\n",
       "      <td>100.99</td>\n",
       "      <td>2.0</td>\n",
       "      <td>both</td>\n",
       "      <td>m</td>\n",
       "      <td>1992</td>\n",
       "      <td>both</td>\n",
       "      <td>2021</td>\n",
       "      <td>3</td>\n",
       "      <td>11</td>\n",
       "      <td>3</td>\n",
       "      <td>30</td>\n",
       "      <td>30-35</td>\n",
       "    </tr>\n",
       "    <tr>\n",
       "      <th>679331</th>\n",
       "      <td>2_205</td>\n",
       "      <td>2022-07-11 00:11:32.016264</td>\n",
       "      <td>s_236636</td>\n",
       "      <td>c_7534</td>\n",
       "      <td>100.99</td>\n",
       "      <td>2.0</td>\n",
       "      <td>both</td>\n",
       "      <td>m</td>\n",
       "      <td>1992</td>\n",
       "      <td>both</td>\n",
       "      <td>2022</td>\n",
       "      <td>7</td>\n",
       "      <td>11</td>\n",
       "      <td>0</td>\n",
       "      <td>30</td>\n",
       "      <td>30-35</td>\n",
       "    </tr>\n",
       "  </tbody>\n",
       "</table>\n",
       "<p>679332 rows × 16 columns</p>\n",
       "</div>"
      ],
      "text/plain": [
       "       id_prod                       date session_id client_id   price  categ  \\\n",
       "0       0_1518 2022-05-20 13:21:29.043970   s_211425     c_103    4.18    0.0   \n",
       "1       0_1518 2021-07-20 13:21:29.043970    s_64849     c_103    4.18    0.0   \n",
       "2       0_1518 2022-08-20 13:21:29.043970   s_255965     c_103    4.18    0.0   \n",
       "3       0_1418 2022-06-18 01:49:37.823274   s_225411     c_103    8.57    0.0   \n",
       "4       0_1418 2021-08-18 01:49:37.823274    s_77214     c_103    8.57    0.0   \n",
       "...        ...                        ...        ...       ...     ...    ...   \n",
       "679327   2_147 2021-07-23 07:01:38.963669    s_65994    c_4391  181.99    2.0   \n",
       "679328   0_142 2022-03-25 18:07:25.880052   s_184472    c_1232   19.85    0.0   \n",
       "679329   0_142 2021-09-25 18:07:25.880052    s_95415    c_1232   19.85    0.0   \n",
       "679330   2_205 2021-03-11 00:11:32.016264     s_4605    c_7534  100.99    2.0   \n",
       "679331   2_205 2022-07-11 00:11:32.016264   s_236636    c_7534  100.99    2.0   \n",
       "\n",
       "       _merge sex  birth _merge_2  année  mois  jour  jour_sem  Age  \\\n",
       "0        both   f   1986     both   2022     5    20         4   36   \n",
       "1        both   f   1986     both   2021     7    20         1   36   \n",
       "2        both   f   1986     both   2022     8    20         5   36   \n",
       "3        both   f   1986     both   2022     6    18         5   36   \n",
       "4        both   f   1986     both   2021     8    18         2   36   \n",
       "...       ...  ..    ...      ...    ...   ...   ...       ...  ...   \n",
       "679327   both   f   2001     both   2021     7    23         4   21   \n",
       "679328   both   f   1960     both   2022     3    25         4   62   \n",
       "679329   both   f   1960     both   2021     9    25         5   62   \n",
       "679330   both   m   1992     both   2021     3    11         3   30   \n",
       "679331   both   m   1992     both   2022     7    11         0   30   \n",
       "\n",
       "       Age_tranche  \n",
       "0            36-40  \n",
       "1            36-40  \n",
       "2            36-40  \n",
       "3            36-40  \n",
       "4            36-40  \n",
       "...            ...  \n",
       "679327       19-24  \n",
       "679328       62-67  \n",
       "679329       62-67  \n",
       "679330       30-35  \n",
       "679331       30-35  \n",
       "\n",
       "[679332 rows x 16 columns]"
      ]
     },
     "execution_count": 72,
     "metadata": {},
     "output_type": "execute_result"
    }
   ],
   "source": [
    "df_final"
   ]
  },
  {
   "cell_type": "markdown",
   "id": "467dd834",
   "metadata": {},
   "source": [
    "## 3.2 Analyse du chiffre d'affaires par client"
   ]
  },
  {
   "cell_type": "code",
   "execution_count": 73,
   "id": "aaa4faa3",
   "metadata": {},
   "outputs": [
    {
     "data": {
      "text/plain": [
       "(8600,)"
      ]
     },
     "execution_count": 73,
     "metadata": {},
     "output_type": "execute_result"
    }
   ],
   "source": [
    "# le nombre de clients uniques\n",
    "df_final.client_id.value_counts().shape"
   ]
  },
  {
   "cell_type": "code",
   "execution_count": 74,
   "id": "9694f353",
   "metadata": {},
   "outputs": [
    {
     "data": {
      "text/html": [
       "<div>\n",
       "<style scoped>\n",
       "    .dataframe tbody tr th:only-of-type {\n",
       "        vertical-align: middle;\n",
       "    }\n",
       "\n",
       "    .dataframe tbody tr th {\n",
       "        vertical-align: top;\n",
       "    }\n",
       "\n",
       "    .dataframe thead th {\n",
       "        text-align: right;\n",
       "    }\n",
       "</style>\n",
       "<table border=\"1\" class=\"dataframe\">\n",
       "  <thead>\n",
       "    <tr style=\"text-align: right;\">\n",
       "      <th></th>\n",
       "      <th>price</th>\n",
       "    </tr>\n",
       "    <tr>\n",
       "      <th>client_id</th>\n",
       "      <th></th>\n",
       "    </tr>\n",
       "  </thead>\n",
       "  <tbody>\n",
       "    <tr>\n",
       "      <th>c_1</th>\n",
       "      <td>558.18</td>\n",
       "    </tr>\n",
       "    <tr>\n",
       "      <th>c_10</th>\n",
       "      <td>1353.60</td>\n",
       "    </tr>\n",
       "    <tr>\n",
       "      <th>c_100</th>\n",
       "      <td>254.85</td>\n",
       "    </tr>\n",
       "    <tr>\n",
       "      <th>c_1000</th>\n",
       "      <td>2261.89</td>\n",
       "    </tr>\n",
       "    <tr>\n",
       "      <th>c_1001</th>\n",
       "      <td>1812.86</td>\n",
       "    </tr>\n",
       "  </tbody>\n",
       "</table>\n",
       "</div>"
      ],
      "text/plain": [
       "             price\n",
       "client_id         \n",
       "c_1         558.18\n",
       "c_10       1353.60\n",
       "c_100       254.85\n",
       "c_1000     2261.89\n",
       "c_1001     1812.86"
      ]
     },
     "execution_count": 74,
     "metadata": {},
     "output_type": "execute_result"
    }
   ],
   "source": [
    "# on regroupe mes données par client_id et on calcul le montant de leurs achats.\n",
    "df_client = df_final.groupby('client_id')[['price']].sum();\n",
    "df_client.head()"
   ]
  },
  {
   "cell_type": "markdown",
   "id": "617091e1",
   "metadata": {},
   "source": [
    "Analyser le chiffre d'affaires par client : \n",
    "\n",
    "- est ce qu'il y a des outliers ? \n",
    "- si oui, quelle part du CA ils représentent ?\n",
    "- que peut-on supposer à leur sujet ? Comment les traiter dans notre analyse \n",
    "- étudier la distribution du CA par client en dehors de ces clients"
   ]
  },
  {
   "cell_type": "code",
   "execution_count": 75,
   "id": "cae9ec97",
   "metadata": {},
   "outputs": [
    {
     "data": {
      "text/plain": [
       "<AxesSubplot:>"
      ]
     },
     "execution_count": 75,
     "metadata": {},
     "output_type": "execute_result"
    },
    {
     "data": {
      "image/png": "[encoded data removed]",
      "text/plain": [
       "<Figure size 432x288 with 1 Axes>"
      ]
     },
     "metadata": {
      "needs_background": "light"
     },
     "output_type": "display_data"
    }
   ],
   "source": [
    "# A vous de jouer\n",
    "df_client.boxplot()\n"
   ]
  },
  {
   "cell_type": "code",
   "execution_count": 76,
   "id": "4f4861c7",
   "metadata": {},
   "outputs": [
    {
     "data": {
      "text/html": [
       "<div>\n",
       "<style scoped>\n",
       "    .dataframe tbody tr th:only-of-type {\n",
       "        vertical-align: middle;\n",
       "    }\n",
       "\n",
       "    .dataframe tbody tr th {\n",
       "        vertical-align: top;\n",
       "    }\n",
       "\n",
       "    .dataframe thead th {\n",
       "        text-align: right;\n",
       "    }\n",
       "</style>\n",
       "<table border=\"1\" class=\"dataframe\">\n",
       "  <thead>\n",
       "    <tr style=\"text-align: right;\">\n",
       "      <th></th>\n",
       "      <th>price</th>\n",
       "    </tr>\n",
       "    <tr>\n",
       "      <th>client_id</th>\n",
       "      <th></th>\n",
       "    </tr>\n",
       "  </thead>\n",
       "  <tbody>\n",
       "    <tr>\n",
       "      <th>c_1609</th>\n",
       "      <td>324033.35</td>\n",
       "    </tr>\n",
       "    <tr>\n",
       "      <th>c_4958</th>\n",
       "      <td>289760.34</td>\n",
       "    </tr>\n",
       "    <tr>\n",
       "      <th>c_6714</th>\n",
       "      <td>153669.12</td>\n",
       "    </tr>\n",
       "    <tr>\n",
       "      <th>c_3454</th>\n",
       "      <td>113673.03</td>\n",
       "    </tr>\n",
       "    <tr>\n",
       "      <th>c_3263</th>\n",
       "      <td>5276.87</td>\n",
       "    </tr>\n",
       "    <tr>\n",
       "      <th>...</th>\n",
       "      <td>...</td>\n",
       "    </tr>\n",
       "    <tr>\n",
       "      <th>c_4648</th>\n",
       "      <td>11.20</td>\n",
       "    </tr>\n",
       "    <tr>\n",
       "      <th>c_240</th>\n",
       "      <td>11.06</td>\n",
       "    </tr>\n",
       "    <tr>\n",
       "      <th>c_8114</th>\n",
       "      <td>9.98</td>\n",
       "    </tr>\n",
       "    <tr>\n",
       "      <th>c_8140</th>\n",
       "      <td>8.30</td>\n",
       "    </tr>\n",
       "    <tr>\n",
       "      <th>c_8351</th>\n",
       "      <td>6.31</td>\n",
       "    </tr>\n",
       "  </tbody>\n",
       "</table>\n",
       "<p>8600 rows × 1 columns</p>\n",
       "</div>"
      ],
      "text/plain": [
       "               price\n",
       "client_id           \n",
       "c_1609     324033.35\n",
       "c_4958     289760.34\n",
       "c_6714     153669.12\n",
       "c_3454     113673.03\n",
       "c_3263       5276.87\n",
       "...              ...\n",
       "c_4648         11.20\n",
       "c_240          11.06\n",
       "c_8114          9.98\n",
       "c_8140          8.30\n",
       "c_8351          6.31\n",
       "\n",
       "[8600 rows x 1 columns]"
      ]
     },
     "execution_count": 76,
     "metadata": {},
     "output_type": "execute_result"
    }
   ],
   "source": [
    "df_client.sort_values('price', ascending = False)"
   ]
  },
  {
   "cell_type": "markdown",
   "id": "e7b22a71",
   "metadata": {},
   "source": [
    "4 clients font un CA énorme par rapport aux autres "
   ]
  },
  {
   "cell_type": "code",
   "execution_count": 77,
   "id": "ed992d61",
   "metadata": {},
   "outputs": [],
   "source": [
    "CA_top4 = float(round(df_client.sort_values('price', ascending = False).head(4).sum(),2))"
   ]
  },
  {
   "cell_type": "code",
   "execution_count": 78,
   "id": "7a8b91eb",
   "metadata": {},
   "outputs": [
    {
     "data": {
      "text/plain": [
       "881135.84"
      ]
     },
     "execution_count": 78,
     "metadata": {},
     "output_type": "execute_result"
    }
   ],
   "source": [
    "CA_top4"
   ]
  },
  {
   "cell_type": "code",
   "execution_count": 79,
   "id": "432c641f",
   "metadata": {},
   "outputs": [
    {
     "name": "stdout",
     "output_type": "stream",
     "text": [
      "le CA généré par les 4 plus gros clients : 881135.84\n"
     ]
    }
   ],
   "source": [
    "print (\"le CA généré par les 4 plus gros clients :\",CA_top4 )"
   ]
  },
  {
   "cell_type": "code",
   "execution_count": 80,
   "id": "ff4f2d89",
   "metadata": {},
   "outputs": [
    {
     "data": {
      "text/plain": [
       "11856314.38"
      ]
     },
     "execution_count": 80,
     "metadata": {},
     "output_type": "execute_result"
    }
   ],
   "source": [
    "CA_tot = round(df_client.price.sum(),2)\n",
    "\n",
    "CA_tot"
   ]
  },
  {
   "cell_type": "code",
   "execution_count": 81,
   "id": "1d481a05",
   "metadata": {},
   "outputs": [
    {
     "name": "stdout",
     "output_type": "stream",
     "text": [
      "Ces 4 clients représentent :  7.43 % du CA\n"
     ]
    }
   ],
   "source": [
    "print (\"Ces 4 clients représentent : \",round(CA_top4/CA_tot *100,2) , \"% du CA\" )"
   ]
  },
  {
   "cell_type": "code",
   "execution_count": 82,
   "id": "3e3b86da",
   "metadata": {},
   "outputs": [],
   "source": [
    "index = df_client.sort_values('price', ascending = False).head(4).index"
   ]
  },
  {
   "cell_type": "code",
   "execution_count": 83,
   "id": "64466390",
   "metadata": {},
   "outputs": [],
   "source": [
    "df_client_non_pro = df_client.drop(index)"
   ]
  },
  {
   "cell_type": "code",
   "execution_count": 84,
   "id": "9203d9a0",
   "metadata": {},
   "outputs": [
    {
     "data": {
      "text/plain": [
       "<AxesSubplot:>"
      ]
     },
     "execution_count": 84,
     "metadata": {},
     "output_type": "execute_result"
    },
    {
     "data": {
      "image/png": "[encoded data removed]",
      "text/plain": [
       "<Figure size 432x288 with 1 Axes>"
      ]
     },
     "metadata": {
      "needs_background": "light"
     },
     "output_type": "display_data"
    }
   ],
   "source": [
    "df_client_non_pro.boxplot()"
   ]
  },
  {
   "cell_type": "code",
   "execution_count": 85,
   "id": "d3988992",
   "metadata": {},
   "outputs": [
    {
     "data": {
      "text/plain": [
       "array([[<AxesSubplot:title={'center':'price'}>]], dtype=object)"
      ]
     },
     "execution_count": 85,
     "metadata": {},
     "output_type": "execute_result"
    },
    {
     "data": {
      "image/png": "[encoded data removed]",
      "text/plain": [
       "<Figure size 432x288 with 1 Axes>"
      ]
     },
     "metadata": {
      "needs_background": "light"
     },
     "output_type": "display_data"
    }
   ],
   "source": [
    "df_client_non_pro.hist(bins=50)"
   ]
  },
  {
   "cell_type": "markdown",
   "id": "ff755c7c",
   "metadata": {},
   "source": [
    "La distribution du CA par client non pro est plus classique"
   ]
  },
  {
   "cell_type": "code",
   "execution_count": 86,
   "id": "1295ec3e",
   "metadata": {},
   "outputs": [],
   "source": [
    "df_final = df_final[~df_final.client_id.isin(index)]"
   ]
  },
  {
   "cell_type": "code",
   "execution_count": 87,
   "id": "70c35b3a",
   "metadata": {},
   "outputs": [
    {
     "data": {
      "text/html": [
       "<div>\n",
       "<style scoped>\n",
       "    .dataframe tbody tr th:only-of-type {\n",
       "        vertical-align: middle;\n",
       "    }\n",
       "\n",
       "    .dataframe tbody tr th {\n",
       "        vertical-align: top;\n",
       "    }\n",
       "\n",
       "    .dataframe thead th {\n",
       "        text-align: right;\n",
       "    }\n",
       "</style>\n",
       "<table border=\"1\" class=\"dataframe\">\n",
       "  <thead>\n",
       "    <tr style=\"text-align: right;\">\n",
       "      <th></th>\n",
       "      <th>id_prod</th>\n",
       "      <th>date</th>\n",
       "      <th>session_id</th>\n",
       "      <th>client_id</th>\n",
       "      <th>price</th>\n",
       "      <th>categ</th>\n",
       "      <th>_merge</th>\n",
       "      <th>sex</th>\n",
       "      <th>birth</th>\n",
       "      <th>_merge_2</th>\n",
       "      <th>année</th>\n",
       "      <th>mois</th>\n",
       "      <th>jour</th>\n",
       "      <th>jour_sem</th>\n",
       "      <th>Age</th>\n",
       "      <th>Age_tranche</th>\n",
       "    </tr>\n",
       "  </thead>\n",
       "  <tbody>\n",
       "    <tr>\n",
       "      <th>0</th>\n",
       "      <td>0_1518</td>\n",
       "      <td>2022-05-20 13:21:29.043970</td>\n",
       "      <td>s_211425</td>\n",
       "      <td>c_103</td>\n",
       "      <td>4.18</td>\n",
       "      <td>0.0</td>\n",
       "      <td>both</td>\n",
       "      <td>f</td>\n",
       "      <td>1986</td>\n",
       "      <td>both</td>\n",
       "      <td>2022</td>\n",
       "      <td>5</td>\n",
       "      <td>20</td>\n",
       "      <td>4</td>\n",
       "      <td>36</td>\n",
       "      <td>36-40</td>\n",
       "    </tr>\n",
       "    <tr>\n",
       "      <th>1</th>\n",
       "      <td>0_1518</td>\n",
       "      <td>2021-07-20 13:21:29.043970</td>\n",
       "      <td>s_64849</td>\n",
       "      <td>c_103</td>\n",
       "      <td>4.18</td>\n",
       "      <td>0.0</td>\n",
       "      <td>both</td>\n",
       "      <td>f</td>\n",
       "      <td>1986</td>\n",
       "      <td>both</td>\n",
       "      <td>2021</td>\n",
       "      <td>7</td>\n",
       "      <td>20</td>\n",
       "      <td>1</td>\n",
       "      <td>36</td>\n",
       "      <td>36-40</td>\n",
       "    </tr>\n",
       "    <tr>\n",
       "      <th>2</th>\n",
       "      <td>0_1518</td>\n",
       "      <td>2022-08-20 13:21:29.043970</td>\n",
       "      <td>s_255965</td>\n",
       "      <td>c_103</td>\n",
       "      <td>4.18</td>\n",
       "      <td>0.0</td>\n",
       "      <td>both</td>\n",
       "      <td>f</td>\n",
       "      <td>1986</td>\n",
       "      <td>both</td>\n",
       "      <td>2022</td>\n",
       "      <td>8</td>\n",
       "      <td>20</td>\n",
       "      <td>5</td>\n",
       "      <td>36</td>\n",
       "      <td>36-40</td>\n",
       "    </tr>\n",
       "    <tr>\n",
       "      <th>3</th>\n",
       "      <td>0_1418</td>\n",
       "      <td>2022-06-18 01:49:37.823274</td>\n",
       "      <td>s_225411</td>\n",
       "      <td>c_103</td>\n",
       "      <td>8.57</td>\n",
       "      <td>0.0</td>\n",
       "      <td>both</td>\n",
       "      <td>f</td>\n",
       "      <td>1986</td>\n",
       "      <td>both</td>\n",
       "      <td>2022</td>\n",
       "      <td>6</td>\n",
       "      <td>18</td>\n",
       "      <td>5</td>\n",
       "      <td>36</td>\n",
       "      <td>36-40</td>\n",
       "    </tr>\n",
       "    <tr>\n",
       "      <th>4</th>\n",
       "      <td>0_1418</td>\n",
       "      <td>2021-08-18 01:49:37.823274</td>\n",
       "      <td>s_77214</td>\n",
       "      <td>c_103</td>\n",
       "      <td>8.57</td>\n",
       "      <td>0.0</td>\n",
       "      <td>both</td>\n",
       "      <td>f</td>\n",
       "      <td>1986</td>\n",
       "      <td>both</td>\n",
       "      <td>2021</td>\n",
       "      <td>8</td>\n",
       "      <td>18</td>\n",
       "      <td>2</td>\n",
       "      <td>36</td>\n",
       "      <td>36-40</td>\n",
       "    </tr>\n",
       "    <tr>\n",
       "      <th>...</th>\n",
       "      <td>...</td>\n",
       "      <td>...</td>\n",
       "      <td>...</td>\n",
       "      <td>...</td>\n",
       "      <td>...</td>\n",
       "      <td>...</td>\n",
       "      <td>...</td>\n",
       "      <td>...</td>\n",
       "      <td>...</td>\n",
       "      <td>...</td>\n",
       "      <td>...</td>\n",
       "      <td>...</td>\n",
       "      <td>...</td>\n",
       "      <td>...</td>\n",
       "      <td>...</td>\n",
       "      <td>...</td>\n",
       "    </tr>\n",
       "    <tr>\n",
       "      <th>679327</th>\n",
       "      <td>2_147</td>\n",
       "      <td>2021-07-23 07:01:38.963669</td>\n",
       "      <td>s_65994</td>\n",
       "      <td>c_4391</td>\n",
       "      <td>181.99</td>\n",
       "      <td>2.0</td>\n",
       "      <td>both</td>\n",
       "      <td>f</td>\n",
       "      <td>2001</td>\n",
       "      <td>both</td>\n",
       "      <td>2021</td>\n",
       "      <td>7</td>\n",
       "      <td>23</td>\n",
       "      <td>4</td>\n",
       "      <td>21</td>\n",
       "      <td>19-24</td>\n",
       "    </tr>\n",
       "    <tr>\n",
       "      <th>679328</th>\n",
       "      <td>0_142</td>\n",
       "      <td>2022-03-25 18:07:25.880052</td>\n",
       "      <td>s_184472</td>\n",
       "      <td>c_1232</td>\n",
       "      <td>19.85</td>\n",
       "      <td>0.0</td>\n",
       "      <td>both</td>\n",
       "      <td>f</td>\n",
       "      <td>1960</td>\n",
       "      <td>both</td>\n",
       "      <td>2022</td>\n",
       "      <td>3</td>\n",
       "      <td>25</td>\n",
       "      <td>4</td>\n",
       "      <td>62</td>\n",
       "      <td>62-67</td>\n",
       "    </tr>\n",
       "    <tr>\n",
       "      <th>679329</th>\n",
       "      <td>0_142</td>\n",
       "      <td>2021-09-25 18:07:25.880052</td>\n",
       "      <td>s_95415</td>\n",
       "      <td>c_1232</td>\n",
       "      <td>19.85</td>\n",
       "      <td>0.0</td>\n",
       "      <td>both</td>\n",
       "      <td>f</td>\n",
       "      <td>1960</td>\n",
       "      <td>both</td>\n",
       "      <td>2021</td>\n",
       "      <td>9</td>\n",
       "      <td>25</td>\n",
       "      <td>5</td>\n",
       "      <td>62</td>\n",
       "      <td>62-67</td>\n",
       "    </tr>\n",
       "    <tr>\n",
       "      <th>679330</th>\n",
       "      <td>2_205</td>\n",
       "      <td>2021-03-11 00:11:32.016264</td>\n",
       "      <td>s_4605</td>\n",
       "      <td>c_7534</td>\n",
       "      <td>100.99</td>\n",
       "      <td>2.0</td>\n",
       "      <td>both</td>\n",
       "      <td>m</td>\n",
       "      <td>1992</td>\n",
       "      <td>both</td>\n",
       "      <td>2021</td>\n",
       "      <td>3</td>\n",
       "      <td>11</td>\n",
       "      <td>3</td>\n",
       "      <td>30</td>\n",
       "      <td>30-35</td>\n",
       "    </tr>\n",
       "    <tr>\n",
       "      <th>679331</th>\n",
       "      <td>2_205</td>\n",
       "      <td>2022-07-11 00:11:32.016264</td>\n",
       "      <td>s_236636</td>\n",
       "      <td>c_7534</td>\n",
       "      <td>100.99</td>\n",
       "      <td>2.0</td>\n",
       "      <td>both</td>\n",
       "      <td>m</td>\n",
       "      <td>1992</td>\n",
       "      <td>both</td>\n",
       "      <td>2022</td>\n",
       "      <td>7</td>\n",
       "      <td>11</td>\n",
       "      <td>0</td>\n",
       "      <td>30</td>\n",
       "      <td>30-35</td>\n",
       "    </tr>\n",
       "  </tbody>\n",
       "</table>\n",
       "<p>632689 rows × 16 columns</p>\n",
       "</div>"
      ],
      "text/plain": [
       "       id_prod                       date session_id client_id   price  categ  \\\n",
       "0       0_1518 2022-05-20 13:21:29.043970   s_211425     c_103    4.18    0.0   \n",
       "1       0_1518 2021-07-20 13:21:29.043970    s_64849     c_103    4.18    0.0   \n",
       "2       0_1518 2022-08-20 13:21:29.043970   s_255965     c_103    4.18    0.0   \n",
       "3       0_1418 2022-06-18 01:49:37.823274   s_225411     c_103    8.57    0.0   \n",
       "4       0_1418 2021-08-18 01:49:37.823274    s_77214     c_103    8.57    0.0   \n",
       "...        ...                        ...        ...       ...     ...    ...   \n",
       "679327   2_147 2021-07-23 07:01:38.963669    s_65994    c_4391  181.99    2.0   \n",
       "679328   0_142 2022-03-25 18:07:25.880052   s_184472    c_1232   19.85    0.0   \n",
       "679329   0_142 2021-09-25 18:07:25.880052    s_95415    c_1232   19.85    0.0   \n",
       "679330   2_205 2021-03-11 00:11:32.016264     s_4605    c_7534  100.99    2.0   \n",
       "679331   2_205 2022-07-11 00:11:32.016264   s_236636    c_7534  100.99    2.0   \n",
       "\n",
       "       _merge sex  birth _merge_2  année  mois  jour  jour_sem  Age  \\\n",
       "0        both   f   1986     both   2022     5    20         4   36   \n",
       "1        both   f   1986     both   2021     7    20         1   36   \n",
       "2        both   f   1986     both   2022     8    20         5   36   \n",
       "3        both   f   1986     both   2022     6    18         5   36   \n",
       "4        both   f   1986     both   2021     8    18         2   36   \n",
       "...       ...  ..    ...      ...    ...   ...   ...       ...  ...   \n",
       "679327   both   f   2001     both   2021     7    23         4   21   \n",
       "679328   both   f   1960     both   2022     3    25         4   62   \n",
       "679329   both   f   1960     both   2021     9    25         5   62   \n",
       "679330   both   m   1992     both   2021     3    11         3   30   \n",
       "679331   both   m   1992     both   2022     7    11         0   30   \n",
       "\n",
       "       Age_tranche  \n",
       "0            36-40  \n",
       "1            36-40  \n",
       "2            36-40  \n",
       "3            36-40  \n",
       "4            36-40  \n",
       "...            ...  \n",
       "679327       19-24  \n",
       "679328       62-67  \n",
       "679329       62-67  \n",
       "679330       30-35  \n",
       "679331       30-35  \n",
       "\n",
       "[632689 rows x 16 columns]"
      ]
     },
     "execution_count": 87,
     "metadata": {},
     "output_type": "execute_result"
    }
   ],
   "source": [
    "df_final"
   ]
  },
  {
   "cell_type": "markdown",
   "id": "dc675be8",
   "metadata": {},
   "source": [
    "## 3.3 Analyse des usages d'achat liés au sexe"
   ]
  },
  {
   "cell_type": "markdown",
   "id": "c168cb40",
   "metadata": {},
   "source": [
    "### 3.3.1 Calculer le CA par sexe"
   ]
  },
  {
   "cell_type": "code",
   "execution_count": 88,
   "id": "a089ba1a",
   "metadata": {},
   "outputs": [
    {
     "data": {
      "text/plain": [
       "<AxesSubplot:ylabel='CA'>"
      ]
     },
     "execution_count": 88,
     "metadata": {},
     "output_type": "execute_result"
    },
    {
     "data": {
      "image/png": "[encoded data removed]",
      "text/plain": [
       "<Figure size 432x288 with 1 Axes>"
      ]
     },
     "metadata": {},
     "output_type": "display_data"
    }
   ],
   "source": [
    "# A vous de jouer\n",
    "\n",
    "df_final.groupby(\"sex\").sum().price.plot(kind =\"pie\", ylabel=\"CA\", legend =True)"
   ]
  },
  {
   "cell_type": "markdown",
   "id": "f98a6bd3",
   "metadata": {},
   "source": [
    "### 3.3.2 Corrélation : Sexe et Catégorie"
   ]
  },
  {
   "cell_type": "markdown",
   "id": "2cdb08d6",
   "metadata": {},
   "source": [
    "Les deux variables sont qualitatives.\n",
    "On va réaliser le test du Khi² pour vérifier si ces deux variables sont liées."
   ]
  },
  {
   "cell_type": "code",
   "execution_count": 89,
   "id": "2fb60dae",
   "metadata": {},
   "outputs": [
    {
     "data": {
      "text/html": [
       "<div>\n",
       "<style scoped>\n",
       "    .dataframe tbody tr th:only-of-type {\n",
       "        vertical-align: middle;\n",
       "    }\n",
       "\n",
       "    .dataframe tbody tr th {\n",
       "        vertical-align: top;\n",
       "    }\n",
       "\n",
       "    .dataframe thead th {\n",
       "        text-align: right;\n",
       "    }\n",
       "</style>\n",
       "<table border=\"1\" class=\"dataframe\">\n",
       "  <thead>\n",
       "    <tr style=\"text-align: right;\">\n",
       "      <th>categ</th>\n",
       "      <th>0.0</th>\n",
       "      <th>1.0</th>\n",
       "      <th>2.0</th>\n",
       "      <th>Total</th>\n",
       "    </tr>\n",
       "    <tr>\n",
       "      <th>sex</th>\n",
       "      <th></th>\n",
       "      <th></th>\n",
       "      <th></th>\n",
       "      <th></th>\n",
       "    </tr>\n",
       "  </thead>\n",
       "  <tbody>\n",
       "    <tr>\n",
       "      <th>f</th>\n",
       "      <td>200904</td>\n",
       "      <td>111331</td>\n",
       "      <td>16980</td>\n",
       "      <td>329215</td>\n",
       "    </tr>\n",
       "    <tr>\n",
       "      <th>m</th>\n",
       "      <td>186589</td>\n",
       "      <td>101017</td>\n",
       "      <td>15868</td>\n",
       "      <td>303474</td>\n",
       "    </tr>\n",
       "    <tr>\n",
       "      <th>Total</th>\n",
       "      <td>387493</td>\n",
       "      <td>212348</td>\n",
       "      <td>32848</td>\n",
       "      <td>632689</td>\n",
       "    </tr>\n",
       "  </tbody>\n",
       "</table>\n",
       "</div>"
      ],
      "text/plain": [
       "categ     0.0     1.0    2.0   Total\n",
       "sex                                 \n",
       "f      200904  111331  16980  329215\n",
       "m      186589  101017  15868  303474\n",
       "Total  387493  212348  32848  632689"
      ]
     },
     "execution_count": 89,
     "metadata": {},
     "output_type": "execute_result"
    }
   ],
   "source": [
    "# Création de ma table de contingence\n",
    "X = \"sex\"\n",
    "Y = \"categ\"\n",
    "\n",
    "cont_1 = df_final[[X,Y]].pivot_table(index=X,columns=Y,aggfunc=len,margins=True,margins_name=\"Total\")\n",
    "cont_1"
   ]
  },
  {
   "cell_type": "code",
   "execution_count": 90,
   "id": "3710adca",
   "metadata": {},
   "outputs": [],
   "source": [
    "# Regardons la distibution si les variables étaient complétement independantes\n",
    "\n",
    "tx = cont_1.loc[:,[\"Total\"]]\n",
    "ty = cont_1.loc[[\"Total\"],:]\n",
    "n = len(df_final)\n",
    "indep = round(tx.dot(ty) / n)"
   ]
  },
  {
   "cell_type": "code",
   "execution_count": 91,
   "id": "1171a34b",
   "metadata": {},
   "outputs": [
    {
     "data": {
      "text/html": [
       "<div>\n",
       "<style scoped>\n",
       "    .dataframe tbody tr th:only-of-type {\n",
       "        vertical-align: middle;\n",
       "    }\n",
       "\n",
       "    .dataframe tbody tr th {\n",
       "        vertical-align: top;\n",
       "    }\n",
       "\n",
       "    .dataframe thead th {\n",
       "        text-align: right;\n",
       "    }\n",
       "</style>\n",
       "<table border=\"1\" class=\"dataframe\">\n",
       "  <thead>\n",
       "    <tr style=\"text-align: right;\">\n",
       "      <th>categ</th>\n",
       "      <th>0.0</th>\n",
       "      <th>1.0</th>\n",
       "      <th>2.0</th>\n",
       "      <th>Total</th>\n",
       "    </tr>\n",
       "    <tr>\n",
       "      <th>sex</th>\n",
       "      <th></th>\n",
       "      <th></th>\n",
       "      <th></th>\n",
       "      <th></th>\n",
       "    </tr>\n",
       "  </thead>\n",
       "  <tbody>\n",
       "    <tr>\n",
       "      <th>f</th>\n",
       "      <td>201629.0</td>\n",
       "      <td>110494.0</td>\n",
       "      <td>17092.0</td>\n",
       "      <td>329215.0</td>\n",
       "    </tr>\n",
       "    <tr>\n",
       "      <th>m</th>\n",
       "      <td>185864.0</td>\n",
       "      <td>101854.0</td>\n",
       "      <td>15756.0</td>\n",
       "      <td>303474.0</td>\n",
       "    </tr>\n",
       "    <tr>\n",
       "      <th>Total</th>\n",
       "      <td>387493.0</td>\n",
       "      <td>212348.0</td>\n",
       "      <td>32848.0</td>\n",
       "      <td>632689.0</td>\n",
       "    </tr>\n",
       "  </tbody>\n",
       "</table>\n",
       "</div>"
      ],
      "text/plain": [
       "categ       0.0       1.0      2.0     Total\n",
       "sex                                         \n",
       "f      201629.0  110494.0  17092.0  329215.0\n",
       "m      185864.0  101854.0  15756.0  303474.0\n",
       "Total  387493.0  212348.0  32848.0  632689.0"
      ]
     },
     "execution_count": 91,
     "metadata": {},
     "output_type": "execute_result"
    }
   ],
   "source": [
    "indep"
   ]
  },
  {
   "cell_type": "code",
   "execution_count": 92,
   "id": "8d09310c",
   "metadata": {},
   "outputs": [
    {
     "data": {
      "text/html": [
       "<div>\n",
       "<style scoped>\n",
       "    .dataframe tbody tr th:only-of-type {\n",
       "        vertical-align: middle;\n",
       "    }\n",
       "\n",
       "    .dataframe tbody tr th {\n",
       "        vertical-align: top;\n",
       "    }\n",
       "\n",
       "    .dataframe thead th {\n",
       "        text-align: right;\n",
       "    }\n",
       "</style>\n",
       "<table border=\"1\" class=\"dataframe\">\n",
       "  <thead>\n",
       "    <tr style=\"text-align: right;\">\n",
       "      <th>categ</th>\n",
       "      <th>0.0</th>\n",
       "      <th>1.0</th>\n",
       "      <th>2.0</th>\n",
       "      <th>Total</th>\n",
       "    </tr>\n",
       "    <tr>\n",
       "      <th>sex</th>\n",
       "      <th></th>\n",
       "      <th></th>\n",
       "      <th></th>\n",
       "      <th></th>\n",
       "    </tr>\n",
       "  </thead>\n",
       "  <tbody>\n",
       "    <tr>\n",
       "      <th>f</th>\n",
       "      <td>-0.003596</td>\n",
       "      <td>0.007575</td>\n",
       "      <td>-0.006553</td>\n",
       "      <td>0.0</td>\n",
       "    </tr>\n",
       "    <tr>\n",
       "      <th>m</th>\n",
       "      <td>0.003901</td>\n",
       "      <td>-0.008218</td>\n",
       "      <td>0.007108</td>\n",
       "      <td>0.0</td>\n",
       "    </tr>\n",
       "    <tr>\n",
       "      <th>Total</th>\n",
       "      <td>0.000000</td>\n",
       "      <td>0.000000</td>\n",
       "      <td>0.000000</td>\n",
       "      <td>0.0</td>\n",
       "    </tr>\n",
       "  </tbody>\n",
       "</table>\n",
       "</div>"
      ],
      "text/plain": [
       "categ       0.0       1.0       2.0  Total\n",
       "sex                                       \n",
       "f     -0.003596  0.007575 -0.006553    0.0\n",
       "m      0.003901 -0.008218  0.007108    0.0\n",
       "Total  0.000000  0.000000  0.000000    0.0"
      ]
     },
     "execution_count": 92,
     "metadata": {},
     "output_type": "execute_result"
    }
   ],
   "source": [
    "# regardons où l'écart est le plus important\n",
    "(cont_1 - indep)/indep"
   ]
  },
  {
   "cell_type": "code",
   "execution_count": 93,
   "id": "5c627c58",
   "metadata": {},
   "outputs": [],
   "source": [
    "# importons le module chi2_contingency de la librairie scipy pour faire un chi2\n",
    "from scipy.stats import chi2_contingency as chi2_contingency"
   ]
  },
  {
   "cell_type": "code",
   "execution_count": 94,
   "id": "117c852c",
   "metadata": {},
   "outputs": [],
   "source": [
    "chi2, p, dof, exp = chi2_contingency(cont_1)"
   ]
  },
  {
   "cell_type": "code",
   "execution_count": 95,
   "id": "298f8f1b",
   "metadata": {},
   "outputs": [
    {
     "data": {
      "text/plain": [
       "20.200173796862927"
      ]
     },
     "execution_count": 95,
     "metadata": {},
     "output_type": "execute_result"
    }
   ],
   "source": [
    "chi2"
   ]
  },
  {
   "cell_type": "code",
   "execution_count": 96,
   "id": "43e95274",
   "metadata": {},
   "outputs": [
    {
     "data": {
      "text/plain": [
       "0.002551063708568263"
      ]
     },
     "execution_count": 96,
     "metadata": {},
     "output_type": "execute_result"
    }
   ],
   "source": [
    "p"
   ]
  },
  {
   "cell_type": "markdown",
   "id": "172d33d3",
   "metadata": {},
   "source": [
    "Avec une p-value inférieure à 0.05% on peut rejeter l'hypothèse 0 d'indépendance."
   ]
  },
  {
   "cell_type": "code",
   "execution_count": 97,
   "id": "3184fc53",
   "metadata": {},
   "outputs": [
    {
     "data": {
      "image/png": "[encoded data removed]",
      "text/plain": [
       "<Figure size 432x288 with 2 Axes>"
      ]
     },
     "metadata": {
      "needs_background": "light"
     },
     "output_type": "display_data"
    }
   ],
   "source": [
    "import seaborn as sns\n",
    "\n",
    "\n",
    "c = cont_1.fillna(0) # On remplace les valeurs nulles par 0\n",
    "measure = (c-indep)**2/indep\n",
    "xi_n = measure.sum().sum()\n",
    "table = measure/xi_n\n",
    "sns.heatmap(table.iloc[:-1,:-1],annot=c.iloc[:-1,:-1])\n",
    "plt.title('Matrice de corrélation entre le sexe et la catégorie de produit')\n",
    "plt.show()"
   ]
  },
  {
   "cell_type": "markdown",
   "id": "cd2662be",
   "metadata": {},
   "source": [
    "On remarque une forte corrélation entre les hommes et la catégorie 1."
   ]
  },
  {
   "cell_type": "markdown",
   "id": "45d39d43",
   "metadata": {},
   "source": [
    "### 3.3.3 Test de corrélation : sexe et nombre d'achats"
   ]
  },
  {
   "cell_type": "code",
   "execution_count": 98,
   "id": "f41b5e7e",
   "metadata": {},
   "outputs": [],
   "source": [
    "nb_achats = df_final.groupby([\"client_id\",\"sex\"],as_index=False)[[\"session_id\"]].count()"
   ]
  },
  {
   "cell_type": "code",
   "execution_count": 99,
   "id": "55aca066",
   "metadata": {},
   "outputs": [
    {
     "data": {
      "text/plain": [
       "array([<AxesSubplot:title={'center':'f'}>,\n",
       "       <AxesSubplot:title={'center':'m'}>], dtype=object)"
      ]
     },
     "execution_count": 99,
     "metadata": {},
     "output_type": "execute_result"
    },
    {
     "data": {
      "image/png": "[encoded data removed]",
      "text/plain": [
       "<Figure size 432x288 with 2 Axes>"
      ]
     },
     "metadata": {
      "needs_background": "light"
     },
     "output_type": "display_data"
    }
   ],
   "source": [
    "nb_achats[['sex','session_id']].hist(by='sex',alpha = 0.5, bins = 50, sharex=True)"
   ]
  },
  {
   "cell_type": "code",
   "execution_count": 100,
   "id": "b64399c1",
   "metadata": {},
   "outputs": [],
   "source": [
    "import statsmodels.api as sm\n",
    "from statsmodels.formula.api import ols"
   ]
  },
  {
   "cell_type": "code",
   "execution_count": 101,
   "id": "0b652f6d",
   "metadata": {},
   "outputs": [],
   "source": [
    "lm = ols('session_id ~ sex', data = nb_achats).fit()\n",
    "import statsmodels.api; \n",
    "table = sm.stats.anova_lm(lm)"
   ]
  },
  {
   "cell_type": "code",
   "execution_count": 102,
   "id": "e85d7a37",
   "metadata": {},
   "outputs": [
    {
     "data": {
      "text/html": [
       "<div>\n",
       "<style scoped>\n",
       "    .dataframe tbody tr th:only-of-type {\n",
       "        vertical-align: middle;\n",
       "    }\n",
       "\n",
       "    .dataframe tbody tr th {\n",
       "        vertical-align: top;\n",
       "    }\n",
       "\n",
       "    .dataframe thead th {\n",
       "        text-align: right;\n",
       "    }\n",
       "</style>\n",
       "<table border=\"1\" class=\"dataframe\">\n",
       "  <thead>\n",
       "    <tr style=\"text-align: right;\">\n",
       "      <th></th>\n",
       "      <th>df</th>\n",
       "      <th>sum_sq</th>\n",
       "      <th>mean_sq</th>\n",
       "      <th>F</th>\n",
       "      <th>PR(&gt;F)</th>\n",
       "    </tr>\n",
       "  </thead>\n",
       "  <tbody>\n",
       "    <tr>\n",
       "      <th>sex</th>\n",
       "      <td>1.0</td>\n",
       "      <td>6.660189e+01</td>\n",
       "      <td>66.601895</td>\n",
       "      <td>0.014453</td>\n",
       "      <td>0.904311</td>\n",
       "    </tr>\n",
       "    <tr>\n",
       "      <th>Residual</th>\n",
       "      <td>8594.0</td>\n",
       "      <td>3.960213e+07</td>\n",
       "      <td>4608.113532</td>\n",
       "      <td>NaN</td>\n",
       "      <td>NaN</td>\n",
       "    </tr>\n",
       "  </tbody>\n",
       "</table>\n",
       "</div>"
      ],
      "text/plain": [
       "              df        sum_sq      mean_sq         F    PR(>F)\n",
       "sex          1.0  6.660189e+01    66.601895  0.014453  0.904311\n",
       "Residual  8594.0  3.960213e+07  4608.113532       NaN       NaN"
      ]
     },
     "execution_count": 102,
     "metadata": {},
     "output_type": "execute_result"
    }
   ],
   "source": [
    "table"
   ]
  },
  {
   "cell_type": "code",
   "execution_count": 103,
   "id": "1b2fd7e0",
   "metadata": {},
   "outputs": [
    {
     "data": {
      "text/html": [
       "<table class=\"simpletable\">\n",
       "<caption>OLS Regression Results</caption>\n",
       "<tr>\n",
       "  <th>Dep. Variable:</th>       <td>session_id</td>    <th>  R-squared:         </th> <td>   0.000</td> \n",
       "</tr>\n",
       "<tr>\n",
       "  <th>Model:</th>                   <td>OLS</td>       <th>  Adj. R-squared:    </th> <td>  -0.000</td> \n",
       "</tr>\n",
       "<tr>\n",
       "  <th>Method:</th>             <td>Least Squares</td>  <th>  F-statistic:       </th> <td> 0.01445</td> \n",
       "</tr>\n",
       "<tr>\n",
       "  <th>Date:</th>             <td>Sun, 13 Nov 2022</td> <th>  Prob (F-statistic):</th>  <td> 0.904</td>  \n",
       "</tr>\n",
       "<tr>\n",
       "  <th>Time:</th>                 <td>15:38:08</td>     <th>  Log-Likelihood:    </th> <td> -48452.</td> \n",
       "</tr>\n",
       "<tr>\n",
       "  <th>No. Observations:</th>      <td>  8596</td>      <th>  AIC:               </th> <td>9.691e+04</td>\n",
       "</tr>\n",
       "<tr>\n",
       "  <th>Df Residuals:</th>          <td>  8594</td>      <th>  BIC:               </th> <td>9.692e+04</td>\n",
       "</tr>\n",
       "<tr>\n",
       "  <th>Df Model:</th>              <td>     1</td>      <th>                     </th>     <td> </td>    \n",
       "</tr>\n",
       "<tr>\n",
       "  <th>Covariance Type:</th>      <td>nonrobust</td>    <th>                     </th>     <td> </td>    \n",
       "</tr>\n",
       "</table>\n",
       "<table class=\"simpletable\">\n",
       "<tr>\n",
       "      <td></td>         <th>coef</th>     <th>std err</th>      <th>t</th>      <th>P>|t|</th>  <th>[0.025</th>    <th>0.975]</th>  \n",
       "</tr>\n",
       "<tr>\n",
       "  <th>Intercept</th> <td>   73.5183</td> <td>    1.014</td> <td>   72.473</td> <td> 0.000</td> <td>   71.530</td> <td>   75.507</td>\n",
       "</tr>\n",
       "<tr>\n",
       "  <th>sex[T.m]</th>  <td>    0.1762</td> <td>    1.466</td> <td>    0.120</td> <td> 0.904</td> <td>   -2.697</td> <td>    3.049</td>\n",
       "</tr>\n",
       "</table>\n",
       "<table class=\"simpletable\">\n",
       "<tr>\n",
       "  <th>Omnibus:</th>       <td>2829.583</td> <th>  Durbin-Watson:     </th> <td>   1.969</td>\n",
       "</tr>\n",
       "<tr>\n",
       "  <th>Prob(Omnibus):</th>  <td> 0.000</td>  <th>  Jarque-Bera (JB):  </th> <td>8012.605</td>\n",
       "</tr>\n",
       "<tr>\n",
       "  <th>Skew:</th>           <td> 1.762</td>  <th>  Prob(JB):          </th> <td>    0.00</td>\n",
       "</tr>\n",
       "<tr>\n",
       "  <th>Kurtosis:</th>       <td> 6.156</td>  <th>  Cond. No.          </th> <td>    2.57</td>\n",
       "</tr>\n",
       "</table><br/><br/>Notes:<br/>[1] Standard Errors assume that the covariance matrix of the errors is correctly specified."
      ],
      "text/plain": [
       "<class 'statsmodels.iolib.summary.Summary'>\n",
       "\"\"\"\n",
       "                            OLS Regression Results                            \n",
       "==============================================================================\n",
       "Dep. Variable:             session_id   R-squared:                       0.000\n",
       "Model:                            OLS   Adj. R-squared:                 -0.000\n",
       "Method:                 Least Squares   F-statistic:                   0.01445\n",
       "Date:                Sun, 13 Nov 2022   Prob (F-statistic):              0.904\n",
       "Time:                        15:38:08   Log-Likelihood:                -48452.\n",
       "No. Observations:                8596   AIC:                         9.691e+04\n",
       "Df Residuals:                    8594   BIC:                         9.692e+04\n",
       "Df Model:                           1                                         \n",
       "Covariance Type:            nonrobust                                         \n",
       "==============================================================================\n",
       "                 coef    std err          t      P>|t|      [0.025      0.975]\n",
       "------------------------------------------------------------------------------\n",
       "Intercept     73.5183      1.014     72.473      0.000      71.530      75.507\n",
       "sex[T.m]       0.1762      1.466      0.120      0.904      -2.697       3.049\n",
       "==============================================================================\n",
       "Omnibus:                     2829.583   Durbin-Watson:                   1.969\n",
       "Prob(Omnibus):                  0.000   Jarque-Bera (JB):             8012.605\n",
       "Skew:                           1.762   Prob(JB):                         0.00\n",
       "Kurtosis:                       6.156   Cond. No.                         2.57\n",
       "==============================================================================\n",
       "\n",
       "Notes:\n",
       "[1] Standard Errors assume that the covariance matrix of the errors is correctly specified.\n",
       "\"\"\""
      ]
     },
     "execution_count": 103,
     "metadata": {},
     "output_type": "execute_result"
    }
   ],
   "source": [
    "lm.summary()"
   ]
  },
  {
   "cell_type": "markdown",
   "id": "a52790d0",
   "metadata": {},
   "source": [
    "Le nombre d'achats n'est pas corrélé au sexe"
   ]
  },
  {
   "cell_type": "markdown",
   "id": "cdc34aa2",
   "metadata": {},
   "source": [
    "## 3.4 Analyse des usages d'achat liés à l'âge¶"
   ]
  },
  {
   "cell_type": "markdown",
   "id": "d36fc1f9",
   "metadata": {},
   "source": [
    "### 3.4.1 Corrélation âge et CA"
   ]
  },
  {
   "cell_type": "markdown",
   "id": "8d76e007",
   "metadata": {},
   "source": [
    "On peut considérer l'âge comme une variable quantitative. Le CA l'est aussi. "
   ]
  },
  {
   "cell_type": "code",
   "execution_count": 104,
   "id": "ed10ac7c",
   "metadata": {},
   "outputs": [],
   "source": [
    "df_age_ca = df_final[['Age','price']]"
   ]
  },
  {
   "cell_type": "code",
   "execution_count": 105,
   "id": "d8c88220",
   "metadata": {},
   "outputs": [],
   "source": [
    "df_age_ca = df_age_ca.groupby('Age').agg({'price':'sum'}).reset_index()"
   ]
  },
  {
   "cell_type": "code",
   "execution_count": 106,
   "id": "4f442d2e",
   "metadata": {},
   "outputs": [
    {
     "data": {
      "text/html": [
       "<div>\n",
       "<style scoped>\n",
       "    .dataframe tbody tr th:only-of-type {\n",
       "        vertical-align: middle;\n",
       "    }\n",
       "\n",
       "    .dataframe tbody tr th {\n",
       "        vertical-align: top;\n",
       "    }\n",
       "\n",
       "    .dataframe thead th {\n",
       "        text-align: right;\n",
       "    }\n",
       "</style>\n",
       "<table border=\"1\" class=\"dataframe\">\n",
       "  <thead>\n",
       "    <tr style=\"text-align: right;\">\n",
       "      <th></th>\n",
       "      <th>Age</th>\n",
       "      <th>price</th>\n",
       "    </tr>\n",
       "  </thead>\n",
       "  <tbody>\n",
       "    <tr>\n",
       "      <th>0</th>\n",
       "      <td>18</td>\n",
       "      <td>609013.69</td>\n",
       "    </tr>\n",
       "    <tr>\n",
       "      <th>1</th>\n",
       "      <td>19</td>\n",
       "      <td>178195.78</td>\n",
       "    </tr>\n",
       "    <tr>\n",
       "      <th>2</th>\n",
       "      <td>20</td>\n",
       "      <td>184212.45</td>\n",
       "    </tr>\n",
       "    <tr>\n",
       "      <th>3</th>\n",
       "      <td>21</td>\n",
       "      <td>178497.70</td>\n",
       "    </tr>\n",
       "    <tr>\n",
       "      <th>4</th>\n",
       "      <td>22</td>\n",
       "      <td>165031.38</td>\n",
       "    </tr>\n",
       "    <tr>\n",
       "      <th>...</th>\n",
       "      <td>...</td>\n",
       "      <td>...</td>\n",
       "    </tr>\n",
       "    <tr>\n",
       "      <th>71</th>\n",
       "      <td>89</td>\n",
       "      <td>5266.05</td>\n",
       "    </tr>\n",
       "    <tr>\n",
       "      <th>72</th>\n",
       "      <td>90</td>\n",
       "      <td>5043.19</td>\n",
       "    </tr>\n",
       "    <tr>\n",
       "      <th>73</th>\n",
       "      <td>91</td>\n",
       "      <td>2815.45</td>\n",
       "    </tr>\n",
       "    <tr>\n",
       "      <th>74</th>\n",
       "      <td>92</td>\n",
       "      <td>4013.87</td>\n",
       "    </tr>\n",
       "    <tr>\n",
       "      <th>75</th>\n",
       "      <td>93</td>\n",
       "      <td>3221.85</td>\n",
       "    </tr>\n",
       "  </tbody>\n",
       "</table>\n",
       "<p>76 rows × 2 columns</p>\n",
       "</div>"
      ],
      "text/plain": [
       "    Age      price\n",
       "0    18  609013.69\n",
       "1    19  178195.78\n",
       "2    20  184212.45\n",
       "3    21  178497.70\n",
       "4    22  165031.38\n",
       "..  ...        ...\n",
       "71   89    5266.05\n",
       "72   90    5043.19\n",
       "73   91    2815.45\n",
       "74   92    4013.87\n",
       "75   93    3221.85\n",
       "\n",
       "[76 rows x 2 columns]"
      ]
     },
     "execution_count": 106,
     "metadata": {},
     "output_type": "execute_result"
    }
   ],
   "source": [
    "df_age_ca"
   ]
  },
  {
   "cell_type": "code",
   "execution_count": 107,
   "id": "aacf7bda",
   "metadata": {},
   "outputs": [
    {
     "data": {
      "image/png": "[encoded data removed]",
      "text/plain": [
       "<Figure size 432x288 with 1 Axes>"
      ]
     },
     "metadata": {
      "needs_background": "light"
     },
     "output_type": "display_data"
    }
   ],
   "source": [
    "import matplotlib.pyplot as plt\n",
    "\n",
    "plt.plot(df_age_ca[\"Age\"],df_age_ca[\"price\"],'o')\n",
    "plt.xlabel(\"Age\")\n",
    "plt.ylabel(\"ca\")\n",
    "plt.grid()\n",
    "plt.title('Répartition du CA par âge')\n",
    "plt.show()"
   ]
  },
  {
   "cell_type": "markdown",
   "id": "bbc8ba57",
   "metadata": {},
   "source": [
    "La correlation n'est pas complétement linéaire. Dans ce cas, il vaut mieux utiliser spearman."
   ]
  },
  {
   "cell_type": "code",
   "execution_count": 200,
   "id": "96c84f68",
   "metadata": {},
   "outputs": [
    {
     "data": {
      "text/html": [
       "<div>\n",
       "<style scoped>\n",
       "    .dataframe tbody tr th:only-of-type {\n",
       "        vertical-align: middle;\n",
       "    }\n",
       "\n",
       "    .dataframe tbody tr th {\n",
       "        vertical-align: top;\n",
       "    }\n",
       "\n",
       "    .dataframe thead th {\n",
       "        text-align: right;\n",
       "    }\n",
       "</style>\n",
       "<table border=\"1\" class=\"dataframe\">\n",
       "  <thead>\n",
       "    <tr style=\"text-align: right;\">\n",
       "      <th></th>\n",
       "      <th>Age</th>\n",
       "      <th>price</th>\n",
       "    </tr>\n",
       "  </thead>\n",
       "  <tbody>\n",
       "    <tr>\n",
       "      <th>Age</th>\n",
       "      <td>1.000000</td>\n",
       "      <td>-0.830594</td>\n",
       "    </tr>\n",
       "    <tr>\n",
       "      <th>price</th>\n",
       "      <td>-0.830594</td>\n",
       "      <td>1.000000</td>\n",
       "    </tr>\n",
       "  </tbody>\n",
       "</table>\n",
       "</div>"
      ],
      "text/plain": [
       "            Age     price\n",
       "Age    1.000000 -0.830594\n",
       "price -0.830594  1.000000"
      ]
     },
     "execution_count": 200,
     "metadata": {},
     "output_type": "execute_result"
    }
   ],
   "source": [
    "#corrélation de pearson \n",
    "df_age_ca.corr()"
   ]
  },
  {
   "cell_type": "code",
   "execution_count": 109,
   "id": "1796a053",
   "metadata": {},
   "outputs": [],
   "source": [
    "#test sperman\n",
    "from scipy import stats\n",
    "from scipy.stats import spearmanr"
   ]
  },
  {
   "cell_type": "code",
   "execution_count": 110,
   "id": "b7cfe6e0",
   "metadata": {},
   "outputs": [
    {
     "data": {
      "text/plain": [
       "SpearmanrResult(correlation=-0.8736842105263158, pvalue=7.352708223159905e-25)"
      ]
     },
     "execution_count": 110,
     "metadata": {},
     "output_type": "execute_result"
    }
   ],
   "source": [
    "stats.spearmanr(df_age_ca['Age'],df_age_ca['price'])"
   ]
  },
  {
   "cell_type": "markdown",
   "id": "e8c909c4",
   "metadata": {},
   "source": [
    "la corrélation Spearmanr est plus forte."
   ]
  },
  {
   "cell_type": "code",
   "execution_count": 111,
   "id": "b73f96c3",
   "metadata": {},
   "outputs": [
    {
     "data": {
      "text/html": [
       "<div>\n",
       "<style scoped>\n",
       "    .dataframe tbody tr th:only-of-type {\n",
       "        vertical-align: middle;\n",
       "    }\n",
       "\n",
       "    .dataframe tbody tr th {\n",
       "        vertical-align: top;\n",
       "    }\n",
       "\n",
       "    .dataframe thead th {\n",
       "        text-align: right;\n",
       "    }\n",
       "</style>\n",
       "<table border=\"1\" class=\"dataframe\">\n",
       "  <thead>\n",
       "    <tr style=\"text-align: right;\">\n",
       "      <th></th>\n",
       "      <th>Age</th>\n",
       "      <th>price</th>\n",
       "    </tr>\n",
       "  </thead>\n",
       "  <tbody>\n",
       "    <tr>\n",
       "      <th>Age</th>\n",
       "      <td>1.000000</td>\n",
       "      <td>-0.873684</td>\n",
       "    </tr>\n",
       "    <tr>\n",
       "      <th>price</th>\n",
       "      <td>-0.873684</td>\n",
       "      <td>1.000000</td>\n",
       "    </tr>\n",
       "  </tbody>\n",
       "</table>\n",
       "</div>"
      ],
      "text/plain": [
       "            Age     price\n",
       "Age    1.000000 -0.873684\n",
       "price -0.873684  1.000000"
      ]
     },
     "execution_count": 111,
     "metadata": {},
     "output_type": "execute_result"
    }
   ],
   "source": [
    "df_age_ca.corr( method = \"spearman\")"
   ]
  },
  {
   "cell_type": "markdown",
   "id": "289624bd",
   "metadata": {},
   "source": [
    "Il y a une forte corrélation en age et CA"
   ]
  },
  {
   "cell_type": "markdown",
   "id": "7595718b",
   "metadata": {},
   "source": [
    "### 3.4.2 corrélation tranche d'âge et catégorie de produit"
   ]
  },
  {
   "cell_type": "code",
   "execution_count": 112,
   "id": "92720fa0",
   "metadata": {},
   "outputs": [
    {
     "data": {
      "text/html": [
       "<div>\n",
       "<style scoped>\n",
       "    .dataframe tbody tr th:only-of-type {\n",
       "        vertical-align: middle;\n",
       "    }\n",
       "\n",
       "    .dataframe tbody tr th {\n",
       "        vertical-align: top;\n",
       "    }\n",
       "\n",
       "    .dataframe thead th {\n",
       "        text-align: right;\n",
       "    }\n",
       "</style>\n",
       "<table border=\"1\" class=\"dataframe\">\n",
       "  <thead>\n",
       "    <tr style=\"text-align: right;\">\n",
       "      <th>categ</th>\n",
       "      <th>0.0</th>\n",
       "      <th>1.0</th>\n",
       "      <th>2.0</th>\n",
       "      <th>Total</th>\n",
       "    </tr>\n",
       "    <tr>\n",
       "      <th>Age_tranche</th>\n",
       "      <th></th>\n",
       "      <th></th>\n",
       "      <th></th>\n",
       "      <th></th>\n",
       "    </tr>\n",
       "  </thead>\n",
       "  <tbody>\n",
       "    <tr>\n",
       "      <th>19-24</th>\n",
       "      <td>8601</td>\n",
       "      <td>14222</td>\n",
       "      <td>14997</td>\n",
       "      <td>37820</td>\n",
       "    </tr>\n",
       "    <tr>\n",
       "      <th>25-29</th>\n",
       "      <td>5813</td>\n",
       "      <td>9897</td>\n",
       "      <td>10763</td>\n",
       "      <td>26473</td>\n",
       "    </tr>\n",
       "    <tr>\n",
       "      <th>30-35</th>\n",
       "      <td>60527</td>\n",
       "      <td>21475</td>\n",
       "      <td>4441</td>\n",
       "      <td>86443</td>\n",
       "    </tr>\n",
       "    <tr>\n",
       "      <th>36-40</th>\n",
       "      <td>75737</td>\n",
       "      <td>23497</td>\n",
       "      <td>320</td>\n",
       "      <td>99554</td>\n",
       "    </tr>\n",
       "    <tr>\n",
       "      <th>41-45</th>\n",
       "      <td>83787</td>\n",
       "      <td>26260</td>\n",
       "      <td>450</td>\n",
       "      <td>110497</td>\n",
       "    </tr>\n",
       "    <tr>\n",
       "      <th>46-51</th>\n",
       "      <td>81656</td>\n",
       "      <td>25547</td>\n",
       "      <td>383</td>\n",
       "      <td>107586</td>\n",
       "    </tr>\n",
       "    <tr>\n",
       "      <th>52-56</th>\n",
       "      <td>19131</td>\n",
       "      <td>24421</td>\n",
       "      <td>402</td>\n",
       "      <td>43954</td>\n",
       "    </tr>\n",
       "    <tr>\n",
       "      <th>57-61</th>\n",
       "      <td>15614</td>\n",
       "      <td>20410</td>\n",
       "      <td>309</td>\n",
       "      <td>36333</td>\n",
       "    </tr>\n",
       "    <tr>\n",
       "      <th>62-67</th>\n",
       "      <td>15491</td>\n",
       "      <td>19485</td>\n",
       "      <td>349</td>\n",
       "      <td>35325</td>\n",
       "    </tr>\n",
       "    <tr>\n",
       "      <th>68-72</th>\n",
       "      <td>8860</td>\n",
       "      <td>11559</td>\n",
       "      <td>171</td>\n",
       "      <td>20590</td>\n",
       "    </tr>\n",
       "    <tr>\n",
       "      <th>73-77</th>\n",
       "      <td>5503</td>\n",
       "      <td>6726</td>\n",
       "      <td>101</td>\n",
       "      <td>12330</td>\n",
       "    </tr>\n",
       "    <tr>\n",
       "      <th>78-83</th>\n",
       "      <td>4115</td>\n",
       "      <td>5513</td>\n",
       "      <td>93</td>\n",
       "      <td>9721</td>\n",
       "    </tr>\n",
       "    <tr>\n",
       "      <th>84-88</th>\n",
       "      <td>1898</td>\n",
       "      <td>2320</td>\n",
       "      <td>55</td>\n",
       "      <td>4273</td>\n",
       "    </tr>\n",
       "    <tr>\n",
       "      <th>89-94</th>\n",
       "      <td>760</td>\n",
       "      <td>1016</td>\n",
       "      <td>14</td>\n",
       "      <td>1790</td>\n",
       "    </tr>\n",
       "    <tr>\n",
       "      <th>Total</th>\n",
       "      <td>387493</td>\n",
       "      <td>212348</td>\n",
       "      <td>32848</td>\n",
       "      <td>632689</td>\n",
       "    </tr>\n",
       "  </tbody>\n",
       "</table>\n",
       "</div>"
      ],
      "text/plain": [
       "categ           0.0     1.0    2.0   Total\n",
       "Age_tranche                               \n",
       "19-24          8601   14222  14997   37820\n",
       "25-29          5813    9897  10763   26473\n",
       "30-35         60527   21475   4441   86443\n",
       "36-40         75737   23497    320   99554\n",
       "41-45         83787   26260    450  110497\n",
       "46-51         81656   25547    383  107586\n",
       "52-56         19131   24421    402   43954\n",
       "57-61         15614   20410    309   36333\n",
       "62-67         15491   19485    349   35325\n",
       "68-72          8860   11559    171   20590\n",
       "73-77          5503    6726    101   12330\n",
       "78-83          4115    5513     93    9721\n",
       "84-88          1898    2320     55    4273\n",
       "89-94           760    1016     14    1790\n",
       "Total        387493  212348  32848  632689"
      ]
     },
     "execution_count": 112,
     "metadata": {},
     "output_type": "execute_result"
    }
   ],
   "source": [
    "# Création de ma table de contingence\n",
    "X = 'Age_tranche'\n",
    "Y = \"categ\"\n",
    "\n",
    "cont_2 = df_final[[X,Y]].pivot_table(index=X,columns=Y,aggfunc=len,margins=True,margins_name=\"Total\")\n",
    "cont_2"
   ]
  },
  {
   "cell_type": "code",
   "execution_count": 113,
   "id": "dab915e3",
   "metadata": {},
   "outputs": [
    {
     "data": {
      "text/html": [
       "<div>\n",
       "<style scoped>\n",
       "    .dataframe tbody tr th:only-of-type {\n",
       "        vertical-align: middle;\n",
       "    }\n",
       "\n",
       "    .dataframe tbody tr th {\n",
       "        vertical-align: top;\n",
       "    }\n",
       "\n",
       "    .dataframe thead th {\n",
       "        text-align: right;\n",
       "    }\n",
       "</style>\n",
       "<table border=\"1\" class=\"dataframe\">\n",
       "  <thead>\n",
       "    <tr style=\"text-align: right;\">\n",
       "      <th>categ</th>\n",
       "      <th>0.0</th>\n",
       "      <th>1.0</th>\n",
       "      <th>2.0</th>\n",
       "      <th>Total</th>\n",
       "    </tr>\n",
       "    <tr>\n",
       "      <th>Age_tranche</th>\n",
       "      <th></th>\n",
       "      <th></th>\n",
       "      <th></th>\n",
       "      <th></th>\n",
       "    </tr>\n",
       "  </thead>\n",
       "  <tbody>\n",
       "    <tr>\n",
       "      <th>19-24</th>\n",
       "      <td>23163.0</td>\n",
       "      <td>12693.0</td>\n",
       "      <td>1964.0</td>\n",
       "      <td>37820.0</td>\n",
       "    </tr>\n",
       "    <tr>\n",
       "      <th>25-29</th>\n",
       "      <td>16213.0</td>\n",
       "      <td>8885.0</td>\n",
       "      <td>1374.0</td>\n",
       "      <td>26473.0</td>\n",
       "    </tr>\n",
       "    <tr>\n",
       "      <th>30-35</th>\n",
       "      <td>52942.0</td>\n",
       "      <td>29013.0</td>\n",
       "      <td>4488.0</td>\n",
       "      <td>86443.0</td>\n",
       "    </tr>\n",
       "    <tr>\n",
       "      <th>36-40</th>\n",
       "      <td>60972.0</td>\n",
       "      <td>33413.0</td>\n",
       "      <td>5169.0</td>\n",
       "      <td>99554.0</td>\n",
       "    </tr>\n",
       "    <tr>\n",
       "      <th>41-45</th>\n",
       "      <td>67674.0</td>\n",
       "      <td>37086.0</td>\n",
       "      <td>5737.0</td>\n",
       "      <td>110497.0</td>\n",
       "    </tr>\n",
       "    <tr>\n",
       "      <th>46-51</th>\n",
       "      <td>65891.0</td>\n",
       "      <td>36109.0</td>\n",
       "      <td>5586.0</td>\n",
       "      <td>107586.0</td>\n",
       "    </tr>\n",
       "    <tr>\n",
       "      <th>52-56</th>\n",
       "      <td>26920.0</td>\n",
       "      <td>14752.0</td>\n",
       "      <td>2282.0</td>\n",
       "      <td>43954.0</td>\n",
       "    </tr>\n",
       "    <tr>\n",
       "      <th>57-61</th>\n",
       "      <td>22252.0</td>\n",
       "      <td>12194.0</td>\n",
       "      <td>1886.0</td>\n",
       "      <td>36333.0</td>\n",
       "    </tr>\n",
       "    <tr>\n",
       "      <th>62-67</th>\n",
       "      <td>21635.0</td>\n",
       "      <td>11856.0</td>\n",
       "      <td>1834.0</td>\n",
       "      <td>35325.0</td>\n",
       "    </tr>\n",
       "    <tr>\n",
       "      <th>68-72</th>\n",
       "      <td>12610.0</td>\n",
       "      <td>6911.0</td>\n",
       "      <td>1069.0</td>\n",
       "      <td>20590.0</td>\n",
       "    </tr>\n",
       "    <tr>\n",
       "      <th>73-77</th>\n",
       "      <td>7552.0</td>\n",
       "      <td>4138.0</td>\n",
       "      <td>640.0</td>\n",
       "      <td>12330.0</td>\n",
       "    </tr>\n",
       "    <tr>\n",
       "      <th>78-83</th>\n",
       "      <td>5954.0</td>\n",
       "      <td>3263.0</td>\n",
       "      <td>505.0</td>\n",
       "      <td>9721.0</td>\n",
       "    </tr>\n",
       "    <tr>\n",
       "      <th>84-88</th>\n",
       "      <td>2617.0</td>\n",
       "      <td>1434.0</td>\n",
       "      <td>222.0</td>\n",
       "      <td>4273.0</td>\n",
       "    </tr>\n",
       "    <tr>\n",
       "      <th>89-94</th>\n",
       "      <td>1096.0</td>\n",
       "      <td>601.0</td>\n",
       "      <td>93.0</td>\n",
       "      <td>1790.0</td>\n",
       "    </tr>\n",
       "    <tr>\n",
       "      <th>Total</th>\n",
       "      <td>387493.0</td>\n",
       "      <td>212348.0</td>\n",
       "      <td>32848.0</td>\n",
       "      <td>632689.0</td>\n",
       "    </tr>\n",
       "  </tbody>\n",
       "</table>\n",
       "</div>"
      ],
      "text/plain": [
       "categ             0.0       1.0      2.0     Total\n",
       "Age_tranche                                       \n",
       "19-24         23163.0   12693.0   1964.0   37820.0\n",
       "25-29         16213.0    8885.0   1374.0   26473.0\n",
       "30-35         52942.0   29013.0   4488.0   86443.0\n",
       "36-40         60972.0   33413.0   5169.0   99554.0\n",
       "41-45         67674.0   37086.0   5737.0  110497.0\n",
       "46-51         65891.0   36109.0   5586.0  107586.0\n",
       "52-56         26920.0   14752.0   2282.0   43954.0\n",
       "57-61         22252.0   12194.0   1886.0   36333.0\n",
       "62-67         21635.0   11856.0   1834.0   35325.0\n",
       "68-72         12610.0    6911.0   1069.0   20590.0\n",
       "73-77          7552.0    4138.0    640.0   12330.0\n",
       "78-83          5954.0    3263.0    505.0    9721.0\n",
       "84-88          2617.0    1434.0    222.0    4273.0\n",
       "89-94          1096.0     601.0     93.0    1790.0\n",
       "Total        387493.0  212348.0  32848.0  632689.0"
      ]
     },
     "execution_count": 113,
     "metadata": {},
     "output_type": "execute_result"
    }
   ],
   "source": [
    "# Regardons la distibution si les variables étaient complétement independantes\n",
    "\n",
    "tx = cont_2.loc[:,[\"Total\"]]\n",
    "ty = cont_2.loc[[\"Total\"],:]\n",
    "n = len(df_final)\n",
    "indep = round(tx.dot(ty) / n)\n",
    "\n",
    "indep"
   ]
  },
  {
   "cell_type": "code",
   "execution_count": 114,
   "id": "0e017ef3",
   "metadata": {},
   "outputs": [
    {
     "data": {
      "text/html": [
       "<div>\n",
       "<style scoped>\n",
       "    .dataframe tbody tr th:only-of-type {\n",
       "        vertical-align: middle;\n",
       "    }\n",
       "\n",
       "    .dataframe tbody tr th {\n",
       "        vertical-align: top;\n",
       "    }\n",
       "\n",
       "    .dataframe thead th {\n",
       "        text-align: right;\n",
       "    }\n",
       "</style>\n",
       "<table border=\"1\" class=\"dataframe\">\n",
       "  <thead>\n",
       "    <tr style=\"text-align: right;\">\n",
       "      <th>categ</th>\n",
       "      <th>0.0</th>\n",
       "      <th>1.0</th>\n",
       "      <th>2.0</th>\n",
       "      <th>Total</th>\n",
       "    </tr>\n",
       "    <tr>\n",
       "      <th>Age_tranche</th>\n",
       "      <th></th>\n",
       "      <th></th>\n",
       "      <th></th>\n",
       "      <th></th>\n",
       "    </tr>\n",
       "  </thead>\n",
       "  <tbody>\n",
       "    <tr>\n",
       "      <th>19-24</th>\n",
       "      <td>-0.628675</td>\n",
       "      <td>0.120460</td>\n",
       "      <td>6.635947</td>\n",
       "      <td>0.0</td>\n",
       "    </tr>\n",
       "    <tr>\n",
       "      <th>25-29</th>\n",
       "      <td>-0.641461</td>\n",
       "      <td>0.113900</td>\n",
       "      <td>6.833333</td>\n",
       "      <td>0.0</td>\n",
       "    </tr>\n",
       "    <tr>\n",
       "      <th>30-35</th>\n",
       "      <td>0.143270</td>\n",
       "      <td>-0.259815</td>\n",
       "      <td>-0.010472</td>\n",
       "      <td>0.0</td>\n",
       "    </tr>\n",
       "    <tr>\n",
       "      <th>36-40</th>\n",
       "      <td>0.242160</td>\n",
       "      <td>-0.296771</td>\n",
       "      <td>-0.938092</td>\n",
       "      <td>0.0</td>\n",
       "    </tr>\n",
       "    <tr>\n",
       "      <th>41-45</th>\n",
       "      <td>0.238097</td>\n",
       "      <td>-0.291916</td>\n",
       "      <td>-0.921562</td>\n",
       "      <td>0.0</td>\n",
       "    </tr>\n",
       "    <tr>\n",
       "      <th>46-51</th>\n",
       "      <td>0.239259</td>\n",
       "      <td>-0.292503</td>\n",
       "      <td>-0.931436</td>\n",
       "      <td>0.0</td>\n",
       "    </tr>\n",
       "    <tr>\n",
       "      <th>52-56</th>\n",
       "      <td>-0.289339</td>\n",
       "      <td>0.655437</td>\n",
       "      <td>-0.823839</td>\n",
       "      <td>0.0</td>\n",
       "    </tr>\n",
       "    <tr>\n",
       "      <th>57-61</th>\n",
       "      <td>-0.298310</td>\n",
       "      <td>0.673774</td>\n",
       "      <td>-0.836161</td>\n",
       "      <td>0.0</td>\n",
       "    </tr>\n",
       "    <tr>\n",
       "      <th>62-67</th>\n",
       "      <td>-0.283984</td>\n",
       "      <td>0.643472</td>\n",
       "      <td>-0.809706</td>\n",
       "      <td>0.0</td>\n",
       "    </tr>\n",
       "    <tr>\n",
       "      <th>68-72</th>\n",
       "      <td>-0.297383</td>\n",
       "      <td>0.672551</td>\n",
       "      <td>-0.840037</td>\n",
       "      <td>0.0</td>\n",
       "    </tr>\n",
       "    <tr>\n",
       "      <th>73-77</th>\n",
       "      <td>-0.271319</td>\n",
       "      <td>0.625423</td>\n",
       "      <td>-0.842187</td>\n",
       "      <td>0.0</td>\n",
       "    </tr>\n",
       "    <tr>\n",
       "      <th>78-83</th>\n",
       "      <td>-0.308868</td>\n",
       "      <td>0.689549</td>\n",
       "      <td>-0.815842</td>\n",
       "      <td>0.0</td>\n",
       "    </tr>\n",
       "    <tr>\n",
       "      <th>84-88</th>\n",
       "      <td>-0.274742</td>\n",
       "      <td>0.617852</td>\n",
       "      <td>-0.752252</td>\n",
       "      <td>0.0</td>\n",
       "    </tr>\n",
       "    <tr>\n",
       "      <th>89-94</th>\n",
       "      <td>-0.306569</td>\n",
       "      <td>0.690516</td>\n",
       "      <td>-0.849462</td>\n",
       "      <td>0.0</td>\n",
       "    </tr>\n",
       "    <tr>\n",
       "      <th>Total</th>\n",
       "      <td>0.000000</td>\n",
       "      <td>0.000000</td>\n",
       "      <td>0.000000</td>\n",
       "      <td>0.0</td>\n",
       "    </tr>\n",
       "  </tbody>\n",
       "</table>\n",
       "</div>"
      ],
      "text/plain": [
       "categ             0.0       1.0       2.0  Total\n",
       "Age_tranche                                     \n",
       "19-24       -0.628675  0.120460  6.635947    0.0\n",
       "25-29       -0.641461  0.113900  6.833333    0.0\n",
       "30-35        0.143270 -0.259815 -0.010472    0.0\n",
       "36-40        0.242160 -0.296771 -0.938092    0.0\n",
       "41-45        0.238097 -0.291916 -0.921562    0.0\n",
       "46-51        0.239259 -0.292503 -0.931436    0.0\n",
       "52-56       -0.289339  0.655437 -0.823839    0.0\n",
       "57-61       -0.298310  0.673774 -0.836161    0.0\n",
       "62-67       -0.283984  0.643472 -0.809706    0.0\n",
       "68-72       -0.297383  0.672551 -0.840037    0.0\n",
       "73-77       -0.271319  0.625423 -0.842187    0.0\n",
       "78-83       -0.308868  0.689549 -0.815842    0.0\n",
       "84-88       -0.274742  0.617852 -0.752252    0.0\n",
       "89-94       -0.306569  0.690516 -0.849462    0.0\n",
       "Total        0.000000  0.000000  0.000000    0.0"
      ]
     },
     "execution_count": 114,
     "metadata": {},
     "output_type": "execute_result"
    }
   ],
   "source": [
    "# regardons où l'écart est le plus important\n",
    "(cont_2 - indep)/indep"
   ]
  },
  {
   "cell_type": "code",
   "execution_count": 115,
   "id": "6b7fb8f1",
   "metadata": {},
   "outputs": [],
   "source": [
    "chi2, p, dof, exp = chi2_contingency(cont_2)"
   ]
  },
  {
   "cell_type": "code",
   "execution_count": 116,
   "id": "f2a4d154",
   "metadata": {},
   "outputs": [
    {
     "data": {
      "text/plain": [
       "242695.9059372266"
      ]
     },
     "execution_count": 116,
     "metadata": {},
     "output_type": "execute_result"
    }
   ],
   "source": [
    "chi2"
   ]
  },
  {
   "cell_type": "code",
   "execution_count": 117,
   "id": "0f4fcabb",
   "metadata": {},
   "outputs": [
    {
     "data": {
      "text/plain": [
       "0.0"
      ]
     },
     "execution_count": 117,
     "metadata": {},
     "output_type": "execute_result"
    }
   ],
   "source": [
    "p"
   ]
  },
  {
   "cell_type": "code",
   "execution_count": 118,
   "id": "92855bab",
   "metadata": {},
   "outputs": [
    {
     "data": {
      "image/png": "[encoded data removed]",
      "text/plain": [
       "<Figure size 432x288 with 2 Axes>"
      ]
     },
     "metadata": {
      "needs_background": "light"
     },
     "output_type": "display_data"
    }
   ],
   "source": [
    "c = cont_2.fillna(0) # On remplace les valeurs nulles par 0\n",
    "measure = (c-indep)**2/indep\n",
    "xi_n = measure.sum().sum()\n",
    "table = measure/xi_n\n",
    "sns.heatmap(table.iloc[:-1,:-1],annot=c.iloc[:-1,:-1])\n",
    "plt.title('Matrice de corrélation entre le sexe et la catégorie de produit')\n",
    "plt.show()"
   ]
  },
  {
   "cell_type": "markdown",
   "id": "36de39ee",
   "metadata": {},
   "source": [
    "### 3.4.3 Corrélation âge et fréquence d'achat"
   ]
  },
  {
   "cell_type": "code",
   "execution_count": 166,
   "id": "93a22ea7",
   "metadata": {},
   "outputs": [],
   "source": [
    "df_freq_age = df_final.groupby([\"Age_tranche\",\"année\",\"mois\"]).agg({\"client_id\":\"nunique\",'session_id':\"count\"})\n",
    "\n",
    "df_freq_age = pd.DataFrame(df_freq_age).reset_index()"
   ]
  },
  {
   "cell_type": "code",
   "execution_count": 172,
   "id": "fd1c3a92",
   "metadata": {},
   "outputs": [],
   "source": [
    "df_freq_age [\"nb_achats\"] = df_freq_age [\"session_id\"]/ df_freq_age [\"client_id\"]"
   ]
  },
  {
   "cell_type": "code",
   "execution_count": 173,
   "id": "c205864d",
   "metadata": {},
   "outputs": [
    {
     "data": {
      "text/html": [
       "<div>\n",
       "<style scoped>\n",
       "    .dataframe tbody tr th:only-of-type {\n",
       "        vertical-align: middle;\n",
       "    }\n",
       "\n",
       "    .dataframe tbody tr th {\n",
       "        vertical-align: top;\n",
       "    }\n",
       "\n",
       "    .dataframe thead th {\n",
       "        text-align: right;\n",
       "    }\n",
       "</style>\n",
       "<table border=\"1\" class=\"dataframe\">\n",
       "  <thead>\n",
       "    <tr style=\"text-align: right;\">\n",
       "      <th></th>\n",
       "      <th>Age_tranche</th>\n",
       "      <th>année</th>\n",
       "      <th>mois</th>\n",
       "      <th>client_id</th>\n",
       "      <th>session_id</th>\n",
       "      <th>nd_achats</th>\n",
       "      <th>nb_achats</th>\n",
       "    </tr>\n",
       "  </thead>\n",
       "  <tbody>\n",
       "    <tr>\n",
       "      <th>0</th>\n",
       "      <td>19-24</td>\n",
       "      <td>2021</td>\n",
       "      <td>1</td>\n",
       "      <td>0</td>\n",
       "      <td>0</td>\n",
       "      <td>NaN</td>\n",
       "      <td>NaN</td>\n",
       "    </tr>\n",
       "    <tr>\n",
       "      <th>1</th>\n",
       "      <td>19-24</td>\n",
       "      <td>2021</td>\n",
       "      <td>2</td>\n",
       "      <td>0</td>\n",
       "      <td>0</td>\n",
       "      <td>NaN</td>\n",
       "      <td>NaN</td>\n",
       "    </tr>\n",
       "    <tr>\n",
       "      <th>2</th>\n",
       "      <td>19-24</td>\n",
       "      <td>2021</td>\n",
       "      <td>3</td>\n",
       "      <td>563</td>\n",
       "      <td>1496</td>\n",
       "      <td>2.657194</td>\n",
       "      <td>2.657194</td>\n",
       "    </tr>\n",
       "    <tr>\n",
       "      <th>3</th>\n",
       "      <td>19-24</td>\n",
       "      <td>2021</td>\n",
       "      <td>4</td>\n",
       "      <td>573</td>\n",
       "      <td>1502</td>\n",
       "      <td>2.621291</td>\n",
       "      <td>2.621291</td>\n",
       "    </tr>\n",
       "    <tr>\n",
       "      <th>4</th>\n",
       "      <td>19-24</td>\n",
       "      <td>2021</td>\n",
       "      <td>5</td>\n",
       "      <td>597</td>\n",
       "      <td>1531</td>\n",
       "      <td>2.564489</td>\n",
       "      <td>2.564489</td>\n",
       "    </tr>\n",
       "    <tr>\n",
       "      <th>...</th>\n",
       "      <td>...</td>\n",
       "      <td>...</td>\n",
       "      <td>...</td>\n",
       "      <td>...</td>\n",
       "      <td>...</td>\n",
       "      <td>...</td>\n",
       "      <td>...</td>\n",
       "    </tr>\n",
       "    <tr>\n",
       "      <th>499</th>\n",
       "      <td>89-94</td>\n",
       "      <td>2023</td>\n",
       "      <td>8</td>\n",
       "      <td>0</td>\n",
       "      <td>0</td>\n",
       "      <td>NaN</td>\n",
       "      <td>NaN</td>\n",
       "    </tr>\n",
       "    <tr>\n",
       "      <th>500</th>\n",
       "      <td>89-94</td>\n",
       "      <td>2023</td>\n",
       "      <td>9</td>\n",
       "      <td>0</td>\n",
       "      <td>0</td>\n",
       "      <td>NaN</td>\n",
       "      <td>NaN</td>\n",
       "    </tr>\n",
       "    <tr>\n",
       "      <th>501</th>\n",
       "      <td>89-94</td>\n",
       "      <td>2023</td>\n",
       "      <td>10</td>\n",
       "      <td>0</td>\n",
       "      <td>0</td>\n",
       "      <td>NaN</td>\n",
       "      <td>NaN</td>\n",
       "    </tr>\n",
       "    <tr>\n",
       "      <th>502</th>\n",
       "      <td>89-94</td>\n",
       "      <td>2023</td>\n",
       "      <td>11</td>\n",
       "      <td>0</td>\n",
       "      <td>0</td>\n",
       "      <td>NaN</td>\n",
       "      <td>NaN</td>\n",
       "    </tr>\n",
       "    <tr>\n",
       "      <th>503</th>\n",
       "      <td>89-94</td>\n",
       "      <td>2023</td>\n",
       "      <td>12</td>\n",
       "      <td>0</td>\n",
       "      <td>0</td>\n",
       "      <td>NaN</td>\n",
       "      <td>NaN</td>\n",
       "    </tr>\n",
       "  </tbody>\n",
       "</table>\n",
       "<p>504 rows × 7 columns</p>\n",
       "</div>"
      ],
      "text/plain": [
       "    Age_tranche  année  mois  client_id  session_id  nd_achats  nb_achats\n",
       "0         19-24   2021     1          0           0        NaN        NaN\n",
       "1         19-24   2021     2          0           0        NaN        NaN\n",
       "2         19-24   2021     3        563        1496   2.657194   2.657194\n",
       "3         19-24   2021     4        573        1502   2.621291   2.621291\n",
       "4         19-24   2021     5        597        1531   2.564489   2.564489\n",
       "..          ...    ...   ...        ...         ...        ...        ...\n",
       "499       89-94   2023     8          0           0        NaN        NaN\n",
       "500       89-94   2023     9          0           0        NaN        NaN\n",
       "501       89-94   2023    10          0           0        NaN        NaN\n",
       "502       89-94   2023    11          0           0        NaN        NaN\n",
       "503       89-94   2023    12          0           0        NaN        NaN\n",
       "\n",
       "[504 rows x 7 columns]"
      ]
     },
     "execution_count": 173,
     "metadata": {},
     "output_type": "execute_result"
    }
   ],
   "source": [
    "df_freq_age"
   ]
  },
  {
   "cell_type": "code",
   "execution_count": 175,
   "id": "00339e83",
   "metadata": {},
   "outputs": [
    {
     "data": {
      "image/png": "[encoded data removed]",
      "text/plain": [
       "<Figure size 648x432 with 1 Axes>"
      ]
     },
     "metadata": {
      "needs_background": "light"
     },
     "output_type": "display_data"
    }
   ],
   "source": [
    "fig = plt.figure(1, figsize=(9,6))\n",
    "sns.boxplot(x='Age_tranche',y=\"nb_achats\",data=df_freq_age, showfliers=True)\n",
    "plt.title('Fréquence d\\'achat mensuel par tranche d\\'âge')\n",
    "plt.grid()\n",
    "plt.show()"
   ]
  },
  {
   "cell_type": "code",
   "execution_count": 176,
   "id": "3befd4d9",
   "metadata": {},
   "outputs": [],
   "source": [
    "import statsmodels.api as sm\n",
    "from statsmodels.formula.api import ols"
   ]
  },
  {
   "cell_type": "code",
   "execution_count": 180,
   "id": "2f3182ec",
   "metadata": {},
   "outputs": [],
   "source": [
    "lm = ols('nb_achats ~ Age_tranche', data = df_freq_age).fit()\n",
    "import statsmodels.api; \n",
    "table = sm.stats.anova_lm(lm)"
   ]
  },
  {
   "cell_type": "code",
   "execution_count": 181,
   "id": "50dc1beb",
   "metadata": {},
   "outputs": [
    {
     "data": {
      "text/html": [
       "<div>\n",
       "<style scoped>\n",
       "    .dataframe tbody tr th:only-of-type {\n",
       "        vertical-align: middle;\n",
       "    }\n",
       "\n",
       "    .dataframe tbody tr th {\n",
       "        vertical-align: top;\n",
       "    }\n",
       "\n",
       "    .dataframe thead th {\n",
       "        text-align: right;\n",
       "    }\n",
       "</style>\n",
       "<table border=\"1\" class=\"dataframe\">\n",
       "  <thead>\n",
       "    <tr style=\"text-align: right;\">\n",
       "      <th></th>\n",
       "      <th>df</th>\n",
       "      <th>sum_sq</th>\n",
       "      <th>mean_sq</th>\n",
       "      <th>F</th>\n",
       "      <th>PR(&gt;F)</th>\n",
       "    </tr>\n",
       "  </thead>\n",
       "  <tbody>\n",
       "    <tr>\n",
       "      <th>Age_tranche</th>\n",
       "      <td>13.0</td>\n",
       "      <td>648.147853</td>\n",
       "      <td>49.857527</td>\n",
       "      <td>326.958346</td>\n",
       "      <td>1.079755e-176</td>\n",
       "    </tr>\n",
       "    <tr>\n",
       "      <th>Residual</th>\n",
       "      <td>322.0</td>\n",
       "      <td>49.101434</td>\n",
       "      <td>0.152489</td>\n",
       "      <td>NaN</td>\n",
       "      <td>NaN</td>\n",
       "    </tr>\n",
       "  </tbody>\n",
       "</table>\n",
       "</div>"
      ],
      "text/plain": [
       "                df      sum_sq    mean_sq           F         PR(>F)\n",
       "Age_tranche   13.0  648.147853  49.857527  326.958346  1.079755e-176\n",
       "Residual     322.0   49.101434   0.152489         NaN            NaN"
      ]
     },
     "execution_count": 181,
     "metadata": {},
     "output_type": "execute_result"
    }
   ],
   "source": [
    "table"
   ]
  },
  {
   "cell_type": "code",
   "execution_count": 182,
   "id": "5629cad7",
   "metadata": {},
   "outputs": [
    {
     "data": {
      "text/html": [
       "<table class=\"simpletable\">\n",
       "<caption>OLS Regression Results</caption>\n",
       "<tr>\n",
       "  <th>Dep. Variable:</th>        <td>nb_achats</td>    <th>  R-squared:         </th> <td>   0.930</td> \n",
       "</tr>\n",
       "<tr>\n",
       "  <th>Model:</th>                   <td>OLS</td>       <th>  Adj. R-squared:    </th> <td>   0.927</td> \n",
       "</tr>\n",
       "<tr>\n",
       "  <th>Method:</th>             <td>Least Squares</td>  <th>  F-statistic:       </th> <td>   327.0</td> \n",
       "</tr>\n",
       "<tr>\n",
       "  <th>Date:</th>             <td>Sun, 13 Nov 2022</td> <th>  Prob (F-statistic):</th> <td>1.08e-176</td>\n",
       "</tr>\n",
       "<tr>\n",
       "  <th>Time:</th>                 <td>16:15:39</td>     <th>  Log-Likelihood:    </th> <td> -153.66</td> \n",
       "</tr>\n",
       "<tr>\n",
       "  <th>No. Observations:</th>      <td>   336</td>      <th>  AIC:               </th> <td>   335.3</td> \n",
       "</tr>\n",
       "<tr>\n",
       "  <th>Df Residuals:</th>          <td>   322</td>      <th>  BIC:               </th> <td>   388.8</td> \n",
       "</tr>\n",
       "<tr>\n",
       "  <th>Df Model:</th>              <td>    13</td>      <th>                     </th>     <td> </td>    \n",
       "</tr>\n",
       "<tr>\n",
       "  <th>Covariance Type:</th>      <td>nonrobust</td>    <th>                     </th>     <td> </td>    \n",
       "</tr>\n",
       "</table>\n",
       "<table class=\"simpletable\">\n",
       "<tr>\n",
       "            <td></td>              <th>coef</th>     <th>std err</th>      <th>t</th>      <th>P>|t|</th>  <th>[0.025</th>    <th>0.975]</th>  \n",
       "</tr>\n",
       "<tr>\n",
       "  <th>Intercept</th>            <td>    2.6982</td> <td>    0.080</td> <td>   33.850</td> <td> 0.000</td> <td>    2.541</td> <td>    2.855</td>\n",
       "</tr>\n",
       "<tr>\n",
       "  <th>Age_tranche[T.25-29]</th> <td>    0.0340</td> <td>    0.113</td> <td>    0.302</td> <td> 0.763</td> <td>   -0.188</td> <td>    0.256</td>\n",
       "</tr>\n",
       "<tr>\n",
       "  <th>Age_tranche[T.30-35]</th> <td>    2.8213</td> <td>    0.113</td> <td>   25.028</td> <td> 0.000</td> <td>    2.600</td> <td>    3.043</td>\n",
       "</tr>\n",
       "<tr>\n",
       "  <th>Age_tranche[T.36-40]</th> <td>    3.9754</td> <td>    0.113</td> <td>   35.266</td> <td> 0.000</td> <td>    3.754</td> <td>    4.197</td>\n",
       "</tr>\n",
       "<tr>\n",
       "  <th>Age_tranche[T.41-45]</th> <td>    3.6594</td> <td>    0.113</td> <td>   32.463</td> <td> 0.000</td> <td>    3.438</td> <td>    3.881</td>\n",
       "</tr>\n",
       "<tr>\n",
       "  <th>Age_tranche[T.46-51]</th> <td>    3.6038</td> <td>    0.113</td> <td>   31.969</td> <td> 0.000</td> <td>    3.382</td> <td>    3.826</td>\n",
       "</tr>\n",
       "<tr>\n",
       "  <th>Age_tranche[T.52-56]</th> <td>    0.6938</td> <td>    0.113</td> <td>    6.154</td> <td> 0.000</td> <td>    0.472</td> <td>    0.916</td>\n",
       "</tr>\n",
       "<tr>\n",
       "  <th>Age_tranche[T.57-61]</th> <td>    0.7887</td> <td>    0.113</td> <td>    6.997</td> <td> 0.000</td> <td>    0.567</td> <td>    1.010</td>\n",
       "</tr>\n",
       "<tr>\n",
       "  <th>Age_tranche[T.62-67]</th> <td>    0.6700</td> <td>    0.113</td> <td>    5.943</td> <td> 0.000</td> <td>    0.448</td> <td>    0.892</td>\n",
       "</tr>\n",
       "<tr>\n",
       "  <th>Age_tranche[T.68-72]</th> <td>    0.6113</td> <td>    0.113</td> <td>    5.422</td> <td> 0.000</td> <td>    0.389</td> <td>    0.833</td>\n",
       "</tr>\n",
       "<tr>\n",
       "  <th>Age_tranche[T.73-77]</th> <td>    0.6661</td> <td>    0.113</td> <td>    5.909</td> <td> 0.000</td> <td>    0.444</td> <td>    0.888</td>\n",
       "</tr>\n",
       "<tr>\n",
       "  <th>Age_tranche[T.78-83]</th> <td>    0.5876</td> <td>    0.113</td> <td>    5.213</td> <td> 0.000</td> <td>    0.366</td> <td>    0.809</td>\n",
       "</tr>\n",
       "<tr>\n",
       "  <th>Age_tranche[T.84-88]</th> <td>    0.6310</td> <td>    0.113</td> <td>    5.598</td> <td> 0.000</td> <td>    0.409</td> <td>    0.853</td>\n",
       "</tr>\n",
       "<tr>\n",
       "  <th>Age_tranche[T.89-94]</th> <td>    0.5305</td> <td>    0.113</td> <td>    4.706</td> <td> 0.000</td> <td>    0.309</td> <td>    0.752</td>\n",
       "</tr>\n",
       "</table>\n",
       "<table class=\"simpletable\">\n",
       "<tr>\n",
       "  <th>Omnibus:</th>       <td>29.384</td> <th>  Durbin-Watson:     </th> <td>   2.242</td>\n",
       "</tr>\n",
       "<tr>\n",
       "  <th>Prob(Omnibus):</th> <td> 0.000</td> <th>  Jarque-Bera (JB):  </th> <td> 131.192</td>\n",
       "</tr>\n",
       "<tr>\n",
       "  <th>Skew:</th>          <td>-0.011</td> <th>  Prob(JB):          </th> <td>3.25e-29</td>\n",
       "</tr>\n",
       "<tr>\n",
       "  <th>Kurtosis:</th>      <td> 6.061</td> <th>  Cond. No.          </th> <td>    14.9</td>\n",
       "</tr>\n",
       "</table><br/><br/>Notes:<br/>[1] Standard Errors assume that the covariance matrix of the errors is correctly specified."
      ],
      "text/plain": [
       "<class 'statsmodels.iolib.summary.Summary'>\n",
       "\"\"\"\n",
       "                            OLS Regression Results                            \n",
       "==============================================================================\n",
       "Dep. Variable:              nb_achats   R-squared:                       0.930\n",
       "Model:                            OLS   Adj. R-squared:                  0.927\n",
       "Method:                 Least Squares   F-statistic:                     327.0\n",
       "Date:                Sun, 13 Nov 2022   Prob (F-statistic):          1.08e-176\n",
       "Time:                        16:15:39   Log-Likelihood:                -153.66\n",
       "No. Observations:                 336   AIC:                             335.3\n",
       "Df Residuals:                     322   BIC:                             388.8\n",
       "Df Model:                          13                                         \n",
       "Covariance Type:            nonrobust                                         \n",
       "========================================================================================\n",
       "                           coef    std err          t      P>|t|      [0.025      0.975]\n",
       "----------------------------------------------------------------------------------------\n",
       "Intercept                2.6982      0.080     33.850      0.000       2.541       2.855\n",
       "Age_tranche[T.25-29]     0.0340      0.113      0.302      0.763      -0.188       0.256\n",
       "Age_tranche[T.30-35]     2.8213      0.113     25.028      0.000       2.600       3.043\n",
       "Age_tranche[T.36-40]     3.9754      0.113     35.266      0.000       3.754       4.197\n",
       "Age_tranche[T.41-45]     3.6594      0.113     32.463      0.000       3.438       3.881\n",
       "Age_tranche[T.46-51]     3.6038      0.113     31.969      0.000       3.382       3.826\n",
       "Age_tranche[T.52-56]     0.6938      0.113      6.154      0.000       0.472       0.916\n",
       "Age_tranche[T.57-61]     0.7887      0.113      6.997      0.000       0.567       1.010\n",
       "Age_tranche[T.62-67]     0.6700      0.113      5.943      0.000       0.448       0.892\n",
       "Age_tranche[T.68-72]     0.6113      0.113      5.422      0.000       0.389       0.833\n",
       "Age_tranche[T.73-77]     0.6661      0.113      5.909      0.000       0.444       0.888\n",
       "Age_tranche[T.78-83]     0.5876      0.113      5.213      0.000       0.366       0.809\n",
       "Age_tranche[T.84-88]     0.6310      0.113      5.598      0.000       0.409       0.853\n",
       "Age_tranche[T.89-94]     0.5305      0.113      4.706      0.000       0.309       0.752\n",
       "==============================================================================\n",
       "Omnibus:                       29.384   Durbin-Watson:                   2.242\n",
       "Prob(Omnibus):                  0.000   Jarque-Bera (JB):              131.192\n",
       "Skew:                          -0.011   Prob(JB):                     3.25e-29\n",
       "Kurtosis:                       6.061   Cond. No.                         14.9\n",
       "==============================================================================\n",
       "\n",
       "Notes:\n",
       "[1] Standard Errors assume that the covariance matrix of the errors is correctly specified.\n",
       "\"\"\""
      ]
     },
     "execution_count": 182,
     "metadata": {},
     "output_type": "execute_result"
    }
   ],
   "source": [
    "lm.summary()"
   ]
  },
  {
   "cell_type": "markdown",
   "id": "b818c571",
   "metadata": {},
   "source": [
    "Avec un R_squared de 0.93, on peut dire qu'il existe à priori une relation entre l'âge et la fréquence d'achats.  \n",
    "\n",
    "Avec un p-value inférieure à 0.05%, on peut rejeter l'hypothèse H0."
   ]
  },
  {
   "cell_type": "markdown",
   "id": "426528ad",
   "metadata": {},
   "source": [
    "### 3.4.4 Corrélation âge et Panier moyen"
   ]
  },
  {
   "cell_type": "code",
   "execution_count": 189,
   "id": "085d7cd1",
   "metadata": {},
   "outputs": [],
   "source": [
    "df_panier_age = df_final.groupby([\"Age_tranche\",\"année\",\"mois\"]).agg({\"price\":\"sum\",'session_id':\"count\"})\n",
    "\n",
    "df_panier_age = pd.DataFrame(df_panier_age).reset_index()"
   ]
  },
  {
   "cell_type": "code",
   "execution_count": 194,
   "id": "48bf9e7f",
   "metadata": {},
   "outputs": [],
   "source": [
    "df_panier_age[\"panier\"] = df_panier_age[\"price\"] /df_panier_age[\"session_id\"]"
   ]
  },
  {
   "cell_type": "code",
   "execution_count": 195,
   "id": "42517e0c",
   "metadata": {},
   "outputs": [
    {
     "data": {
      "image/png": "[encoded data removed]",
      "text/plain": [
       "<Figure size 648x432 with 1 Axes>"
      ]
     },
     "metadata": {
      "needs_background": "light"
     },
     "output_type": "display_data"
    }
   ],
   "source": [
    "fig = plt.figure(1, figsize=(9,6))\n",
    "sns.boxplot(x='Age_tranche',y='panier',data=df_panier_age, showfliers=True)\n",
    "plt.title('Panier par tranche d\\'âge')\n",
    "plt.grid()\n",
    "plt.show()"
   ]
  },
  {
   "cell_type": "code",
   "execution_count": 197,
   "id": "f5f83c37",
   "metadata": {},
   "outputs": [],
   "source": [
    "lm_1 = ols('panier ~ Age_tranche', data = df_panier_age).fit()\n",
    "import statsmodels.api; \n",
    "table_1 = sm.stats.anova_lm(lm_1)"
   ]
  },
  {
   "cell_type": "code",
   "execution_count": 198,
   "id": "6a88886d",
   "metadata": {},
   "outputs": [
    {
     "data": {
      "text/html": [
       "<div>\n",
       "<style scoped>\n",
       "    .dataframe tbody tr th:only-of-type {\n",
       "        vertical-align: middle;\n",
       "    }\n",
       "\n",
       "    .dataframe tbody tr th {\n",
       "        vertical-align: top;\n",
       "    }\n",
       "\n",
       "    .dataframe thead th {\n",
       "        text-align: right;\n",
       "    }\n",
       "</style>\n",
       "<table border=\"1\" class=\"dataframe\">\n",
       "  <thead>\n",
       "    <tr style=\"text-align: right;\">\n",
       "      <th></th>\n",
       "      <th>df</th>\n",
       "      <th>sum_sq</th>\n",
       "      <th>mean_sq</th>\n",
       "      <th>F</th>\n",
       "      <th>PR(&gt;F)</th>\n",
       "    </tr>\n",
       "  </thead>\n",
       "  <tbody>\n",
       "    <tr>\n",
       "      <th>Age_tranche</th>\n",
       "      <td>13.0</td>\n",
       "      <td>25473.846148</td>\n",
       "      <td>1959.526627</td>\n",
       "      <td>798.408848</td>\n",
       "      <td>4.773618e-236</td>\n",
       "    </tr>\n",
       "    <tr>\n",
       "      <th>Residual</th>\n",
       "      <td>322.0</td>\n",
       "      <td>790.281290</td>\n",
       "      <td>2.454290</td>\n",
       "      <td>NaN</td>\n",
       "      <td>NaN</td>\n",
       "    </tr>\n",
       "  </tbody>\n",
       "</table>\n",
       "</div>"
      ],
      "text/plain": [
       "                df        sum_sq      mean_sq           F         PR(>F)\n",
       "Age_tranche   13.0  25473.846148  1959.526627  798.408848  4.773618e-236\n",
       "Residual     322.0    790.281290     2.454290         NaN            NaN"
      ]
     },
     "execution_count": 198,
     "metadata": {},
     "output_type": "execute_result"
    }
   ],
   "source": [
    "table_1"
   ]
  },
  {
   "cell_type": "code",
   "execution_count": 199,
   "id": "8a410af4",
   "metadata": {},
   "outputs": [
    {
     "data": {
      "text/html": [
       "<table class=\"simpletable\">\n",
       "<caption>OLS Regression Results</caption>\n",
       "<tr>\n",
       "  <th>Dep. Variable:</th>         <td>panier</td>      <th>  R-squared:         </th> <td>   0.970</td> \n",
       "</tr>\n",
       "<tr>\n",
       "  <th>Model:</th>                   <td>OLS</td>       <th>  Adj. R-squared:    </th> <td>   0.969</td> \n",
       "</tr>\n",
       "<tr>\n",
       "  <th>Method:</th>             <td>Least Squares</td>  <th>  F-statistic:       </th> <td>   798.4</td> \n",
       "</tr>\n",
       "<tr>\n",
       "  <th>Date:</th>             <td>Sun, 13 Nov 2022</td> <th>  Prob (F-statistic):</th> <td>4.77e-236</td>\n",
       "</tr>\n",
       "<tr>\n",
       "  <th>Time:</th>                 <td>16:24:21</td>     <th>  Log-Likelihood:    </th> <td> -620.45</td> \n",
       "</tr>\n",
       "<tr>\n",
       "  <th>No. Observations:</th>      <td>   336</td>      <th>  AIC:               </th> <td>   1269.</td> \n",
       "</tr>\n",
       "<tr>\n",
       "  <th>Df Residuals:</th>          <td>   322</td>      <th>  BIC:               </th> <td>   1322.</td> \n",
       "</tr>\n",
       "<tr>\n",
       "  <th>Df Model:</th>              <td>    13</td>      <th>                     </th>     <td> </td>    \n",
       "</tr>\n",
       "<tr>\n",
       "  <th>Covariance Type:</th>      <td>nonrobust</td>    <th>                     </th>     <td> </td>    \n",
       "</tr>\n",
       "</table>\n",
       "<table class=\"simpletable\">\n",
       "<tr>\n",
       "            <td></td>              <th>coef</th>     <th>std err</th>      <th>t</th>      <th>P>|t|</th>  <th>[0.025</th>    <th>0.975]</th>  \n",
       "</tr>\n",
       "<tr>\n",
       "  <th>Intercept</th>            <td>   40.0058</td> <td>    0.320</td> <td>  125.103</td> <td> 0.000</td> <td>   39.377</td> <td>   40.635</td>\n",
       "</tr>\n",
       "<tr>\n",
       "  <th>Age_tranche[T.25-29]</th> <td>    0.7298</td> <td>    0.452</td> <td>    1.614</td> <td> 0.108</td> <td>   -0.160</td> <td>    1.620</td>\n",
       "</tr>\n",
       "<tr>\n",
       "  <th>Age_tranche[T.30-35]</th> <td>  -23.5523</td> <td>    0.452</td> <td>  -52.079</td> <td> 0.000</td> <td>  -24.442</td> <td>  -22.663</td>\n",
       "</tr>\n",
       "<tr>\n",
       "  <th>Age_tranche[T.36-40]</th> <td>  -26.8199</td> <td>    0.452</td> <td>  -59.304</td> <td> 0.000</td> <td>  -27.710</td> <td>  -25.930</td>\n",
       "</tr>\n",
       "<tr>\n",
       "  <th>Age_tranche[T.41-45]</th> <td>  -26.6922</td> <td>    0.452</td> <td>  -59.022</td> <td> 0.000</td> <td>  -27.582</td> <td>  -25.802</td>\n",
       "</tr>\n",
       "<tr>\n",
       "  <th>Age_tranche[T.46-51]</th> <td>  -26.7923</td> <td>    0.452</td> <td>  -59.243</td> <td> 0.000</td> <td>  -27.682</td> <td>  -25.903</td>\n",
       "</tr>\n",
       "<tr>\n",
       "  <th>Age_tranche[T.52-56]</th> <td>  -23.3152</td> <td>    0.452</td> <td>  -51.555</td> <td> 0.000</td> <td>  -24.205</td> <td>  -22.425</td>\n",
       "</tr>\n",
       "<tr>\n",
       "  <th>Age_tranche[T.57-61]</th> <td>  -23.2817</td> <td>    0.452</td> <td>  -51.480</td> <td> 0.000</td> <td>  -24.171</td> <td>  -22.392</td>\n",
       "</tr>\n",
       "<tr>\n",
       "  <th>Age_tranche[T.62-67]</th> <td>  -23.2397</td> <td>    0.452</td> <td>  -51.388</td> <td> 0.000</td> <td>  -24.129</td> <td>  -22.350</td>\n",
       "</tr>\n",
       "<tr>\n",
       "  <th>Age_tranche[T.68-72]</th> <td>  -23.3812</td> <td>    0.452</td> <td>  -51.701</td> <td> 0.000</td> <td>  -24.271</td> <td>  -22.492</td>\n",
       "</tr>\n",
       "<tr>\n",
       "  <th>Age_tranche[T.73-77]</th> <td>  -23.5471</td> <td>    0.452</td> <td>  -52.067</td> <td> 0.000</td> <td>  -24.437</td> <td>  -22.657</td>\n",
       "</tr>\n",
       "<tr>\n",
       "  <th>Age_tranche[T.78-83]</th> <td>  -23.2678</td> <td>    0.452</td> <td>  -51.450</td> <td> 0.000</td> <td>  -24.158</td> <td>  -22.378</td>\n",
       "</tr>\n",
       "<tr>\n",
       "  <th>Age_tranche[T.84-88]</th> <td>  -23.0152</td> <td>    0.452</td> <td>  -50.891</td> <td> 0.000</td> <td>  -23.905</td> <td>  -22.125</td>\n",
       "</tr>\n",
       "<tr>\n",
       "  <th>Age_tranche[T.89-94]</th> <td>  -23.5052</td> <td>    0.452</td> <td>  -51.975</td> <td> 0.000</td> <td>  -24.395</td> <td>  -22.615</td>\n",
       "</tr>\n",
       "</table>\n",
       "<table class=\"simpletable\">\n",
       "<tr>\n",
       "  <th>Omnibus:</th>       <td>174.144</td> <th>  Durbin-Watson:     </th> <td>   1.957</td>\n",
       "</tr>\n",
       "<tr>\n",
       "  <th>Prob(Omnibus):</th> <td> 0.000</td>  <th>  Jarque-Bera (JB):  </th> <td>3325.162</td>\n",
       "</tr>\n",
       "<tr>\n",
       "  <th>Skew:</th>          <td>-1.682</td>  <th>  Prob(JB):          </th> <td>    0.00</td>\n",
       "</tr>\n",
       "<tr>\n",
       "  <th>Kurtosis:</th>      <td>18.040</td>  <th>  Cond. No.          </th> <td>    14.9</td>\n",
       "</tr>\n",
       "</table><br/><br/>Notes:<br/>[1] Standard Errors assume that the covariance matrix of the errors is correctly specified."
      ],
      "text/plain": [
       "<class 'statsmodels.iolib.summary.Summary'>\n",
       "\"\"\"\n",
       "                            OLS Regression Results                            \n",
       "==============================================================================\n",
       "Dep. Variable:                 panier   R-squared:                       0.970\n",
       "Model:                            OLS   Adj. R-squared:                  0.969\n",
       "Method:                 Least Squares   F-statistic:                     798.4\n",
       "Date:                Sun, 13 Nov 2022   Prob (F-statistic):          4.77e-236\n",
       "Time:                        16:24:21   Log-Likelihood:                -620.45\n",
       "No. Observations:                 336   AIC:                             1269.\n",
       "Df Residuals:                     322   BIC:                             1322.\n",
       "Df Model:                          13                                         \n",
       "Covariance Type:            nonrobust                                         \n",
       "========================================================================================\n",
       "                           coef    std err          t      P>|t|      [0.025      0.975]\n",
       "----------------------------------------------------------------------------------------\n",
       "Intercept               40.0058      0.320    125.103      0.000      39.377      40.635\n",
       "Age_tranche[T.25-29]     0.7298      0.452      1.614      0.108      -0.160       1.620\n",
       "Age_tranche[T.30-35]   -23.5523      0.452    -52.079      0.000     -24.442     -22.663\n",
       "Age_tranche[T.36-40]   -26.8199      0.452    -59.304      0.000     -27.710     -25.930\n",
       "Age_tranche[T.41-45]   -26.6922      0.452    -59.022      0.000     -27.582     -25.802\n",
       "Age_tranche[T.46-51]   -26.7923      0.452    -59.243      0.000     -27.682     -25.903\n",
       "Age_tranche[T.52-56]   -23.3152      0.452    -51.555      0.000     -24.205     -22.425\n",
       "Age_tranche[T.57-61]   -23.2817      0.452    -51.480      0.000     -24.171     -22.392\n",
       "Age_tranche[T.62-67]   -23.2397      0.452    -51.388      0.000     -24.129     -22.350\n",
       "Age_tranche[T.68-72]   -23.3812      0.452    -51.701      0.000     -24.271     -22.492\n",
       "Age_tranche[T.73-77]   -23.5471      0.452    -52.067      0.000     -24.437     -22.657\n",
       "Age_tranche[T.78-83]   -23.2678      0.452    -51.450      0.000     -24.158     -22.378\n",
       "Age_tranche[T.84-88]   -23.0152      0.452    -50.891      0.000     -23.905     -22.125\n",
       "Age_tranche[T.89-94]   -23.5052      0.452    -51.975      0.000     -24.395     -22.615\n",
       "==============================================================================\n",
       "Omnibus:                      174.144   Durbin-Watson:                   1.957\n",
       "Prob(Omnibus):                  0.000   Jarque-Bera (JB):             3325.162\n",
       "Skew:                          -1.682   Prob(JB):                         0.00\n",
       "Kurtosis:                      18.040   Cond. No.                         14.9\n",
       "==============================================================================\n",
       "\n",
       "Notes:\n",
       "[1] Standard Errors assume that the covariance matrix of the errors is correctly specified.\n",
       "\"\"\""
      ]
     },
     "execution_count": 199,
     "metadata": {},
     "output_type": "execute_result"
    }
   ],
   "source": [
    "lm_1.summary()"
   ]
  },
  {
   "cell_type": "markdown",
   "id": "e3763b36",
   "metadata": {},
   "source": [
    "Avec un p-value inférieur à 0.05 %, on peut rejeter l'hypothèse H0 et un Eta² de 0.970 indique une forte corrélation entre les variables."
   ]
  },
  {
   "cell_type": "markdown",
   "id": "e9ad9dff",
   "metadata": {},
   "source": [
    "# 4 synthèse"
   ]
  },
  {
   "cell_type": "markdown",
   "id": "bf8a8a97",
   "metadata": {},
   "source": [
    "- il y a légérement plus de femmes que d'hommes (52%)\n",
    "- l'âge moyen des clients est 44 ans\n",
    "- Il y a 3 catégories de produit avec des itervalles de prix bien distincts\n",
    "\n",
    "price categ \n",
    "\n",
    "0 \t11.727280\n",
    "\n",
    "1 \t25.531421\n",
    "\n",
    "2 \t108.354686\n",
    "\n",
    "- les données de test (mise en service du site) ont été retirées de l'analyse \n",
    "- un produit de la catégorie 0 vendu plus de 200 fois ne possède pas de fiche produit. On lui a imputé le prix moyen de 11,7\n",
    "- le chiffre d'affaires total depuis la mise en ligne est de 11,8 millions\n",
    "- 4 clients pros génèrent plus de 7% de ce chiffre d'affaires. Pour pas biaiser les analyses, ces clients particuliers ont été retirés \n",
    "- en octobre 2021, on observe une chutte du CA due à la catégorie 1\n",
    "- les produits de la catégorie 1 sont plus populaires chez les femmes\n",
    "- les produits de la catégorie 2 sont très populaires chez les jeunes\n",
    "- les fréquences d'achat sont plus importantes (2 fois) chez les 30 -50 ans\n",
    "- le panier moyen est plus important chez les jeunes (plus de 2 fois)\n",
    "\n",
    "\n"
   ]
  },
  {
   "cell_type": "code",
   "execution_count": null,
   "id": "b908b84b",
   "metadata": {},
   "outputs": [],
   "source": [
    "temp = df[df.indicator_name=='internet', :]\n",
    "\n",
    "internet = df[df.indicator_name=='internet', \"2020\"]\n",
    "\n",
    "\n",
    "inetenet[inetenet[2020].isna().index, ;] = temp[inetenet[2020].isna().index, \"2019\"]\n",
    "\n"
   ]
  }
 ],
 "metadata": {
  "kernelspec": {
   "display_name": "Python 3.6.8 64-bit",
   "language": "python",
   "name": "python3"
  },
  "language_info": {
   "codemirror_mode": {
    "name": "ipython",
    "version": 3
   },
   "file_extension": ".py",
   "mimetype": "text/x-python",
   "name": "python",
   "nbconvert_exporter": "python",
   "pygments_lexer": "ipython3",
   "version": "3.6.8"
  },
  "vscode": {
   "interpreter": {
    "hash": "29e18ce4b12c9cff9a2ed98fa6e659ce9e155e0c0815e8b765f0a1bc93e16e55"
   }
  }
 },
 "nbformat": 4,
 "nbformat_minor": 5
}
